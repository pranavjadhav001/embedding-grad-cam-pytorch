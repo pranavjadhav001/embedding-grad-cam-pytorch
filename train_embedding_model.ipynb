{
 "cells": [
  {
   "cell_type": "code",
   "execution_count": 1,
   "id": "5ffca082-4e33-4910-bddd-7467769c68a2",
   "metadata": {},
   "outputs": [],
   "source": [
    "import numpy as np\n",
    "import PIL\n",
    "import umap\n",
    "import pandas as pd\n",
    "import json\n",
    "import glob\n",
    "from pytorch_metric_learning import distances, losses, miners, reducers\n",
    "import torch.nn as nn\n",
    "import os\n",
    "import matplotlib.pyplot as plt"
   ]
  },
  {
   "cell_type": "code",
   "execution_count": 2,
   "id": "df805f67-18d4-4f50-a057-90ebe6d234ee",
   "metadata": {},
   "outputs": [],
   "source": [
    "import torch\n",
    "import torchvision\n",
    "from torchvision import models\n",
    "import torch\n",
    "import torch.nn as nn\n",
    "import torch.nn.functional as F\n",
    "import torch.optim as optim\n",
    "from torchvision import datasets, transforms\n",
    "from torch.utils.data.sampler import SubsetRandomSampler\n",
    "from tqdm import tqdm\n",
    "from pytorch_metric_learning import losses, testers\n",
    "from pytorch_metric_learning.utils.accuracy_calculator import AccuracyCalculator\n",
    "from pytorch_metric_learning.distances import LpDistance,CosineSimilarity\n",
    "from pytorch_metric_learning.utils.inference import CustomKNN"
   ]
  },
  {
   "cell_type": "code",
   "execution_count": 3,
   "id": "e1f8f3ef-c0a5-492e-a89e-a126cd3709cc",
   "metadata": {},
   "outputs": [],
   "source": [
    "%matplotlib inline\n",
    "import torch\n",
    "import torch.nn as nn\n",
    "from matplotlib import pyplot as plt\n",
    "import numpy as np\n",
    "import torchvision\n",
    "import torchvision.datasets as datasets\n",
    "import torchvision.models as models\n",
    "from torchvision import transforms\n",
    "import torch.optim as optim\n",
    "import time\n",
    "import tqdm as tqdm\n",
    "from torch.autograd import Variable"
   ]
  },
  {
   "cell_type": "code",
   "execution_count": null,
   "id": "e90d2b46-62b6-4d65-accd-b65666481d53",
   "metadata": {},
   "outputs": [],
   "source": [
    "import wandb\n",
    "import random  # for demo script\n",
    "\n",
    "wandb.login()"
   ]
  },
  {
   "cell_type": "code",
   "execution_count": 5,
   "id": "dfc3914e-3d5f-4c4a-a6d6-6a55ff22c849",
   "metadata": {},
   "outputs": [],
   "source": [
    "config = {\n",
    "    'name':'cub_triplet_loss_epshn_resnet50_sgd_aug',\n",
    "    'dataset':'CUB_200_2011',\n",
    "    'random_seed':42,\n",
    "    'model_architecture':'resnet50',\n",
    "    'embedding_dim':128,\n",
    "    'distance':'cosine',\n",
    "    'image_height':224,\n",
    "    'image_width':224,\n",
    "    'train_test_split':0.2,\n",
    "    'class_split':0.1,\n",
    "    'batch_size':128,\n",
    "    'optimizer':'sgd',\n",
    "    'learning_rate':0.001,\n",
    "    'num_epochs':100,\n",
    "    'loss':'NTXentLoss',\n",
    "    'miner':'epshn',\n",
    "    'reducer':0,\n",
    "    'metric':'precision_at_1',\n",
    "    'model_save_path':'models/cub_triplet_loss_epshn_resnet50_sgd_aug',\n",
    "    'temperature': 0.1\n",
    "}"
   ]
  },
  {
   "cell_type": "code",
   "execution_count": 6,
   "id": "ea1ac4e6-27ce-4223-8633-6c4bb31e07bc",
   "metadata": {},
   "outputs": [
    {
     "data": {
      "application/vnd.jupyter.widget-view+json": {
       "model_id": "bb4655a2b55d4845ad2b07118dfd985c",
       "version_major": 2,
       "version_minor": 0
      },
      "text/plain": [
       "VBox(children=(Label(value='Waiting for wandb.init()...\\r'), FloatProgress(value=0.01111233527777813, max=1.0)…"
      ]
     },
     "metadata": {},
     "output_type": "display_data"
    },
    {
     "data": {
      "text/html": [
       "wandb version 0.16.6 is available!  To upgrade, please run:\n",
       " $ pip install wandb --upgrade"
      ],
      "text/plain": [
       "<IPython.core.display.HTML object>"
      ]
     },
     "metadata": {},
     "output_type": "display_data"
    },
    {
     "data": {
      "text/html": [
       "Tracking run with wandb version 0.16.4"
      ],
      "text/plain": [
       "<IPython.core.display.HTML object>"
      ]
     },
     "metadata": {},
     "output_type": "display_data"
    },
    {
     "data": {
      "text/html": [
       "Run data is saved locally in <code>/embedding_classification/wandb/run-20240424_153701-jxymdca8</code>"
      ],
      "text/plain": [
       "<IPython.core.display.HTML object>"
      ]
     },
     "metadata": {},
     "output_type": "display_data"
    },
    {
     "data": {
      "text/html": [
       "Syncing run <strong><a href='https://wandb.ai/pranavjadhav001/embedding_based_classification/runs/jxymdca8' target=\"_blank\">cub_triplet_loss_epshn_resnet50_sgd_aug</a></strong> to <a href='https://wandb.ai/pranavjadhav001/embedding_based_classification' target=\"_blank\">Weights & Biases</a> (<a href='https://wandb.me/run' target=\"_blank\">docs</a>)<br/>"
      ],
      "text/plain": [
       "<IPython.core.display.HTML object>"
      ]
     },
     "metadata": {},
     "output_type": "display_data"
    },
    {
     "data": {
      "text/html": [
       " View project at <a href='https://wandb.ai/pranavjadhav001/embedding_based_classification' target=\"_blank\">https://wandb.ai/pranavjadhav001/embedding_based_classification</a>"
      ],
      "text/plain": [
       "<IPython.core.display.HTML object>"
      ]
     },
     "metadata": {},
     "output_type": "display_data"
    },
    {
     "data": {
      "text/html": [
       " View run at <a href='https://wandb.ai/pranavjadhav001/embedding_based_classification/runs/jxymdca8' target=\"_blank\">https://wandb.ai/pranavjadhav001/embedding_based_classification/runs/jxymdca8</a>"
      ],
      "text/plain": [
       "<IPython.core.display.HTML object>"
      ]
     },
     "metadata": {},
     "output_type": "display_data"
    },
    {
     "name": "stdout",
     "output_type": "stream",
     "text": [
      "jxymdca8\n"
     ]
    }
   ],
   "source": [
    "id = wandb.util.generate_id()\n",
    "run = wandb.init(\n",
    "    id=id,\n",
    "    name = config['name'],\n",
    "    # Set the project where this run will be logged\n",
    "    project=\"embedding_based_classification\",\n",
    "    # Track hyperparameters and run metadata\n",
    "    config=config,\n",
    "    resume=\"allow\"\n",
    ")\n",
    "print(id)"
   ]
  },
  {
   "cell_type": "code",
   "execution_count": 7,
   "id": "fd54e43e-bcb2-4be5-9f51-1366b8a5cfb6",
   "metadata": {},
   "outputs": [],
   "source": [
    "# Access the run\n",
    "#api = wandb.Api()\n",
    "#run = api.run('pranavjadhav001/embedding_based_classification/0ypuvl4r')"
   ]
  },
  {
   "cell_type": "code",
   "execution_count": 8,
   "id": "2762de2f-b1ec-49ae-bdc8-56ad406334e1",
   "metadata": {},
   "outputs": [],
   "source": [
    "np.random.seed(config['random_seed'])\n",
    "torch.manual_seed(config['random_seed'])\n",
    "torch.cuda.manual_seed(config['random_seed'])\n",
    "torch.backends.cudnn.deterministic = False"
   ]
  },
  {
   "cell_type": "code",
   "execution_count": 18,
   "id": "86a9b19c-f95a-4976-bed3-47cd97da3fbf",
   "metadata": {},
   "outputs": [],
   "source": [
    "# print(models.resnet18())\n",
    "class ResNetFeatrueExtractor50(nn.Module):\n",
    "    def __init__(self, pretrained = True):\n",
    "        super(ResNetFeatrueExtractor50, self).__init__()\n",
    "        self.model = models.resnet50(pretrained=pretrained)\n",
    "        self.model.fc = nn.Linear(2048, config['embedding_dim'])\n",
    "        \n",
    "    def forward(self, x):\n",
    "        x = self.model(x)\n",
    "        return x"
   ]
  },
  {
   "cell_type": "code",
   "execution_count": 20,
   "id": "1d2af52d-f3cf-4fb5-9d46-01d52b7eecd5",
   "metadata": {
    "scrolled": true
   },
   "outputs": [],
   "source": [
    "### MNIST code originally from https://github.com/pytorch/examples/blob/master/mnist/main.py ###\n",
    "def train(model, loss_func,mining_func, device, train_loader, optimizer, epoch):\n",
    "    model.train()\n",
    "    train_losses = []\n",
    "    for batch_idx, (data, labels) in enumerate(train_loader):\n",
    "        data, labels = data.to(device), labels.to(device)\n",
    "        optimizer.zero_grad()\n",
    "        embeddings = model(data)\n",
    "        indices_tuple = mining_func(embeddings, labels)\n",
    "        loss = loss_func(embeddings, labels, indices_tuple)\n",
    "        loss.backward()\n",
    "        optimizer.step()\n",
    "        train_losses.append(loss)\n",
    "        if batch_idx % 100 == 0:\n",
    "            print(\"Epoch {} Iteration {}: Loss = {}\".format(epoch, batch_idx, loss))\n",
    "    return torch.mean(torch.tensor(train_losses)).item()\n",
    "    \n",
    "### convenient function from pytorch-metric-learning ###\n",
    "def get_all_embeddings(dataset, model):\n",
    "    tester = testers.BaseTester(dataloader_num_workers=0)\n",
    "    return tester.get_all_embeddings(dataset, model)\n",
    "\n",
    "### compute accuracy using AccuracyCalculator from pytorch-metric-learning ###\n",
    "def test(train_set, test_set, model, accuracy_calculator):\n",
    "    train_embeddings, train_labels = get_all_embeddings(train_set, model)\n",
    "    test_embeddings, test_labels = get_all_embeddings(test_set, model)\n",
    "    train_labels = train_labels.squeeze(1)\n",
    "    test_labels = test_labels.squeeze(1)\n",
    "    print(\"Computing accuracy\")\n",
    "    accuracies = accuracy_calculator.get_accuracy(\n",
    "        test_embeddings, test_labels, train_embeddings, train_labels, False\n",
    "    )\n",
    "    print(\"Test set accuracy (Precision@1) = {}\".format(accuracies[\"precision_at_1\"]))\n",
    "    return accuracies[\"precision_at_1\"]\n",
    "    \n",
    "device = torch.device(\"cuda\")\n",
    "\n",
    "mean = [0.485, 0.456, 0.406]\n",
    "std = [0.229, 0.224, 0.225]\n",
    "\n",
    "# create train and test transforms\n",
    "transform = transforms.Compose(\n",
    "    [\n",
    "        transforms.Resize((config['image_height'], config['image_width'])),\n",
    "        transforms.ToTensor(),\n",
    "        transforms.Normalize(mean, std),\n",
    "    ]\n",
    ")\n",
    "\n",
    "batch_size = 128"
   ]
  },
  {
   "cell_type": "code",
   "execution_count": 21,
   "id": "74bc7144-4ac1-46af-acb8-abf120dc0312",
   "metadata": {},
   "outputs": [],
   "source": [
    "def tra_transforms(imgsize, RGBmean, RGBstdv):\n",
    "    return transforms.Compose([transforms.Resize(int(imgsize*1.1)),\n",
    "                                 transforms.RandomCrop(imgsize),\n",
    "                                 transforms.RandomHorizontalFlip(),\n",
    "                                 transforms.ToTensor(),\n",
    "                                 transforms.Normalize(RGBmean, RGBstdv)])\n",
    "\n",
    "def eva_transforms(imgsize, RGBmean, RGBstdv):\n",
    "    return transforms.Compose([transforms.Resize(imgsize),\n",
    "                                 transforms.CenterCrop(imgsize),\n",
    "                                 transforms.ToTensor(),\n",
    "                                 transforms.Normalize(RGBmean, RGBstdv)])\n"
   ]
  },
  {
   "cell_type": "code",
   "execution_count": 22,
   "id": "012c1d87-698e-4abe-919e-9050c600673d",
   "metadata": {},
   "outputs": [],
   "source": [
    "train_transform = tra_transforms(224,mean,std)\n",
    "test_transform = eva_transforms(224,mean,std)"
   ]
  },
  {
   "cell_type": "code",
   "execution_count": 23,
   "id": "4edc54cc-56a9-4889-bc86-a2caef18b958",
   "metadata": {},
   "outputs": [],
   "source": [
    "with open('CUB_200_2011/classes.txt','r') as f:\n",
    "    classes = f.readlines()\n",
    "classes = [i.replace('\\n','') for i in classes]\n",
    "classes = [i.split(' ')[1] for i in classes]\n",
    "class_dict = {k:v for k,v in zip(classes,range(200))}"
   ]
  },
  {
   "cell_type": "code",
   "execution_count": 24,
   "id": "565c42ed-11e7-42f1-9bbc-6cc8b089816c",
   "metadata": {},
   "outputs": [],
   "source": [
    "image_paths = []\n",
    "labels = []\n",
    "for folder_path,i in class_dict.items():\n",
    "    folder_images = glob.glob('CUB_200_2011/images/'+'/'+str(folder_path)+'/*')\n",
    "    image_paths.extend(folder_images)\n",
    "    labels.extend([i]*len(folder_images))"
   ]
  },
  {
   "cell_type": "code",
   "execution_count": 25,
   "id": "e3ed0eff-8d29-481e-b7b3-ecd842781f12",
   "metadata": {},
   "outputs": [],
   "source": [
    "from sklearn.model_selection import train_test_split\n",
    "X_train, X_test, y_train, y_test = train_test_split(image_paths, labels, test_size=config['train_test_split'],\n",
    "                                                    stratify=labels,\n",
    "                                                    random_state=config['random_seed'])"
   ]
  },
  {
   "cell_type": "code",
   "execution_count": 26,
   "id": "373894a5-b193-433b-8c42-1d5ac082d312",
   "metadata": {},
   "outputs": [
    {
     "name": "stdout",
     "output_type": "stream",
     "text": [
      "9430 2358 9430 2358\n"
     ]
    }
   ],
   "source": [
    "print(len(X_train), len(X_test), len(y_train), len(y_test))"
   ]
  },
  {
   "cell_type": "code",
   "execution_count": 27,
   "id": "d85fde76-4b7a-4e4e-9207-51596442dc80",
   "metadata": {},
   "outputs": [],
   "source": [
    "import torch\n",
    "from torch.utils.data import Dataset, DataLoader\n",
    "import torchvision.transforms as transforms\n",
    "\n",
    "class CUBDataset(Dataset):\n",
    "    def __init__(self, image_paths,labels,transform=None):\n",
    "        self.image_paths = image_paths\n",
    "        self.labels = labels\n",
    "        self.transform = transform\n",
    "        self.load_image_from_paths()\n",
    "        \n",
    "    def load_image_from_paths(self):\n",
    "        self.images = []\n",
    "        for i in self.image_paths:\n",
    "            img = PIL.Image.open(i)\n",
    "            if len(img.getbands()) ==1 :\n",
    "                img = img.convert(\"RGB\")\n",
    "            self.images.append(img)\n",
    "            \n",
    "    def __len__(self):\n",
    "        return len(self.images)\n",
    "\n",
    "    def __getitem__(self, idx):\n",
    "        image = self.images[idx]\n",
    "        label = self.labels[idx]\n",
    "        if self.transform:\n",
    "            image = self.transform(image)\n",
    "        return image, label"
   ]
  },
  {
   "cell_type": "code",
   "execution_count": 31,
   "id": "27cbe2f3-e65f-4705-bc31-3b382ddd2e59",
   "metadata": {},
   "outputs": [],
   "source": [
    "train_dataset  = CUBDataset(X_train,y_train,train_transform)\n",
    "test_dataset  = CUBDataset(X_test,y_test,test_transform)\n",
    "train_loader = torch.utils.data.DataLoader(train_dataset, batch_size=128, shuffle=True)\n",
    "test_loader = torch.utils.data.DataLoader(test_dataset, batch_size=128, shuffle=False)"
   ]
  },
  {
   "cell_type": "code",
   "execution_count": 28,
   "id": "6f22dd74-3ef4-47d1-a43c-aecc01d59822",
   "metadata": {},
   "outputs": [
    {
     "name": "stderr",
     "output_type": "stream",
     "text": [
      "/opt/conda/lib/python3.10/site-packages/torchvision/models/_utils.py:208: UserWarning: The parameter 'pretrained' is deprecated since 0.13 and may be removed in the future, please use 'weights' instead.\n",
      "  warnings.warn(\n",
      "/opt/conda/lib/python3.10/site-packages/torchvision/models/_utils.py:223: UserWarning: Arguments other than a weight enum or `None` for 'weights' are deprecated since 0.13 and may be removed in the future. The current behavior is equivalent to passing `weights=ResNet50_Weights.IMAGENET1K_V1`. You can also use `weights=ResNet50_Weights.DEFAULT` to get the most up-to-date weights.\n",
      "  warnings.warn(msg)\n"
     ]
    }
   ],
   "source": [
    "model = ResNetFeatrueExtractor50()\n",
    "model = model.to(device)\n",
    "optimizer = optim.SGD(model.parameters(), lr=config['learning_rate'])\n",
    "num_epochs = config['num_epochs']\n",
    "\n",
    "### pytorch-metric-learning stuff ###\n",
    "distance = distances.CosineSimilarity()\n",
    "reducer = reducers.MeanReducer()\n",
    "loss_func = losses.NTXentLoss(temperature=config['temperature'], distance=distance, reducer=reducer)\n",
    "mining_func = miners.BatchEasyHardMiner(pos_strategy=\"easy\",neg_strategy=\"semihard\")\n",
    "knn_func = CustomKNN(CosineSimilarity())\n",
    "accuracy_calculator = AccuracyCalculator(include=(\"precision_at_1\",),k=1,knn_func=knn_func,avg_of_avgs=True,return_per_class=False)"
   ]
  },
  {
   "cell_type": "code",
   "execution_count": 29,
   "id": "d4d15606-5164-4513-b1ff-44d64647a82b",
   "metadata": {},
   "outputs": [
    {
     "data": {
      "text/plain": [
       "[]"
      ]
     },
     "execution_count": 29,
     "metadata": {},
     "output_type": "execute_result"
    }
   ],
   "source": [
    "wandb.watch(model, log='all')"
   ]
  },
  {
   "cell_type": "code",
   "execution_count": 32,
   "id": "e5bb77dd-c3e8-42d8-8074-27b2210cdb77",
   "metadata": {
    "scrolled": true
   },
   "outputs": [
    {
     "name": "stdout",
     "output_type": "stream",
     "text": [
      "Epoch 1 Iteration 0: Loss = 0.6651296615600586\n"
     ]
    },
    {
     "name": "stderr",
     "output_type": "stream",
     "text": [
      "100%|█████████████████████████████████████████████████████████████████████████████████████████████████████| 295/295 [00:21<00:00, 13.97it/s]\n",
      "100%|███████████████████████████████████████████████████████████████████████████████████████████████████████| 74/74 [00:11<00:00,  6.65it/s]\n"
     ]
    },
    {
     "name": "stdout",
     "output_type": "stream",
     "text": [
      "Computing accuracy\n",
      "Test set accuracy (Precision@1) = 0.3679785353535354\n",
      "Epoch 2 Iteration 0: Loss = 0.618576169013977\n"
     ]
    },
    {
     "name": "stderr",
     "output_type": "stream",
     "text": [
      "100%|█████████████████████████████████████████████████████████████████████████████████████████████████████| 295/295 [00:21<00:00, 13.95it/s]\n",
      "100%|███████████████████████████████████████████████████████████████████████████████████████████████████████| 74/74 [00:04<00:00, 14.82it/s]\n"
     ]
    },
    {
     "name": "stdout",
     "output_type": "stream",
     "text": [
      "Computing accuracy\n",
      "Test set accuracy (Precision@1) = 0.4312171717171717\n",
      "Epoch 3 Iteration 0: Loss = 0.5853459239006042\n"
     ]
    },
    {
     "name": "stderr",
     "output_type": "stream",
     "text": [
      "100%|█████████████████████████████████████████████████████████████████████████████████████████████████████| 295/295 [00:21<00:00, 13.89it/s]\n",
      "100%|███████████████████████████████████████████████████████████████████████████████████████████████████████| 74/74 [00:04<00:00, 14.81it/s]\n"
     ]
    },
    {
     "name": "stdout",
     "output_type": "stream",
     "text": [
      "Computing accuracy\n",
      "Test set accuracy (Precision@1) = 0.47258207070707076\n",
      "Epoch 4 Iteration 0: Loss = 0.5123884081840515\n"
     ]
    },
    {
     "name": "stderr",
     "output_type": "stream",
     "text": [
      "100%|█████████████████████████████████████████████████████████████████████████████████████████████████████| 295/295 [00:21<00:00, 13.91it/s]\n",
      "100%|███████████████████████████████████████████████████████████████████████████████████████████████████████| 74/74 [00:05<00:00, 14.41it/s]\n"
     ]
    },
    {
     "name": "stdout",
     "output_type": "stream",
     "text": [
      "Computing accuracy\n",
      "Test set accuracy (Precision@1) = 0.48361363636363636\n",
      "Epoch 5 Iteration 0: Loss = 0.5078730583190918\n"
     ]
    },
    {
     "name": "stderr",
     "output_type": "stream",
     "text": [
      "100%|█████████████████████████████████████████████████████████████████████████████████████████████████████| 295/295 [00:21<00:00, 13.99it/s]\n",
      "100%|███████████████████████████████████████████████████████████████████████████████████████████████████████| 74/74 [00:04<00:00, 14.85it/s]\n"
     ]
    },
    {
     "name": "stdout",
     "output_type": "stream",
     "text": [
      "Computing accuracy\n",
      "Test set accuracy (Precision@1) = 0.526510101010101\n",
      "Epoch 6 Iteration 0: Loss = 0.4536278247833252\n"
     ]
    },
    {
     "name": "stderr",
     "output_type": "stream",
     "text": [
      "100%|█████████████████████████████████████████████████████████████████████████████████████████████████████| 295/295 [00:21<00:00, 14.02it/s]\n",
      "100%|███████████████████████████████████████████████████████████████████████████████████████████████████████| 74/74 [00:04<00:00, 15.04it/s]\n"
     ]
    },
    {
     "name": "stdout",
     "output_type": "stream",
     "text": [
      "Computing accuracy\n",
      "Test set accuracy (Precision@1) = 0.5442335858585859\n",
      "Epoch 7 Iteration 0: Loss = 0.5163235068321228\n"
     ]
    },
    {
     "name": "stderr",
     "output_type": "stream",
     "text": [
      "100%|█████████████████████████████████████████████████████████████████████████████████████████████████████| 295/295 [00:20<00:00, 14.05it/s]\n",
      "100%|███████████████████████████████████████████████████████████████████████████████████████████████████████| 74/74 [00:04<00:00, 14.89it/s]\n"
     ]
    },
    {
     "name": "stdout",
     "output_type": "stream",
     "text": [
      "Computing accuracy\n",
      "Test set accuracy (Precision@1) = 0.555760101010101\n",
      "Epoch 8 Iteration 0: Loss = 0.45309436321258545\n"
     ]
    },
    {
     "name": "stderr",
     "output_type": "stream",
     "text": [
      "100%|█████████████████████████████████████████████████████████████████████████████████████████████████████| 295/295 [00:20<00:00, 14.15it/s]\n",
      "100%|███████████████████████████████████████████████████████████████████████████████████████████████████████| 74/74 [00:04<00:00, 15.07it/s]\n"
     ]
    },
    {
     "name": "stdout",
     "output_type": "stream",
     "text": [
      "Computing accuracy\n",
      "Test set accuracy (Precision@1) = 0.5649936868686869\n",
      "Epoch 9 Iteration 0: Loss = 0.51678466796875\n"
     ]
    },
    {
     "name": "stderr",
     "output_type": "stream",
     "text": [
      "100%|█████████████████████████████████████████████████████████████████████████████████████████████████████| 295/295 [00:20<00:00, 14.12it/s]\n",
      "100%|███████████████████████████████████████████████████████████████████████████████████████████████████████| 74/74 [00:04<00:00, 14.97it/s]\n"
     ]
    },
    {
     "name": "stdout",
     "output_type": "stream",
     "text": [
      "Computing accuracy\n",
      "Test set accuracy (Precision@1) = 0.5860883838383839\n",
      "Epoch 10 Iteration 0: Loss = 0.48791924118995667\n"
     ]
    },
    {
     "name": "stderr",
     "output_type": "stream",
     "text": [
      "100%|█████████████████████████████████████████████████████████████████████████████████████████████████████| 295/295 [00:20<00:00, 14.14it/s]\n",
      "100%|███████████████████████████████████████████████████████████████████████████████████████████████████████| 74/74 [00:04<00:00, 15.08it/s]\n"
     ]
    },
    {
     "name": "stdout",
     "output_type": "stream",
     "text": [
      "Computing accuracy\n",
      "Test set accuracy (Precision@1) = 0.5924406565656567\n",
      "Epoch 11 Iteration 0: Loss = 0.4090181589126587\n"
     ]
    },
    {
     "name": "stderr",
     "output_type": "stream",
     "text": [
      "100%|█████████████████████████████████████████████████████████████████████████████████████████████████████| 295/295 [00:20<00:00, 14.16it/s]\n",
      "100%|███████████████████████████████████████████████████████████████████████████████████████████████████████| 74/74 [00:04<00:00, 15.01it/s]\n"
     ]
    },
    {
     "name": "stdout",
     "output_type": "stream",
     "text": [
      "Computing accuracy\n",
      "Test set accuracy (Precision@1) = 0.5944040404040405\n",
      "Epoch 12 Iteration 0: Loss = 0.4376058280467987\n"
     ]
    },
    {
     "name": "stderr",
     "output_type": "stream",
     "text": [
      "100%|█████████████████████████████████████████████████████████████████████████████████████████████████████| 295/295 [00:21<00:00, 14.05it/s]\n",
      "100%|███████████████████████████████████████████████████████████████████████████████████████████████████████| 74/74 [00:04<00:00, 14.94it/s]\n"
     ]
    },
    {
     "name": "stdout",
     "output_type": "stream",
     "text": [
      "Computing accuracy\n",
      "Test set accuracy (Precision@1) = 0.6100656565656566\n",
      "Epoch 13 Iteration 0: Loss = 0.4263627231121063\n"
     ]
    },
    {
     "name": "stderr",
     "output_type": "stream",
     "text": [
      "100%|█████████████████████████████████████████████████████████████████████████████████████████████████████| 295/295 [00:20<00:00, 14.16it/s]\n",
      "100%|███████████████████████████████████████████████████████████████████████████████████████████████████████| 74/74 [00:04<00:00, 15.03it/s]\n"
     ]
    },
    {
     "name": "stdout",
     "output_type": "stream",
     "text": [
      "Computing accuracy\n",
      "Test set accuracy (Precision@1) = 0.6147525252525253\n",
      "Epoch 14 Iteration 0: Loss = 0.42763763666152954\n"
     ]
    },
    {
     "name": "stderr",
     "output_type": "stream",
     "text": [
      "100%|█████████████████████████████████████████████████████████████████████████████████████████████████████| 295/295 [00:20<00:00, 14.07it/s]\n",
      "100%|███████████████████████████████████████████████████████████████████████████████████████████████████████| 74/74 [00:04<00:00, 14.99it/s]\n"
     ]
    },
    {
     "name": "stdout",
     "output_type": "stream",
     "text": [
      "Computing accuracy\n",
      "Test set accuracy (Precision@1) = 0.6182310606060606\n",
      "Epoch 15 Iteration 0: Loss = 0.3872129023075104\n"
     ]
    },
    {
     "name": "stderr",
     "output_type": "stream",
     "text": [
      "100%|█████████████████████████████████████████████████████████████████████████████████████████████████████| 295/295 [00:21<00:00, 13.91it/s]\n",
      "100%|███████████████████████████████████████████████████████████████████████████████████████████████████████| 74/74 [00:04<00:00, 15.05it/s]\n"
     ]
    },
    {
     "name": "stdout",
     "output_type": "stream",
     "text": [
      "Computing accuracy\n",
      "Test set accuracy (Precision@1) = 0.6240025252525253\n",
      "Epoch 16 Iteration 0: Loss = 0.3861611783504486\n"
     ]
    },
    {
     "name": "stderr",
     "output_type": "stream",
     "text": [
      "100%|█████████████████████████████████████████████████████████████████████████████████████████████████████| 295/295 [00:20<00:00, 14.18it/s]\n",
      "100%|███████████████████████████████████████████████████████████████████████████████████████████████████████| 74/74 [00:04<00:00, 15.10it/s]\n"
     ]
    },
    {
     "name": "stdout",
     "output_type": "stream",
     "text": [
      "Computing accuracy\n",
      "Test set accuracy (Precision@1) = 0.6371540404040404\n",
      "Epoch 17 Iteration 0: Loss = 0.4807533025741577\n"
     ]
    },
    {
     "name": "stderr",
     "output_type": "stream",
     "text": [
      "100%|█████████████████████████████████████████████████████████████████████████████████████████████████████| 295/295 [00:20<00:00, 14.20it/s]\n",
      "100%|███████████████████████████████████████████████████████████████████████████████████████████████████████| 74/74 [00:04<00:00, 15.19it/s]\n"
     ]
    },
    {
     "name": "stdout",
     "output_type": "stream",
     "text": [
      "Computing accuracy\n",
      "Test set accuracy (Precision@1) = 0.6223320707070706\n",
      "Epoch 18 Iteration 0: Loss = 0.4462408721446991\n"
     ]
    },
    {
     "name": "stderr",
     "output_type": "stream",
     "text": [
      "100%|█████████████████████████████████████████████████████████████████████████████████████████████████████| 295/295 [00:20<00:00, 14.25it/s]\n",
      "100%|███████████████████████████████████████████████████████████████████████████████████████████████████████| 74/74 [00:04<00:00, 15.13it/s]\n"
     ]
    },
    {
     "name": "stdout",
     "output_type": "stream",
     "text": [
      "Computing accuracy\n",
      "Test set accuracy (Precision@1) = 0.6467070707070707\n",
      "Epoch 19 Iteration 0: Loss = 0.4042377769947052\n"
     ]
    },
    {
     "name": "stderr",
     "output_type": "stream",
     "text": [
      "100%|█████████████████████████████████████████████████████████████████████████████████████████████████████| 295/295 [00:20<00:00, 14.19it/s]\n",
      "100%|███████████████████████████████████████████████████████████████████████████████████████████████████████| 74/74 [00:04<00:00, 15.07it/s]\n"
     ]
    },
    {
     "name": "stdout",
     "output_type": "stream",
     "text": [
      "Computing accuracy\n",
      "Test set accuracy (Precision@1) = 0.6492954545454547\n",
      "Epoch 20 Iteration 0: Loss = 0.4007735252380371\n"
     ]
    },
    {
     "name": "stderr",
     "output_type": "stream",
     "text": [
      "100%|█████████████████████████████████████████████████████████████████████████████████████████████████████| 295/295 [00:20<00:00, 14.20it/s]\n",
      "100%|███████████████████████████████████████████████████████████████████████████████████████████████████████| 74/74 [00:04<00:00, 14.85it/s]\n"
     ]
    },
    {
     "name": "stdout",
     "output_type": "stream",
     "text": [
      "Computing accuracy\n",
      "Test set accuracy (Precision@1) = 0.6424608585858588\n",
      "Epoch 21 Iteration 0: Loss = 0.3786352276802063\n"
     ]
    },
    {
     "name": "stderr",
     "output_type": "stream",
     "text": [
      "100%|█████████████████████████████████████████████████████████████████████████████████████████████████████| 295/295 [00:20<00:00, 14.13it/s]\n",
      "100%|███████████████████████████████████████████████████████████████████████████████████████████████████████| 74/74 [00:04<00:00, 14.93it/s]\n"
     ]
    },
    {
     "name": "stdout",
     "output_type": "stream",
     "text": [
      "Computing accuracy\n",
      "Test set accuracy (Precision@1) = 0.6476691919191919\n",
      "Epoch 22 Iteration 0: Loss = 0.41879579424858093\n"
     ]
    },
    {
     "name": "stderr",
     "output_type": "stream",
     "text": [
      "100%|█████████████████████████████████████████████████████████████████████████████████████████████████████| 295/295 [00:20<00:00, 14.19it/s]\n",
      "100%|███████████████████████████████████████████████████████████████████████████████████████████████████████| 74/74 [00:04<00:00, 15.10it/s]\n"
     ]
    },
    {
     "name": "stdout",
     "output_type": "stream",
     "text": [
      "Computing accuracy\n",
      "Test set accuracy (Precision@1) = 0.6720353535353536\n",
      "Epoch 23 Iteration 0: Loss = 0.3564370274543762\n"
     ]
    },
    {
     "name": "stderr",
     "output_type": "stream",
     "text": [
      "100%|█████████████████████████████████████████████████████████████████████████████████████████████████████| 295/295 [00:20<00:00, 14.12it/s]\n",
      "100%|███████████████████████████████████████████████████████████████████████████████████████████████████████| 74/74 [00:04<00:00, 15.07it/s]\n"
     ]
    },
    {
     "name": "stdout",
     "output_type": "stream",
     "text": [
      "Computing accuracy\n",
      "Test set accuracy (Precision@1) = 0.6631161616161616\n",
      "Epoch 24 Iteration 0: Loss = 0.4186341166496277\n"
     ]
    },
    {
     "name": "stderr",
     "output_type": "stream",
     "text": [
      "100%|█████████████████████████████████████████████████████████████████████████████████████████████████████| 295/295 [00:20<00:00, 14.23it/s]\n",
      "100%|███████████████████████████████████████████████████████████████████████████████████████████████████████| 74/74 [00:04<00:00, 15.05it/s]\n"
     ]
    },
    {
     "name": "stdout",
     "output_type": "stream",
     "text": [
      "Computing accuracy\n",
      "Test set accuracy (Precision@1) = 0.6639671717171717\n",
      "Epoch 25 Iteration 0: Loss = 0.4340117275714874\n"
     ]
    },
    {
     "name": "stderr",
     "output_type": "stream",
     "text": [
      "100%|█████████████████████████████████████████████████████████████████████████████████████████████████████| 295/295 [00:20<00:00, 14.13it/s]\n",
      "100%|███████████████████████████████████████████████████████████████████████████████████████████████████████| 74/74 [00:04<00:00, 15.05it/s]\n"
     ]
    },
    {
     "name": "stdout",
     "output_type": "stream",
     "text": [
      "Computing accuracy\n",
      "Test set accuracy (Precision@1) = 0.6706212121212122\n",
      "Epoch 26 Iteration 0: Loss = 0.341219961643219\n"
     ]
    },
    {
     "name": "stderr",
     "output_type": "stream",
     "text": [
      "100%|█████████████████████████████████████████████████████████████████████████████████████████████████████| 295/295 [00:20<00:00, 14.30it/s]\n",
      "100%|███████████████████████████████████████████████████████████████████████████████████████████████████████| 74/74 [00:04<00:00, 15.01it/s]\n"
     ]
    },
    {
     "name": "stdout",
     "output_type": "stream",
     "text": [
      "Computing accuracy\n",
      "Test set accuracy (Precision@1) = 0.6814002525252525\n",
      "Epoch 27 Iteration 0: Loss = 0.3820091784000397\n"
     ]
    },
    {
     "name": "stderr",
     "output_type": "stream",
     "text": [
      "100%|█████████████████████████████████████████████████████████████████████████████████████████████████████| 295/295 [00:20<00:00, 14.29it/s]\n",
      "100%|███████████████████████████████████████████████████████████████████████████████████████████████████████| 74/74 [00:04<00:00, 15.08it/s]\n"
     ]
    },
    {
     "name": "stdout",
     "output_type": "stream",
     "text": [
      "Computing accuracy\n",
      "Test set accuracy (Precision@1) = 0.6759949494949495\n",
      "Epoch 28 Iteration 0: Loss = 0.374181866645813\n"
     ]
    },
    {
     "name": "stderr",
     "output_type": "stream",
     "text": [
      "100%|█████████████████████████████████████████████████████████████████████████████████████████████████████| 295/295 [00:20<00:00, 14.25it/s]\n",
      "100%|███████████████████████████████████████████████████████████████████████████████████████████████████████| 74/74 [00:04<00:00, 15.11it/s]\n"
     ]
    },
    {
     "name": "stdout",
     "output_type": "stream",
     "text": [
      "Computing accuracy\n",
      "Test set accuracy (Precision@1) = 0.6759936868686869\n",
      "Epoch 29 Iteration 0: Loss = 0.35798177123069763\n"
     ]
    },
    {
     "name": "stderr",
     "output_type": "stream",
     "text": [
      "100%|█████████████████████████████████████████████████████████████████████████████████████████████████████| 295/295 [00:20<00:00, 14.31it/s]\n",
      "100%|███████████████████████████████████████████████████████████████████████████████████████████████████████| 74/74 [00:04<00:00, 15.07it/s]\n"
     ]
    },
    {
     "name": "stdout",
     "output_type": "stream",
     "text": [
      "Computing accuracy\n",
      "Test set accuracy (Precision@1) = 0.6848977272727274\n",
      "Epoch 30 Iteration 0: Loss = 0.38598763942718506\n"
     ]
    },
    {
     "name": "stderr",
     "output_type": "stream",
     "text": [
      "100%|█████████████████████████████████████████████████████████████████████████████████████████████████████| 295/295 [00:20<00:00, 14.17it/s]\n",
      "100%|███████████████████████████████████████████████████████████████████████████████████████████████████████| 74/74 [00:04<00:00, 15.20it/s]\n"
     ]
    },
    {
     "name": "stdout",
     "output_type": "stream",
     "text": [
      "Computing accuracy\n",
      "Test set accuracy (Precision@1) = 0.680854797979798\n",
      "Epoch 31 Iteration 0: Loss = 0.33526453375816345\n"
     ]
    },
    {
     "name": "stderr",
     "output_type": "stream",
     "text": [
      "100%|█████████████████████████████████████████████████████████████████████████████████████████████████████| 295/295 [00:20<00:00, 14.28it/s]\n",
      "100%|███████████████████████████████████████████████████████████████████████████████████████████████████████| 74/74 [00:04<00:00, 15.01it/s]\n"
     ]
    },
    {
     "name": "stdout",
     "output_type": "stream",
     "text": [
      "Computing accuracy\n",
      "Test set accuracy (Precision@1) = 0.6875429292929293\n",
      "Epoch 32 Iteration 0: Loss = 0.34618622064590454\n"
     ]
    },
    {
     "name": "stderr",
     "output_type": "stream",
     "text": [
      "100%|█████████████████████████████████████████████████████████████████████████████████████████████████████| 295/295 [00:20<00:00, 14.18it/s]\n",
      "100%|███████████████████████████████████████████████████████████████████████████████████████████████████████| 74/74 [00:04<00:00, 15.18it/s]\n"
     ]
    },
    {
     "name": "stdout",
     "output_type": "stream",
     "text": [
      "Computing accuracy\n",
      "Test set accuracy (Precision@1) = 0.6854785353535354\n",
      "Epoch 33 Iteration 0: Loss = 0.30922216176986694\n"
     ]
    },
    {
     "name": "stderr",
     "output_type": "stream",
     "text": [
      "100%|█████████████████████████████████████████████████████████████████████████████████████████████████████| 295/295 [00:20<00:00, 14.30it/s]\n",
      "100%|███████████████████████████████████████████████████████████████████████████████████████████████████████| 74/74 [00:04<00:00, 15.10it/s]\n"
     ]
    },
    {
     "name": "stdout",
     "output_type": "stream",
     "text": [
      "Computing accuracy\n",
      "Test set accuracy (Precision@1) = 0.6898308080808081\n",
      "Epoch 34 Iteration 0: Loss = 0.34461846947669983\n"
     ]
    },
    {
     "name": "stderr",
     "output_type": "stream",
     "text": [
      "100%|█████████████████████████████████████████████████████████████████████████████████████████████████████| 295/295 [00:20<00:00, 14.29it/s]\n",
      "100%|███████████████████████████████████████████████████████████████████████████████████████████████████████| 74/74 [00:05<00:00, 14.75it/s]\n"
     ]
    },
    {
     "name": "stdout",
     "output_type": "stream",
     "text": [
      "Computing accuracy\n",
      "Test set accuracy (Precision@1) = 0.7048611111111112\n",
      "Epoch 35 Iteration 0: Loss = 0.3900423049926758\n"
     ]
    },
    {
     "name": "stderr",
     "output_type": "stream",
     "text": [
      "100%|█████████████████████████████████████████████████████████████████████████████████████████████████████| 295/295 [00:20<00:00, 14.23it/s]\n",
      "100%|███████████████████████████████████████████████████████████████████████████████████████████████████████| 74/74 [00:04<00:00, 15.19it/s]\n"
     ]
    },
    {
     "name": "stdout",
     "output_type": "stream",
     "text": [
      "Computing accuracy\n",
      "Test set accuracy (Precision@1) = 0.6907209595959597\n",
      "Epoch 36 Iteration 0: Loss = 0.3719434440135956\n"
     ]
    },
    {
     "name": "stderr",
     "output_type": "stream",
     "text": [
      "100%|█████████████████████████████████████████████████████████████████████████████████████████████████████| 295/295 [00:20<00:00, 14.21it/s]\n",
      "100%|███████████████████████████████████████████████████████████████████████████████████████████████████████| 74/74 [00:04<00:00, 14.95it/s]\n"
     ]
    },
    {
     "name": "stdout",
     "output_type": "stream",
     "text": [
      "Computing accuracy\n",
      "Test set accuracy (Precision@1) = 0.7003851010101011\n",
      "Epoch 37 Iteration 0: Loss = 0.4144594371318817\n"
     ]
    },
    {
     "name": "stderr",
     "output_type": "stream",
     "text": [
      "100%|█████████████████████████████████████████████████████████████████████████████████████████████████████| 295/295 [00:20<00:00, 14.27it/s]\n",
      "100%|███████████████████████████████████████████████████████████████████████████████████████████████████████| 74/74 [00:04<00:00, 15.13it/s]\n"
     ]
    },
    {
     "name": "stdout",
     "output_type": "stream",
     "text": [
      "Computing accuracy\n",
      "Test set accuracy (Precision@1) = 0.6985555555555556\n",
      "Epoch 38 Iteration 0: Loss = 0.2936933636665344\n"
     ]
    },
    {
     "name": "stderr",
     "output_type": "stream",
     "text": [
      "100%|█████████████████████████████████████████████████████████████████████████████████████████████████████| 295/295 [00:20<00:00, 14.25it/s]\n",
      "100%|███████████████████████████████████████████████████████████████████████████████████████████████████████| 74/74 [00:04<00:00, 15.08it/s]\n"
     ]
    },
    {
     "name": "stdout",
     "output_type": "stream",
     "text": [
      "Computing accuracy\n",
      "Test set accuracy (Precision@1) = 0.7117689393939395\n",
      "Epoch 39 Iteration 0: Loss = 0.323668509721756\n"
     ]
    },
    {
     "name": "stderr",
     "output_type": "stream",
     "text": [
      "100%|█████████████████████████████████████████████████████████████████████████████████████████████████████| 295/295 [00:20<00:00, 14.15it/s]\n",
      "100%|███████████████████████████████████████████████████████████████████████████████████████████████████████| 74/74 [00:04<00:00, 15.10it/s]\n"
     ]
    },
    {
     "name": "stdout",
     "output_type": "stream",
     "text": [
      "Computing accuracy\n",
      "Test set accuracy (Precision@1) = 0.705354797979798\n",
      "Epoch 40 Iteration 0: Loss = 0.3470830023288727\n"
     ]
    },
    {
     "name": "stderr",
     "output_type": "stream",
     "text": [
      "100%|█████████████████████████████████████████████████████████████████████████████████████████████████████| 295/295 [00:20<00:00, 14.28it/s]\n",
      "100%|███████████████████████████████████████████████████████████████████████████████████████████████████████| 74/74 [00:04<00:00, 15.13it/s]\n"
     ]
    },
    {
     "name": "stdout",
     "output_type": "stream",
     "text": [
      "Computing accuracy\n",
      "Test set accuracy (Precision@1) = 0.7018547979797981\n",
      "Epoch 41 Iteration 0: Loss = 0.33858779072761536\n"
     ]
    },
    {
     "name": "stderr",
     "output_type": "stream",
     "text": [
      "100%|█████████████████████████████████████████████████████████████████████████████████████████████████████| 295/295 [00:20<00:00, 14.13it/s]\n",
      "100%|███████████████████████████████████████████████████████████████████████████████████████████████████████| 74/74 [00:04<00:00, 14.99it/s]\n"
     ]
    },
    {
     "name": "stdout",
     "output_type": "stream",
     "text": [
      "Computing accuracy\n",
      "Test set accuracy (Precision@1) = 0.6966603535353536\n",
      "Epoch 42 Iteration 0: Loss = 0.34104180335998535\n"
     ]
    },
    {
     "name": "stderr",
     "output_type": "stream",
     "text": [
      "100%|█████████████████████████████████████████████████████████████████████████████████████████████████████| 295/295 [00:20<00:00, 14.18it/s]\n",
      "100%|███████████████████████████████████████████████████████████████████████████████████████████████████████| 74/74 [00:04<00:00, 15.06it/s]\n"
     ]
    },
    {
     "name": "stdout",
     "output_type": "stream",
     "text": [
      "Computing accuracy\n",
      "Test set accuracy (Precision@1) = 0.7020378787878788\n",
      "Epoch 43 Iteration 0: Loss = 0.35935506224632263\n"
     ]
    },
    {
     "name": "stderr",
     "output_type": "stream",
     "text": [
      "100%|█████████████████████████████████████████████████████████████████████████████████████████████████████| 295/295 [00:20<00:00, 14.31it/s]\n",
      "100%|███████████████████████████████████████████████████████████████████████████████████████████████████████| 74/74 [00:05<00:00, 14.66it/s]\n"
     ]
    },
    {
     "name": "stdout",
     "output_type": "stream",
     "text": [
      "Computing accuracy\n",
      "Test set accuracy (Precision@1) = 0.7028484848484848\n",
      "Epoch 44 Iteration 0: Loss = 0.3613545000553131\n"
     ]
    },
    {
     "name": "stderr",
     "output_type": "stream",
     "text": [
      "100%|█████████████████████████████████████████████████████████████████████████████████████████████████████| 295/295 [00:20<00:00, 14.27it/s]\n",
      "100%|███████████████████████████████████████████████████████████████████████████████████████████████████████| 74/74 [00:04<00:00, 15.22it/s]\n"
     ]
    },
    {
     "name": "stdout",
     "output_type": "stream",
     "text": [
      "Computing accuracy\n",
      "Test set accuracy (Precision@1) = 0.721375\n",
      "Epoch 45 Iteration 0: Loss = 0.3245846629142761\n"
     ]
    },
    {
     "name": "stderr",
     "output_type": "stream",
     "text": [
      "100%|█████████████████████████████████████████████████████████████████████████████████████████████████████| 295/295 [00:20<00:00, 14.22it/s]\n",
      "100%|███████████████████████████████████████████████████████████████████████████████████████████████████████| 74/74 [00:04<00:00, 15.13it/s]\n"
     ]
    },
    {
     "name": "stdout",
     "output_type": "stream",
     "text": [
      "Computing accuracy\n",
      "Test set accuracy (Precision@1) = 0.7202007575757577\n",
      "Epoch 46 Iteration 0: Loss = 0.3181719183921814\n"
     ]
    },
    {
     "name": "stderr",
     "output_type": "stream",
     "text": [
      "100%|█████████████████████████████████████████████████████████████████████████████████████████████████████| 295/295 [00:20<00:00, 14.22it/s]\n",
      "100%|███████████████████████████████████████████████████████████████████████████████████████████████████████| 74/74 [00:04<00:00, 15.25it/s]\n"
     ]
    },
    {
     "name": "stdout",
     "output_type": "stream",
     "text": [
      "Computing accuracy\n",
      "Test set accuracy (Precision@1) = 0.7115719696969697\n",
      "Epoch 47 Iteration 0: Loss = 0.321899950504303\n"
     ]
    },
    {
     "name": "stderr",
     "output_type": "stream",
     "text": [
      "100%|█████████████████████████████████████████████████████████████████████████████████████████████████████| 295/295 [00:20<00:00, 14.25it/s]\n",
      "100%|███████████████████████████████████████████████████████████████████████████████████████████████████████| 74/74 [00:04<00:00, 15.07it/s]\n"
     ]
    },
    {
     "name": "stdout",
     "output_type": "stream",
     "text": [
      "Computing accuracy\n",
      "Test set accuracy (Precision@1) = 0.7155328282828282\n",
      "Epoch 48 Iteration 0: Loss = 0.2642868459224701\n"
     ]
    },
    {
     "name": "stderr",
     "output_type": "stream",
     "text": [
      "100%|█████████████████████████████████████████████████████████████████████████████████████████████████████| 295/295 [00:20<00:00, 14.14it/s]\n",
      "100%|███████████████████████████████████████████████████████████████████████████████████████████████████████| 74/74 [00:04<00:00, 15.17it/s]\n"
     ]
    },
    {
     "name": "stdout",
     "output_type": "stream",
     "text": [
      "Computing accuracy\n",
      "Test set accuracy (Precision@1) = 0.7237108585858586\n",
      "Epoch 49 Iteration 0: Loss = 0.33680659532546997\n"
     ]
    },
    {
     "name": "stderr",
     "output_type": "stream",
     "text": [
      "100%|█████████████████████████████████████████████████████████████████████████████████████████████████████| 295/295 [00:20<00:00, 14.30it/s]\n",
      "100%|███████████████████████████████████████████████████████████████████████████████████████████████████████| 74/74 [00:04<00:00, 15.14it/s]\n"
     ]
    },
    {
     "name": "stdout",
     "output_type": "stream",
     "text": [
      "Computing accuracy\n",
      "Test set accuracy (Precision@1) = 0.7201944444444445\n",
      "Epoch 50 Iteration 0: Loss = 0.3485245108604431\n"
     ]
    },
    {
     "name": "stderr",
     "output_type": "stream",
     "text": [
      "100%|█████████████████████████████████████████████████████████████████████████████████████████████████████| 295/295 [00:20<00:00, 14.19it/s]\n",
      "100%|███████████████████████████████████████████████████████████████████████████████████████████████████████| 74/74 [00:04<00:00, 15.01it/s]\n"
     ]
    },
    {
     "name": "stdout",
     "output_type": "stream",
     "text": [
      "Computing accuracy\n",
      "Test set accuracy (Precision@1) = 0.7215618686868688\n",
      "Epoch 51 Iteration 0: Loss = 0.33453160524368286\n"
     ]
    },
    {
     "name": "stderr",
     "output_type": "stream",
     "text": [
      "100%|█████████████████████████████████████████████████████████████████████████████████████████████████████| 295/295 [00:20<00:00, 14.22it/s]\n",
      "100%|███████████████████████████████████████████████████████████████████████████████████████████████████████| 74/74 [00:04<00:00, 15.10it/s]\n"
     ]
    },
    {
     "name": "stdout",
     "output_type": "stream",
     "text": [
      "Computing accuracy\n",
      "Test set accuracy (Precision@1) = 0.7179330808080807\n",
      "Epoch 52 Iteration 0: Loss = 0.3164248466491699\n"
     ]
    },
    {
     "name": "stderr",
     "output_type": "stream",
     "text": [
      "100%|█████████████████████████████████████████████████████████████████████████████████████████████████████| 295/295 [00:20<00:00, 14.30it/s]\n",
      "100%|███████████████████████████████████████████████████████████████████████████████████████████████████████| 74/74 [00:05<00:00, 14.79it/s]\n"
     ]
    },
    {
     "name": "stdout",
     "output_type": "stream",
     "text": [
      "Computing accuracy\n",
      "Test set accuracy (Precision@1) = 0.7238042929292928\n",
      "Epoch 53 Iteration 0: Loss = 0.3015287518501282\n"
     ]
    },
    {
     "name": "stderr",
     "output_type": "stream",
     "text": [
      "100%|█████████████████████████████████████████████████████████████████████████████████████████████████████| 295/295 [00:20<00:00, 14.32it/s]\n",
      "100%|███████████████████████████████████████████████████████████████████████████████████████████████████████| 74/74 [00:04<00:00, 15.21it/s]\n"
     ]
    },
    {
     "name": "stdout",
     "output_type": "stream",
     "text": [
      "Computing accuracy\n",
      "Test set accuracy (Precision@1) = 0.730669191919192\n",
      "Epoch 54 Iteration 0: Loss = 0.28858575224876404\n"
     ]
    },
    {
     "name": "stderr",
     "output_type": "stream",
     "text": [
      "100%|█████████████████████████████████████████████████████████████████████████████████████████████████████| 295/295 [00:20<00:00, 14.25it/s]\n",
      "100%|███████████████████████████████████████████████████████████████████████████████████████████████████████| 74/74 [00:04<00:00, 15.11it/s]\n"
     ]
    },
    {
     "name": "stdout",
     "output_type": "stream",
     "text": [
      "Computing accuracy\n",
      "Test set accuracy (Precision@1) = 0.7303497474747475\n",
      "Epoch 55 Iteration 0: Loss = 0.27687808871269226\n"
     ]
    },
    {
     "name": "stderr",
     "output_type": "stream",
     "text": [
      "100%|█████████████████████████████████████████████████████████████████████████████████████████████████████| 295/295 [00:20<00:00, 14.09it/s]\n",
      "100%|███████████████████████████████████████████████████████████████████████████████████████████████████████| 74/74 [00:04<00:00, 15.13it/s]\n"
     ]
    },
    {
     "name": "stdout",
     "output_type": "stream",
     "text": [
      "Computing accuracy\n",
      "Test set accuracy (Precision@1) = 0.7251805555555555\n",
      "Epoch 56 Iteration 0: Loss = 0.3096427619457245\n"
     ]
    },
    {
     "name": "stderr",
     "output_type": "stream",
     "text": [
      "100%|█████████████████████████████████████████████████████████████████████████████████████████████████████| 295/295 [00:20<00:00, 14.28it/s]\n",
      "100%|███████████████████████████████████████████████████████████████████████████████████████████████████████| 74/74 [00:04<00:00, 15.18it/s]\n"
     ]
    },
    {
     "name": "stdout",
     "output_type": "stream",
     "text": [
      "Computing accuracy\n",
      "Test set accuracy (Precision@1) = 0.7304886363636364\n",
      "Epoch 57 Iteration 0: Loss = 0.30411919951438904\n"
     ]
    },
    {
     "name": "stderr",
     "output_type": "stream",
     "text": [
      "100%|█████████████████████████████████████████████████████████████████████████████████████████████████████| 295/295 [00:20<00:00, 14.19it/s]\n",
      "100%|███████████████████████████████████████████████████████████████████████████████████████████████████████| 74/74 [00:04<00:00, 15.13it/s]\n"
     ]
    },
    {
     "name": "stdout",
     "output_type": "stream",
     "text": [
      "Computing accuracy\n",
      "Test set accuracy (Precision@1) = 0.7194406565656567\n",
      "Epoch 58 Iteration 0: Loss = 0.32221993803977966\n"
     ]
    },
    {
     "name": "stderr",
     "output_type": "stream",
     "text": [
      "100%|█████████████████████████████████████████████████████████████████████████████████████████████████████| 295/295 [00:20<00:00, 14.29it/s]\n",
      "100%|███████████████████████████████████████████████████████████████████████████████████████████████████████| 74/74 [00:04<00:00, 15.06it/s]\n"
     ]
    },
    {
     "name": "stdout",
     "output_type": "stream",
     "text": [
      "Computing accuracy\n",
      "Test set accuracy (Precision@1) = 0.7295820707070706\n",
      "Epoch 59 Iteration 0: Loss = 0.2553482949733734\n"
     ]
    },
    {
     "name": "stderr",
     "output_type": "stream",
     "text": [
      "100%|█████████████████████████████████████████████████████████████████████████████████████████████████████| 295/295 [00:20<00:00, 14.16it/s]\n",
      "100%|███████████████████████████████████████████████████████████████████████████████████████████████████████| 74/74 [00:04<00:00, 15.17it/s]\n"
     ]
    },
    {
     "name": "stdout",
     "output_type": "stream",
     "text": [
      "Computing accuracy\n",
      "Test set accuracy (Precision@1) = 0.7269823232323234\n",
      "Epoch 60 Iteration 0: Loss = 0.2828424274921417\n"
     ]
    },
    {
     "name": "stderr",
     "output_type": "stream",
     "text": [
      "100%|█████████████████████████████████████████████████████████████████████████████████████████████████████| 295/295 [00:20<00:00, 14.08it/s]\n",
      "100%|███████████████████████████████████████████████████████████████████████████████████████████████████████| 74/74 [00:04<00:00, 15.15it/s]\n"
     ]
    },
    {
     "name": "stdout",
     "output_type": "stream",
     "text": [
      "Computing accuracy\n",
      "Test set accuracy (Precision@1) = 0.7290530303030304\n",
      "Epoch 61 Iteration 0: Loss = 0.34623241424560547\n"
     ]
    },
    {
     "name": "stderr",
     "output_type": "stream",
     "text": [
      "100%|█████████████████████████████████████████████████████████████████████████████████████████████████████| 295/295 [00:20<00:00, 14.29it/s]\n",
      "100%|███████████████████████████████████████████████████████████████████████████████████████████████████████| 74/74 [00:05<00:00, 14.68it/s]\n"
     ]
    },
    {
     "name": "stdout",
     "output_type": "stream",
     "text": [
      "Computing accuracy\n",
      "Test set accuracy (Precision@1) = 0.7372777777777778\n",
      "Epoch 62 Iteration 0: Loss = 0.3110131323337555\n"
     ]
    },
    {
     "name": "stderr",
     "output_type": "stream",
     "text": [
      "100%|█████████████████████████████████████████████████████████████████████████████████████████████████████| 295/295 [00:20<00:00, 14.23it/s]\n",
      "100%|███████████████████████████████████████████████████████████████████████████████████████████████████████| 74/74 [00:04<00:00, 15.10it/s]\n"
     ]
    },
    {
     "name": "stdout",
     "output_type": "stream",
     "text": [
      "Computing accuracy\n",
      "Test set accuracy (Precision@1) = 0.7193181818181819\n",
      "Epoch 63 Iteration 0: Loss = 0.2681109607219696\n"
     ]
    },
    {
     "name": "stderr",
     "output_type": "stream",
     "text": [
      "100%|█████████████████████████████████████████████████████████████████████████████████████████████████████| 295/295 [00:20<00:00, 14.28it/s]\n",
      "100%|███████████████████████████████████████████████████████████████████████████████████████████████████████| 74/74 [00:04<00:00, 15.16it/s]\n"
     ]
    },
    {
     "name": "stdout",
     "output_type": "stream",
     "text": [
      "Computing accuracy\n",
      "Test set accuracy (Precision@1) = 0.7367588383838384\n",
      "Epoch 64 Iteration 0: Loss = 0.2618762254714966\n"
     ]
    },
    {
     "name": "stderr",
     "output_type": "stream",
     "text": [
      "100%|█████████████████████████████████████████████████████████████████████████████████████████████████████| 295/295 [00:20<00:00, 14.19it/s]\n",
      "100%|███████████████████████████████████████████████████████████████████████████████████████████████████████| 74/74 [00:04<00:00, 15.05it/s]\n"
     ]
    },
    {
     "name": "stdout",
     "output_type": "stream",
     "text": [
      "Computing accuracy\n",
      "Test set accuracy (Precision@1) = 0.7317247474747476\n",
      "Epoch 65 Iteration 0: Loss = 0.2904767692089081\n"
     ]
    },
    {
     "name": "stderr",
     "output_type": "stream",
     "text": [
      "100%|█████████████████████████████████████████████████████████████████████████████████████████████████████| 295/295 [00:20<00:00, 14.17it/s]\n",
      "100%|███████████████████████████████████████████████████████████████████████████████████████████████████████| 74/74 [00:04<00:00, 15.19it/s]\n"
     ]
    },
    {
     "name": "stdout",
     "output_type": "stream",
     "text": [
      "Computing accuracy\n",
      "Test set accuracy (Precision@1) = 0.7355997474747475\n",
      "Epoch 66 Iteration 0: Loss = 0.36579060554504395\n"
     ]
    },
    {
     "name": "stderr",
     "output_type": "stream",
     "text": [
      "100%|█████████████████████████████████████████████████████████████████████████████████████████████████████| 295/295 [00:20<00:00, 14.22it/s]\n",
      "100%|███████████████████████████████████████████████████████████████████████████████████████████████████████| 74/74 [00:04<00:00, 15.21it/s]\n"
     ]
    },
    {
     "name": "stdout",
     "output_type": "stream",
     "text": [
      "Computing accuracy\n",
      "Test set accuracy (Precision@1) = 0.7351477272727273\n",
      "Epoch 67 Iteration 0: Loss = 0.2652660012245178\n"
     ]
    },
    {
     "name": "stderr",
     "output_type": "stream",
     "text": [
      "100%|█████████████████████████████████████████████████████████████████████████████████████████████████████| 295/295 [00:20<00:00, 14.26it/s]\n",
      "100%|███████████████████████████████████████████████████████████████████████████████████████████████████████| 74/74 [00:04<00:00, 15.20it/s]\n"
     ]
    },
    {
     "name": "stdout",
     "output_type": "stream",
     "text": [
      "Computing accuracy\n",
      "Test set accuracy (Precision@1) = 0.731763888888889\n",
      "Epoch 68 Iteration 0: Loss = 0.32302340865135193\n"
     ]
    },
    {
     "name": "stderr",
     "output_type": "stream",
     "text": [
      "100%|█████████████████████████████████████████████████████████████████████████████████████████████████████| 295/295 [00:20<00:00, 14.17it/s]\n",
      "100%|███████████████████████████████████████████████████████████████████████████████████████████████████████| 74/74 [00:04<00:00, 15.02it/s]\n"
     ]
    },
    {
     "name": "stdout",
     "output_type": "stream",
     "text": [
      "Computing accuracy\n",
      "Test set accuracy (Precision@1) = 0.7354368686868686\n",
      "Epoch 69 Iteration 0: Loss = 0.2974226772785187\n"
     ]
    },
    {
     "name": "stderr",
     "output_type": "stream",
     "text": [
      "100%|█████████████████████████████████████████████████████████████████████████████████████████████████████| 295/295 [00:20<00:00, 14.26it/s]\n",
      "100%|███████████████████████████████████████████████████████████████████████████████████████████████████████| 74/74 [00:04<00:00, 15.16it/s]\n"
     ]
    },
    {
     "name": "stdout",
     "output_type": "stream",
     "text": [
      "Computing accuracy\n",
      "Test set accuracy (Precision@1) = 0.7289368686868687\n",
      "Epoch 70 Iteration 0: Loss = 0.23672637343406677\n"
     ]
    },
    {
     "name": "stderr",
     "output_type": "stream",
     "text": [
      "100%|█████████████████████████████████████████████████████████████████████████████████████████████████████| 295/295 [00:20<00:00, 14.28it/s]\n",
      "100%|███████████████████████████████████████████████████████████████████████████████████████████████████████| 74/74 [00:05<00:00, 14.65it/s]\n"
     ]
    },
    {
     "name": "stdout",
     "output_type": "stream",
     "text": [
      "Computing accuracy\n",
      "Test set accuracy (Precision@1) = 0.7451300505050505\n",
      "Epoch 71 Iteration 0: Loss = 0.3196620047092438\n"
     ]
    },
    {
     "name": "stderr",
     "output_type": "stream",
     "text": [
      "100%|█████████████████████████████████████████████████████████████████████████████████████████████████████| 295/295 [00:20<00:00, 14.27it/s]\n",
      "100%|███████████████████████████████████████████████████████████████████████████████████████████████████████| 74/74 [00:04<00:00, 15.15it/s]\n"
     ]
    },
    {
     "name": "stdout",
     "output_type": "stream",
     "text": [
      "Computing accuracy\n",
      "Test set accuracy (Precision@1) = 0.7445845959595959\n",
      "Epoch 72 Iteration 0: Loss = 0.32424846291542053\n"
     ]
    },
    {
     "name": "stderr",
     "output_type": "stream",
     "text": [
      "100%|█████████████████████████████████████████████████████████████████████████████████████████████████████| 295/295 [00:20<00:00, 14.29it/s]\n",
      "100%|███████████████████████████████████████████████████████████████████████████████████████████████████████| 74/74 [00:04<00:00, 15.12it/s]\n"
     ]
    },
    {
     "name": "stdout",
     "output_type": "stream",
     "text": [
      "Computing accuracy\n",
      "Test set accuracy (Precision@1) = 0.7381578282828284\n",
      "Epoch 73 Iteration 0: Loss = 0.2605246305465698\n"
     ]
    },
    {
     "name": "stderr",
     "output_type": "stream",
     "text": [
      "100%|█████████████████████████████████████████████████████████████████████████████████████████████████████| 295/295 [00:20<00:00, 14.10it/s]\n",
      "100%|███████████████████████████████████████████████████████████████████████████████████████████████████████| 74/74 [00:04<00:00, 15.15it/s]\n"
     ]
    },
    {
     "name": "stdout",
     "output_type": "stream",
     "text": [
      "Computing accuracy\n",
      "Test set accuracy (Precision@1) = 0.7453472222222223\n",
      "Epoch 74 Iteration 0: Loss = 0.21063955128192902\n"
     ]
    },
    {
     "name": "stderr",
     "output_type": "stream",
     "text": [
      "100%|█████████████████████████████████████████████████████████████████████████████████████████████████████| 295/295 [00:20<00:00, 14.23it/s]\n",
      "100%|███████████████████████████████████████████████████████████████████████████████████████████████████████| 74/74 [00:04<00:00, 15.16it/s]\n"
     ]
    },
    {
     "name": "stdout",
     "output_type": "stream",
     "text": [
      "Computing accuracy\n",
      "Test set accuracy (Precision@1) = 0.7378194444444444\n",
      "Epoch 75 Iteration 0: Loss = 0.3278833329677582\n"
     ]
    },
    {
     "name": "stderr",
     "output_type": "stream",
     "text": [
      "100%|█████████████████████████████████████████████████████████████████████████████████████████████████████| 295/295 [00:20<00:00, 14.22it/s]\n",
      "100%|███████████████████████████████████████████████████████████████████████████████████████████████████████| 74/74 [00:04<00:00, 15.06it/s]\n"
     ]
    },
    {
     "name": "stdout",
     "output_type": "stream",
     "text": [
      "Computing accuracy\n",
      "Test set accuracy (Precision@1) = 0.7429810606060605\n",
      "Epoch 76 Iteration 0: Loss = 0.2715378701686859\n"
     ]
    },
    {
     "name": "stderr",
     "output_type": "stream",
     "text": [
      "100%|█████████████████████████████████████████████████████████████████████████████████████████████████████| 295/295 [00:20<00:00, 14.28it/s]\n",
      "100%|███████████████████████████████████████████████████████████████████████████████████████████████████████| 74/74 [00:04<00:00, 15.15it/s]\n"
     ]
    },
    {
     "name": "stdout",
     "output_type": "stream",
     "text": [
      "Computing accuracy\n",
      "Test set accuracy (Precision@1) = 0.7443042929292929\n",
      "Epoch 77 Iteration 0: Loss = 0.2496759295463562\n"
     ]
    },
    {
     "name": "stderr",
     "output_type": "stream",
     "text": [
      "100%|█████████████████████████████████████████████████████████████████████████████████████████████████████| 295/295 [00:20<00:00, 14.17it/s]\n",
      "100%|███████████████████████████████████████████████████████████████████████████████████████████████████████| 74/74 [00:04<00:00, 15.16it/s]\n"
     ]
    },
    {
     "name": "stdout",
     "output_type": "stream",
     "text": [
      "Computing accuracy\n",
      "Test set accuracy (Precision@1) = 0.7458585858585858\n",
      "Epoch 78 Iteration 0: Loss = 0.29684457182884216\n"
     ]
    },
    {
     "name": "stderr",
     "output_type": "stream",
     "text": [
      "100%|█████████████████████████████████████████████████████████████████████████████████████████████████████| 295/295 [00:20<00:00, 14.25it/s]\n",
      "100%|███████████████████████████████████████████████████████████████████████████████████████████████████████| 74/74 [00:04<00:00, 15.11it/s]\n"
     ]
    },
    {
     "name": "stdout",
     "output_type": "stream",
     "text": [
      "Computing accuracy\n",
      "Test set accuracy (Precision@1) = 0.7452512626262626\n",
      "Epoch 79 Iteration 0: Loss = 0.30812737345695496\n"
     ]
    },
    {
     "name": "stderr",
     "output_type": "stream",
     "text": [
      "100%|█████████████████████████████████████████████████████████████████████████████████████████████████████| 295/295 [00:20<00:00, 14.29it/s]\n",
      "100%|███████████████████████████████████████████████████████████████████████████████████████████████████████| 74/74 [00:04<00:00, 15.05it/s]\n"
     ]
    },
    {
     "name": "stdout",
     "output_type": "stream",
     "text": [
      "Computing accuracy\n",
      "Test set accuracy (Precision@1) = 0.7432234848484849\n",
      "Epoch 80 Iteration 0: Loss = 0.3423740565776825\n"
     ]
    },
    {
     "name": "stderr",
     "output_type": "stream",
     "text": [
      "100%|█████████████████████████████████████████████████████████████████████████████████████████████████████| 295/295 [00:20<00:00, 14.21it/s]\n",
      "100%|███████████████████████████████████████████████████████████████████████████████████████████████████████| 74/74 [00:04<00:00, 15.22it/s]\n"
     ]
    },
    {
     "name": "stdout",
     "output_type": "stream",
     "text": [
      "Computing accuracy\n",
      "Test set accuracy (Precision@1) = 0.7551578282828283\n",
      "Epoch 81 Iteration 0: Loss = 0.2526181936264038\n"
     ]
    },
    {
     "name": "stderr",
     "output_type": "stream",
     "text": [
      "100%|█████████████████████████████████████████████████████████████████████████████████████████████████████| 295/295 [00:20<00:00, 14.23it/s]\n",
      "100%|███████████████████████████████████████████████████████████████████████████████████████████████████████| 74/74 [00:04<00:00, 14.97it/s]\n"
     ]
    },
    {
     "name": "stdout",
     "output_type": "stream",
     "text": [
      "Computing accuracy\n",
      "Test set accuracy (Precision@1) = 0.749554292929293\n",
      "Epoch 82 Iteration 0: Loss = 0.2794080376625061\n"
     ]
    },
    {
     "name": "stderr",
     "output_type": "stream",
     "text": [
      "100%|█████████████████████████████████████████████████████████████████████████████████████████████████████| 295/295 [00:20<00:00, 14.18it/s]\n",
      "100%|███████████████████████████████████████████████████████████████████████████████████████████████████████| 74/74 [00:04<00:00, 15.14it/s]\n"
     ]
    },
    {
     "name": "stdout",
     "output_type": "stream",
     "text": [
      "Computing accuracy\n",
      "Test set accuracy (Precision@1) = 0.7637260101010103\n",
      "Epoch 83 Iteration 0: Loss = 0.2724289298057556\n"
     ]
    },
    {
     "name": "stderr",
     "output_type": "stream",
     "text": [
      "100%|█████████████████████████████████████████████████████████████████████████████████████████████████████| 295/295 [00:20<00:00, 14.28it/s]\n",
      "100%|███████████████████████████████████████████████████████████████████████████████████████████████████████| 74/74 [00:04<00:00, 15.08it/s]\n"
     ]
    },
    {
     "name": "stdout",
     "output_type": "stream",
     "text": [
      "Computing accuracy\n",
      "Test set accuracy (Precision@1) = 0.7508421717171717\n",
      "Epoch 84 Iteration 0: Loss = 0.2654068171977997\n"
     ]
    },
    {
     "name": "stderr",
     "output_type": "stream",
     "text": [
      "100%|█████████████████████████████████████████████████████████████████████████████████████████████████████| 295/295 [00:20<00:00, 14.17it/s]\n",
      "100%|███████████████████████████████████████████████████████████████████████████████████████████████████████| 74/74 [00:04<00:00, 15.09it/s]\n"
     ]
    },
    {
     "name": "stdout",
     "output_type": "stream",
     "text": [
      "Computing accuracy\n",
      "Test set accuracy (Precision@1) = 0.7592058080808082\n",
      "Epoch 85 Iteration 0: Loss = 0.24683231115341187\n"
     ]
    },
    {
     "name": "stderr",
     "output_type": "stream",
     "text": [
      "100%|█████████████████████████████████████████████████████████████████████████████████████████████████████| 295/295 [00:20<00:00, 14.26it/s]\n",
      "100%|███████████████████████████████████████████████████████████████████████████████████████████████████████| 74/74 [00:04<00:00, 15.16it/s]\n"
     ]
    },
    {
     "name": "stdout",
     "output_type": "stream",
     "text": [
      "Computing accuracy\n",
      "Test set accuracy (Precision@1) = 0.7470568181818181\n",
      "Epoch 86 Iteration 0: Loss = 0.2318439930677414\n"
     ]
    },
    {
     "name": "stderr",
     "output_type": "stream",
     "text": [
      "100%|█████████████████████████████████████████████████████████████████████████████████████████████████████| 295/295 [00:20<00:00, 14.19it/s]\n",
      "100%|███████████████████████████████████████████████████████████████████████████████████████████████████████| 74/74 [00:04<00:00, 15.06it/s]\n"
     ]
    },
    {
     "name": "stdout",
     "output_type": "stream",
     "text": [
      "Computing accuracy\n",
      "Test set accuracy (Precision@1) = 0.7476755050505051\n",
      "Epoch 87 Iteration 0: Loss = 0.26307404041290283\n"
     ]
    },
    {
     "name": "stderr",
     "output_type": "stream",
     "text": [
      "100%|█████████████████████████████████████████████████████████████████████████████████████████████████████| 295/295 [00:20<00:00, 14.27it/s]\n",
      "100%|███████████████████████████████████████████████████████████████████████████████████████████████████████| 74/74 [00:04<00:00, 15.07it/s]\n"
     ]
    },
    {
     "name": "stdout",
     "output_type": "stream",
     "text": [
      "Computing accuracy\n",
      "Test set accuracy (Precision@1) = 0.7490883838383838\n",
      "Epoch 88 Iteration 0: Loss = 0.18254290521144867\n"
     ]
    },
    {
     "name": "stderr",
     "output_type": "stream",
     "text": [
      "100%|█████████████████████████████████████████████████████████████████████████████████████████████████████| 295/295 [00:20<00:00, 14.16it/s]\n",
      "100%|███████████████████████████████████████████████████████████████████████████████████████████████████████| 74/74 [00:04<00:00, 15.14it/s]\n"
     ]
    },
    {
     "name": "stdout",
     "output_type": "stream",
     "text": [
      "Computing accuracy\n",
      "Test set accuracy (Precision@1) = 0.7561237373737373\n",
      "Epoch 89 Iteration 0: Loss = 0.26826417446136475\n"
     ]
    },
    {
     "name": "stderr",
     "output_type": "stream",
     "text": [
      "100%|█████████████████████████████████████████████████████████████████████████████████████████████████████| 295/295 [00:20<00:00, 14.20it/s]\n",
      "100%|███████████████████████████████████████████████████████████████████████████████████████████████████████| 74/74 [00:04<00:00, 15.12it/s]\n"
     ]
    },
    {
     "name": "stdout",
     "output_type": "stream",
     "text": [
      "Computing accuracy\n",
      "Test set accuracy (Precision@1) = 0.744070707070707\n",
      "Epoch 90 Iteration 0: Loss = 0.2745228707790375\n"
     ]
    },
    {
     "name": "stderr",
     "output_type": "stream",
     "text": [
      "100%|█████████████████████████████████████████████████████████████████████████████████████████████████████| 295/295 [00:20<00:00, 14.28it/s]\n",
      "100%|███████████████████████████████████████████████████████████████████████████████████████████████████████| 74/74 [00:04<00:00, 15.16it/s]\n"
     ]
    },
    {
     "name": "stdout",
     "output_type": "stream",
     "text": [
      "Computing accuracy\n",
      "Test set accuracy (Precision@1) = 0.7539633838383839\n",
      "Epoch 91 Iteration 0: Loss = 0.20798595249652863\n"
     ]
    },
    {
     "name": "stderr",
     "output_type": "stream",
     "text": [
      "100%|█████████████████████████████████████████████████████████████████████████████████████████████████████| 295/295 [00:20<00:00, 14.19it/s]\n",
      "100%|███████████████████████████████████████████████████████████████████████████████████████████████████████| 74/74 [00:04<00:00, 15.02it/s]\n"
     ]
    },
    {
     "name": "stdout",
     "output_type": "stream",
     "text": [
      "Computing accuracy\n",
      "Test set accuracy (Precision@1) = 0.7528623737373739\n",
      "Epoch 92 Iteration 0: Loss = 0.280604749917984\n"
     ]
    },
    {
     "name": "stderr",
     "output_type": "stream",
     "text": [
      "100%|█████████████████████████████████████████████████████████████████████████████████████████████████████| 295/295 [00:20<00:00, 14.16it/s]\n",
      "100%|███████████████████████████████████████████████████████████████████████████████████████████████████████| 74/74 [00:04<00:00, 15.12it/s]\n"
     ]
    },
    {
     "name": "stdout",
     "output_type": "stream",
     "text": [
      "Computing accuracy\n",
      "Test set accuracy (Precision@1) = 0.7637159090909091\n",
      "Epoch 93 Iteration 0: Loss = 0.2345961481332779\n"
     ]
    },
    {
     "name": "stderr",
     "output_type": "stream",
     "text": [
      "100%|█████████████████████████████████████████████████████████████████████████████████████████████████████| 295/295 [00:20<00:00, 14.10it/s]\n",
      "100%|███████████████████████████████████████████████████████████████████████████████████████████████████████| 74/74 [00:04<00:00, 15.12it/s]\n"
     ]
    },
    {
     "name": "stdout",
     "output_type": "stream",
     "text": [
      "Computing accuracy\n",
      "Test set accuracy (Precision@1) = 0.7492967171717172\n",
      "Epoch 94 Iteration 0: Loss = 0.2667132318019867\n"
     ]
    },
    {
     "name": "stderr",
     "output_type": "stream",
     "text": [
      "100%|█████████████████████████████████████████████████████████████████████████████████████████████████████| 295/295 [00:20<00:00, 14.30it/s]\n",
      "100%|███████████████████████████████████████████████████████████████████████████████████████████████████████| 74/74 [00:04<00:00, 15.13it/s]\n"
     ]
    },
    {
     "name": "stdout",
     "output_type": "stream",
     "text": [
      "Computing accuracy\n",
      "Test set accuracy (Precision@1) = 0.755088383838384\n",
      "Epoch 95 Iteration 0: Loss = 0.21885018050670624\n"
     ]
    },
    {
     "name": "stderr",
     "output_type": "stream",
     "text": [
      "100%|█████████████████████████████████████████████████████████████████████████████████████████████████████| 295/295 [00:20<00:00, 14.15it/s]\n",
      "100%|███████████████████████████████████████████████████████████████████████████████████████████████████████| 74/74 [00:04<00:00, 15.11it/s]\n"
     ]
    },
    {
     "name": "stdout",
     "output_type": "stream",
     "text": [
      "Computing accuracy\n",
      "Test set accuracy (Precision@1) = 0.7563383838383838\n",
      "Epoch 96 Iteration 0: Loss = 0.26574358344078064\n"
     ]
    },
    {
     "name": "stderr",
     "output_type": "stream",
     "text": [
      "100%|█████████████████████████████████████████████████████████████████████████████████████████████████████| 295/295 [00:20<00:00, 14.24it/s]\n",
      "100%|███████████████████████████████████████████████████████████████████████████████████████████████████████| 74/74 [00:04<00:00, 15.05it/s]\n"
     ]
    },
    {
     "name": "stdout",
     "output_type": "stream",
     "text": [
      "Computing accuracy\n",
      "Test set accuracy (Precision@1) = 0.7661603535353535\n",
      "Epoch 97 Iteration 0: Loss = 0.2259082794189453\n"
     ]
    },
    {
     "name": "stderr",
     "output_type": "stream",
     "text": [
      "100%|█████████████████████████████████████████████████████████████████████████████████████████████████████| 295/295 [00:20<00:00, 14.18it/s]\n",
      "100%|███████████████████████████████████████████████████████████████████████████████████████████████████████| 74/74 [00:04<00:00, 14.89it/s]\n"
     ]
    },
    {
     "name": "stdout",
     "output_type": "stream",
     "text": [
      "Computing accuracy\n",
      "Test set accuracy (Precision@1) = 0.7582992424242425\n",
      "Epoch 98 Iteration 0: Loss = 0.23670099675655365\n"
     ]
    },
    {
     "name": "stderr",
     "output_type": "stream",
     "text": [
      "100%|█████████████████████████████████████████████████████████████████████████████████████████████████████| 295/295 [00:20<00:00, 14.20it/s]\n",
      "100%|███████████████████████████████████████████████████████████████████████████████████████████████████████| 74/74 [00:04<00:00, 14.98it/s]\n"
     ]
    },
    {
     "name": "stdout",
     "output_type": "stream",
     "text": [
      "Computing accuracy\n",
      "Test set accuracy (Precision@1) = 0.755743686868687\n",
      "Epoch 99 Iteration 0: Loss = 0.266751229763031\n"
     ]
    },
    {
     "name": "stderr",
     "output_type": "stream",
     "text": [
      "100%|█████████████████████████████████████████████████████████████████████████████████████████████████████| 295/295 [00:20<00:00, 14.22it/s]\n",
      "100%|███████████████████████████████████████████████████████████████████████████████████████████████████████| 74/74 [00:04<00:00, 14.96it/s]\n"
     ]
    },
    {
     "name": "stdout",
     "output_type": "stream",
     "text": [
      "Computing accuracy\n",
      "Test set accuracy (Precision@1) = 0.7604633838383837\n",
      "Epoch 100 Iteration 0: Loss = 0.24612486362457275\n"
     ]
    },
    {
     "name": "stderr",
     "output_type": "stream",
     "text": [
      "100%|█████████████████████████████████████████████████████████████████████████████████████████████████████| 295/295 [00:20<00:00, 14.13it/s]\n",
      "100%|███████████████████████████████████████████████████████████████████████████████████████████████████████| 74/74 [00:04<00:00, 15.05it/s]"
     ]
    },
    {
     "name": "stdout",
     "output_type": "stream",
     "text": [
      "Computing accuracy\n",
      "Test set accuracy (Precision@1) = 0.7615189393939394\n"
     ]
    },
    {
     "name": "stderr",
     "output_type": "stream",
     "text": [
      "\n"
     ]
    }
   ],
   "source": [
    "#total_loss = []\n",
    "#total_acc = []\n",
    "for epoch in range(1, num_epochs + 1):\n",
    "    train_loss = train(model, loss_func,mining_func, device, train_loader, optimizer, epoch)\n",
    "    #total_loss.extend(train_loss)\n",
    "    test_acc = test(train_dataset, test_dataset, model, accuracy_calculator)\n",
    "    #total_acc.append(test_acc)\n",
    "    wandb.log({\"test_accuracy\": test_acc, \"train_loss\": train_loss,'epoch':epoch})"
   ]
  },
  {
   "cell_type": "code",
   "execution_count": 34,
   "id": "a1076aa8-2f40-4ef4-985a-e4d6cc035c71",
   "metadata": {},
   "outputs": [],
   "source": [
    "wandb.unwatch()"
   ]
  },
  {
   "cell_type": "code",
   "execution_count": 35,
   "id": "f4e33826-711a-4780-b22f-8089e23719da",
   "metadata": {},
   "outputs": [],
   "source": [
    "torch.save(model,'models/cub_triplet_loss_epshn_resnet50_sgd_aug_200.pth')"
   ]
  },
  {
   "cell_type": "code",
   "execution_count": 19,
   "id": "8468f5a6-8c26-4f43-b780-898e6e6cbc12",
   "metadata": {
    "scrolled": true
   },
   "outputs": [],
   "source": [
    "model = torch.load('models/cub_triplet_loss_epshn_resnet18_sgd_aug_200.pth',map_location='cuda')"
   ]
  },
  {
   "cell_type": "code",
   "execution_count": 36,
   "id": "ee72491a-6daa-4df4-8905-9d237e26b24f",
   "metadata": {
    "scrolled": true
   },
   "outputs": [
    {
     "data": {
      "text/plain": [
       "ResNetFeatrueExtractor50(\n",
       "  (model): ResNet(\n",
       "    (conv1): Conv2d(3, 64, kernel_size=(7, 7), stride=(2, 2), padding=(3, 3), bias=False)\n",
       "    (bn1): BatchNorm2d(64, eps=1e-05, momentum=0.1, affine=True, track_running_stats=True)\n",
       "    (relu): ReLU(inplace=True)\n",
       "    (maxpool): MaxPool2d(kernel_size=3, stride=2, padding=1, dilation=1, ceil_mode=False)\n",
       "    (layer1): Sequential(\n",
       "      (0): Bottleneck(\n",
       "        (conv1): Conv2d(64, 64, kernel_size=(1, 1), stride=(1, 1), bias=False)\n",
       "        (bn1): BatchNorm2d(64, eps=1e-05, momentum=0.1, affine=True, track_running_stats=True)\n",
       "        (conv2): Conv2d(64, 64, kernel_size=(3, 3), stride=(1, 1), padding=(1, 1), bias=False)\n",
       "        (bn2): BatchNorm2d(64, eps=1e-05, momentum=0.1, affine=True, track_running_stats=True)\n",
       "        (conv3): Conv2d(64, 256, kernel_size=(1, 1), stride=(1, 1), bias=False)\n",
       "        (bn3): BatchNorm2d(256, eps=1e-05, momentum=0.1, affine=True, track_running_stats=True)\n",
       "        (relu): ReLU(inplace=True)\n",
       "        (downsample): Sequential(\n",
       "          (0): Conv2d(64, 256, kernel_size=(1, 1), stride=(1, 1), bias=False)\n",
       "          (1): BatchNorm2d(256, eps=1e-05, momentum=0.1, affine=True, track_running_stats=True)\n",
       "        )\n",
       "      )\n",
       "      (1): Bottleneck(\n",
       "        (conv1): Conv2d(256, 64, kernel_size=(1, 1), stride=(1, 1), bias=False)\n",
       "        (bn1): BatchNorm2d(64, eps=1e-05, momentum=0.1, affine=True, track_running_stats=True)\n",
       "        (conv2): Conv2d(64, 64, kernel_size=(3, 3), stride=(1, 1), padding=(1, 1), bias=False)\n",
       "        (bn2): BatchNorm2d(64, eps=1e-05, momentum=0.1, affine=True, track_running_stats=True)\n",
       "        (conv3): Conv2d(64, 256, kernel_size=(1, 1), stride=(1, 1), bias=False)\n",
       "        (bn3): BatchNorm2d(256, eps=1e-05, momentum=0.1, affine=True, track_running_stats=True)\n",
       "        (relu): ReLU(inplace=True)\n",
       "      )\n",
       "      (2): Bottleneck(\n",
       "        (conv1): Conv2d(256, 64, kernel_size=(1, 1), stride=(1, 1), bias=False)\n",
       "        (bn1): BatchNorm2d(64, eps=1e-05, momentum=0.1, affine=True, track_running_stats=True)\n",
       "        (conv2): Conv2d(64, 64, kernel_size=(3, 3), stride=(1, 1), padding=(1, 1), bias=False)\n",
       "        (bn2): BatchNorm2d(64, eps=1e-05, momentum=0.1, affine=True, track_running_stats=True)\n",
       "        (conv3): Conv2d(64, 256, kernel_size=(1, 1), stride=(1, 1), bias=False)\n",
       "        (bn3): BatchNorm2d(256, eps=1e-05, momentum=0.1, affine=True, track_running_stats=True)\n",
       "        (relu): ReLU(inplace=True)\n",
       "      )\n",
       "    )\n",
       "    (layer2): Sequential(\n",
       "      (0): Bottleneck(\n",
       "        (conv1): Conv2d(256, 128, kernel_size=(1, 1), stride=(1, 1), bias=False)\n",
       "        (bn1): BatchNorm2d(128, eps=1e-05, momentum=0.1, affine=True, track_running_stats=True)\n",
       "        (conv2): Conv2d(128, 128, kernel_size=(3, 3), stride=(2, 2), padding=(1, 1), bias=False)\n",
       "        (bn2): BatchNorm2d(128, eps=1e-05, momentum=0.1, affine=True, track_running_stats=True)\n",
       "        (conv3): Conv2d(128, 512, kernel_size=(1, 1), stride=(1, 1), bias=False)\n",
       "        (bn3): BatchNorm2d(512, eps=1e-05, momentum=0.1, affine=True, track_running_stats=True)\n",
       "        (relu): ReLU(inplace=True)\n",
       "        (downsample): Sequential(\n",
       "          (0): Conv2d(256, 512, kernel_size=(1, 1), stride=(2, 2), bias=False)\n",
       "          (1): BatchNorm2d(512, eps=1e-05, momentum=0.1, affine=True, track_running_stats=True)\n",
       "        )\n",
       "      )\n",
       "      (1): Bottleneck(\n",
       "        (conv1): Conv2d(512, 128, kernel_size=(1, 1), stride=(1, 1), bias=False)\n",
       "        (bn1): BatchNorm2d(128, eps=1e-05, momentum=0.1, affine=True, track_running_stats=True)\n",
       "        (conv2): Conv2d(128, 128, kernel_size=(3, 3), stride=(1, 1), padding=(1, 1), bias=False)\n",
       "        (bn2): BatchNorm2d(128, eps=1e-05, momentum=0.1, affine=True, track_running_stats=True)\n",
       "        (conv3): Conv2d(128, 512, kernel_size=(1, 1), stride=(1, 1), bias=False)\n",
       "        (bn3): BatchNorm2d(512, eps=1e-05, momentum=0.1, affine=True, track_running_stats=True)\n",
       "        (relu): ReLU(inplace=True)\n",
       "      )\n",
       "      (2): Bottleneck(\n",
       "        (conv1): Conv2d(512, 128, kernel_size=(1, 1), stride=(1, 1), bias=False)\n",
       "        (bn1): BatchNorm2d(128, eps=1e-05, momentum=0.1, affine=True, track_running_stats=True)\n",
       "        (conv2): Conv2d(128, 128, kernel_size=(3, 3), stride=(1, 1), padding=(1, 1), bias=False)\n",
       "        (bn2): BatchNorm2d(128, eps=1e-05, momentum=0.1, affine=True, track_running_stats=True)\n",
       "        (conv3): Conv2d(128, 512, kernel_size=(1, 1), stride=(1, 1), bias=False)\n",
       "        (bn3): BatchNorm2d(512, eps=1e-05, momentum=0.1, affine=True, track_running_stats=True)\n",
       "        (relu): ReLU(inplace=True)\n",
       "      )\n",
       "      (3): Bottleneck(\n",
       "        (conv1): Conv2d(512, 128, kernel_size=(1, 1), stride=(1, 1), bias=False)\n",
       "        (bn1): BatchNorm2d(128, eps=1e-05, momentum=0.1, affine=True, track_running_stats=True)\n",
       "        (conv2): Conv2d(128, 128, kernel_size=(3, 3), stride=(1, 1), padding=(1, 1), bias=False)\n",
       "        (bn2): BatchNorm2d(128, eps=1e-05, momentum=0.1, affine=True, track_running_stats=True)\n",
       "        (conv3): Conv2d(128, 512, kernel_size=(1, 1), stride=(1, 1), bias=False)\n",
       "        (bn3): BatchNorm2d(512, eps=1e-05, momentum=0.1, affine=True, track_running_stats=True)\n",
       "        (relu): ReLU(inplace=True)\n",
       "      )\n",
       "    )\n",
       "    (layer3): Sequential(\n",
       "      (0): Bottleneck(\n",
       "        (conv1): Conv2d(512, 256, kernel_size=(1, 1), stride=(1, 1), bias=False)\n",
       "        (bn1): BatchNorm2d(256, eps=1e-05, momentum=0.1, affine=True, track_running_stats=True)\n",
       "        (conv2): Conv2d(256, 256, kernel_size=(3, 3), stride=(2, 2), padding=(1, 1), bias=False)\n",
       "        (bn2): BatchNorm2d(256, eps=1e-05, momentum=0.1, affine=True, track_running_stats=True)\n",
       "        (conv3): Conv2d(256, 1024, kernel_size=(1, 1), stride=(1, 1), bias=False)\n",
       "        (bn3): BatchNorm2d(1024, eps=1e-05, momentum=0.1, affine=True, track_running_stats=True)\n",
       "        (relu): ReLU(inplace=True)\n",
       "        (downsample): Sequential(\n",
       "          (0): Conv2d(512, 1024, kernel_size=(1, 1), stride=(2, 2), bias=False)\n",
       "          (1): BatchNorm2d(1024, eps=1e-05, momentum=0.1, affine=True, track_running_stats=True)\n",
       "        )\n",
       "      )\n",
       "      (1): Bottleneck(\n",
       "        (conv1): Conv2d(1024, 256, kernel_size=(1, 1), stride=(1, 1), bias=False)\n",
       "        (bn1): BatchNorm2d(256, eps=1e-05, momentum=0.1, affine=True, track_running_stats=True)\n",
       "        (conv2): Conv2d(256, 256, kernel_size=(3, 3), stride=(1, 1), padding=(1, 1), bias=False)\n",
       "        (bn2): BatchNorm2d(256, eps=1e-05, momentum=0.1, affine=True, track_running_stats=True)\n",
       "        (conv3): Conv2d(256, 1024, kernel_size=(1, 1), stride=(1, 1), bias=False)\n",
       "        (bn3): BatchNorm2d(1024, eps=1e-05, momentum=0.1, affine=True, track_running_stats=True)\n",
       "        (relu): ReLU(inplace=True)\n",
       "      )\n",
       "      (2): Bottleneck(\n",
       "        (conv1): Conv2d(1024, 256, kernel_size=(1, 1), stride=(1, 1), bias=False)\n",
       "        (bn1): BatchNorm2d(256, eps=1e-05, momentum=0.1, affine=True, track_running_stats=True)\n",
       "        (conv2): Conv2d(256, 256, kernel_size=(3, 3), stride=(1, 1), padding=(1, 1), bias=False)\n",
       "        (bn2): BatchNorm2d(256, eps=1e-05, momentum=0.1, affine=True, track_running_stats=True)\n",
       "        (conv3): Conv2d(256, 1024, kernel_size=(1, 1), stride=(1, 1), bias=False)\n",
       "        (bn3): BatchNorm2d(1024, eps=1e-05, momentum=0.1, affine=True, track_running_stats=True)\n",
       "        (relu): ReLU(inplace=True)\n",
       "      )\n",
       "      (3): Bottleneck(\n",
       "        (conv1): Conv2d(1024, 256, kernel_size=(1, 1), stride=(1, 1), bias=False)\n",
       "        (bn1): BatchNorm2d(256, eps=1e-05, momentum=0.1, affine=True, track_running_stats=True)\n",
       "        (conv2): Conv2d(256, 256, kernel_size=(3, 3), stride=(1, 1), padding=(1, 1), bias=False)\n",
       "        (bn2): BatchNorm2d(256, eps=1e-05, momentum=0.1, affine=True, track_running_stats=True)\n",
       "        (conv3): Conv2d(256, 1024, kernel_size=(1, 1), stride=(1, 1), bias=False)\n",
       "        (bn3): BatchNorm2d(1024, eps=1e-05, momentum=0.1, affine=True, track_running_stats=True)\n",
       "        (relu): ReLU(inplace=True)\n",
       "      )\n",
       "      (4): Bottleneck(\n",
       "        (conv1): Conv2d(1024, 256, kernel_size=(1, 1), stride=(1, 1), bias=False)\n",
       "        (bn1): BatchNorm2d(256, eps=1e-05, momentum=0.1, affine=True, track_running_stats=True)\n",
       "        (conv2): Conv2d(256, 256, kernel_size=(3, 3), stride=(1, 1), padding=(1, 1), bias=False)\n",
       "        (bn2): BatchNorm2d(256, eps=1e-05, momentum=0.1, affine=True, track_running_stats=True)\n",
       "        (conv3): Conv2d(256, 1024, kernel_size=(1, 1), stride=(1, 1), bias=False)\n",
       "        (bn3): BatchNorm2d(1024, eps=1e-05, momentum=0.1, affine=True, track_running_stats=True)\n",
       "        (relu): ReLU(inplace=True)\n",
       "      )\n",
       "      (5): Bottleneck(\n",
       "        (conv1): Conv2d(1024, 256, kernel_size=(1, 1), stride=(1, 1), bias=False)\n",
       "        (bn1): BatchNorm2d(256, eps=1e-05, momentum=0.1, affine=True, track_running_stats=True)\n",
       "        (conv2): Conv2d(256, 256, kernel_size=(3, 3), stride=(1, 1), padding=(1, 1), bias=False)\n",
       "        (bn2): BatchNorm2d(256, eps=1e-05, momentum=0.1, affine=True, track_running_stats=True)\n",
       "        (conv3): Conv2d(256, 1024, kernel_size=(1, 1), stride=(1, 1), bias=False)\n",
       "        (bn3): BatchNorm2d(1024, eps=1e-05, momentum=0.1, affine=True, track_running_stats=True)\n",
       "        (relu): ReLU(inplace=True)\n",
       "      )\n",
       "    )\n",
       "    (layer4): Sequential(\n",
       "      (0): Bottleneck(\n",
       "        (conv1): Conv2d(1024, 512, kernel_size=(1, 1), stride=(1, 1), bias=False)\n",
       "        (bn1): BatchNorm2d(512, eps=1e-05, momentum=0.1, affine=True, track_running_stats=True)\n",
       "        (conv2): Conv2d(512, 512, kernel_size=(3, 3), stride=(2, 2), padding=(1, 1), bias=False)\n",
       "        (bn2): BatchNorm2d(512, eps=1e-05, momentum=0.1, affine=True, track_running_stats=True)\n",
       "        (conv3): Conv2d(512, 2048, kernel_size=(1, 1), stride=(1, 1), bias=False)\n",
       "        (bn3): BatchNorm2d(2048, eps=1e-05, momentum=0.1, affine=True, track_running_stats=True)\n",
       "        (relu): ReLU(inplace=True)\n",
       "        (downsample): Sequential(\n",
       "          (0): Conv2d(1024, 2048, kernel_size=(1, 1), stride=(2, 2), bias=False)\n",
       "          (1): BatchNorm2d(2048, eps=1e-05, momentum=0.1, affine=True, track_running_stats=True)\n",
       "        )\n",
       "      )\n",
       "      (1): Bottleneck(\n",
       "        (conv1): Conv2d(2048, 512, kernel_size=(1, 1), stride=(1, 1), bias=False)\n",
       "        (bn1): BatchNorm2d(512, eps=1e-05, momentum=0.1, affine=True, track_running_stats=True)\n",
       "        (conv2): Conv2d(512, 512, kernel_size=(3, 3), stride=(1, 1), padding=(1, 1), bias=False)\n",
       "        (bn2): BatchNorm2d(512, eps=1e-05, momentum=0.1, affine=True, track_running_stats=True)\n",
       "        (conv3): Conv2d(512, 2048, kernel_size=(1, 1), stride=(1, 1), bias=False)\n",
       "        (bn3): BatchNorm2d(2048, eps=1e-05, momentum=0.1, affine=True, track_running_stats=True)\n",
       "        (relu): ReLU(inplace=True)\n",
       "      )\n",
       "      (2): Bottleneck(\n",
       "        (conv1): Conv2d(2048, 512, kernel_size=(1, 1), stride=(1, 1), bias=False)\n",
       "        (bn1): BatchNorm2d(512, eps=1e-05, momentum=0.1, affine=True, track_running_stats=True)\n",
       "        (conv2): Conv2d(512, 512, kernel_size=(3, 3), stride=(1, 1), padding=(1, 1), bias=False)\n",
       "        (bn2): BatchNorm2d(512, eps=1e-05, momentum=0.1, affine=True, track_running_stats=True)\n",
       "        (conv3): Conv2d(512, 2048, kernel_size=(1, 1), stride=(1, 1), bias=False)\n",
       "        (bn3): BatchNorm2d(2048, eps=1e-05, momentum=0.1, affine=True, track_running_stats=True)\n",
       "        (relu): ReLU(inplace=True)\n",
       "      )\n",
       "    )\n",
       "    (avgpool): AdaptiveAvgPool2d(output_size=(1, 1))\n",
       "    (fc): Linear(in_features=2048, out_features=128, bias=True)\n",
       "  )\n",
       ")"
      ]
     },
     "execution_count": 36,
     "metadata": {},
     "output_type": "execute_result"
    }
   ],
   "source": [
    "model.eval()"
   ]
  },
  {
   "cell_type": "code",
   "execution_count": 37,
   "id": "c99fe1cb-ce19-41bf-bb1d-658c8b1b89d9",
   "metadata": {},
   "outputs": [],
   "source": [
    "from pytorch_metric_learning.distances import LpDistance,CosineSimilarity\n",
    "from pytorch_metric_learning.utils.inference import CustomKNN\n",
    "knn_func = CustomKNN(CosineSimilarity())\n",
    "accuracy_calculator = AccuracyCalculator(include=(\"precision_at_1\",),k=1,knn_func=knn_func,avg_of_avgs=False,return_per_class=True)\n",
    "#test(train_dataset, test_dataset, model, accuracy_calculator)"
   ]
  },
  {
   "cell_type": "code",
   "execution_count": 38,
   "id": "248f5f10-0423-47bf-a7b1-83de1a863c7f",
   "metadata": {},
   "outputs": [
    {
     "name": "stderr",
     "output_type": "stream",
     "text": [
      "100%|█████████████████████████████████████████████████████████████████████████████████████████████████████| 295/295 [00:21<00:00, 13.98it/s]\n",
      "100%|███████████████████████████████████████████████████████████████████████████████████████████████████████| 74/74 [00:04<00:00, 14.99it/s]\n"
     ]
    }
   ],
   "source": [
    "train_embeddings, train_labels = get_all_embeddings(train_dataset, model)\n",
    "test_embeddings, test_labels = get_all_embeddings(test_dataset, model)\n",
    "train_labels = train_labels.squeeze(1)\n",
    "test_labels = test_labels.squeeze(1)"
   ]
  },
  {
   "cell_type": "code",
   "execution_count": 39,
   "id": "eba43667-c551-46c0-93aa-dbcf38f695f7",
   "metadata": {},
   "outputs": [
    {
     "name": "stdout",
     "output_type": "stream",
     "text": [
      "{'precision_at_1': [0.9166666666666666, 0.6666666666666666, 0.8333333333333334, 1.0, 0.7777777777777778, 0.875, 1.0, 0.6666666666666666, 0.4166666666666667, 1.0, 0.5833333333333334, 1.0, 0.8333333333333334, 0.8333333333333334, 0.8181818181818182, 0.7272727272727273, 0.9090909090909091, 1.0, 0.9166666666666666, 0.8333333333333334, 0.9166666666666666, 0.8181818181818182, 0.4166666666666667, 1.0, 0.6666666666666666, 0.75, 0.3333333333333333, 1.0, 0.4166666666666667, 0.08333333333333333, 0.5833333333333334, 0.6, 0.5833333333333334, 1.0, 0.9166666666666666, 0.75, 0.6666666666666666, 0.8333333333333334, 0.5833333333333334, 0.5, 0.9166666666666666, 1.0, 0.25, 0.6666666666666666, 0.75, 1.0, 0.9166666666666666, 1.0, 0.75, 0.8333333333333334, 0.6666666666666666, 0.8333333333333334, 0.9166666666666666, 0.75, 1.0, 1.0, 0.9166666666666666, 0.8333333333333334, 0.16666666666666666, 0.3333333333333333, 0.9166666666666666, 0.25, 0.9166666666666666, 0.4166666666666667, 0.6, 0.6666666666666666, 0.4166666666666667, 0.75, 0.9166666666666666, 0.9166666666666666, 0.5, 0.5833333333333334, 0.8333333333333334, 0.9166666666666666, 1.0, 0.9166666666666666, 1.0, 0.6666666666666666, 1.0, 0.9166666666666666, 0.75, 0.5, 0.9166666666666666, 1.0, 1.0, 0.8333333333333334, 0.9166666666666666, 1.0, 0.8333333333333334, 1.0, 0.5833333333333334, 0.5833333333333334, 0.9166666666666666, 1.0, 1.0, 0.9166666666666666, 0.6666666666666666, 0.8333333333333334, 0.8333333333333334, 0.9166666666666666, 0.9, 0.6666666666666666, 0.4166666666666667, 0.75, 0.4, 1.0, 0.25, 0.9166666666666666, 1.0, 0.9166666666666666, 0.5, 0.4166666666666667, 0.7, 0.8333333333333334, 0.6666666666666666, 0.6666666666666666, 0.8333333333333334, 0.4166666666666667, 0.6666666666666666, 0.75, 0.4166666666666667, 0.5833333333333334, 0.5833333333333334, 0.5, 0.5833333333333334, 0.8333333333333334, 0.5833333333333334, 0.8333333333333334, 0.5833333333333334, 0.8333333333333334, 0.75, 0.8333333333333334, 1.0, 0.9166666666666666, 0.5833333333333334, 0.5, 0.8333333333333334, 0.8333333333333334, 1.0, 1.0, 0.7272727272727273, 0.5, 0.25, 0.3333333333333333, 0.5833333333333334, 0.5833333333333334, 0.8333333333333334, 0.9166666666666666, 0.8333333333333334, 0.6666666666666666, 0.9, 0.75, 0.6666666666666666, 0.75, 0.5833333333333334, 0.75, 0.6666666666666666, 0.8333333333333334, 1.0, 0.75, 0.9166666666666666, 0.75, 0.9166666666666666, 1.0, 0.8333333333333334, 0.8333333333333334, 0.75, 0.9166666666666666, 0.8333333333333334, 0.8333333333333334, 0.75, 0.8333333333333334, 0.6666666666666666, 0.6666666666666666, 0.5, 1.0, 1.0, 0.6363636363636364, 0.4166666666666667, 0.8333333333333334, 0.9166666666666666, 0.6666666666666666, 0.5, 0.5833333333333334, 0.9166666666666666, 1.0, 0.8, 1.0, 1.0, 0.8181818181818182, 0.8333333333333334, 1.0, 0.6666666666666666, 0.8333333333333334, 0.6666666666666666, 0.75, 0.75, 1.0, 0.9166666666666666, 0.9166666666666666]}\n"
     ]
    }
   ],
   "source": [
    "accuracies = accuracy_calculator.get_accuracy(\n",
    "        test_embeddings, test_labels, train_embeddings, train_labels)\n",
    "print(accuracies)"
   ]
  },
  {
   "cell_type": "code",
   "execution_count": 40,
   "id": "66e97839-85a9-4d96-80f3-1c29e80ccf81",
   "metadata": {},
   "outputs": [],
   "source": [
    "data_dict = {v:k for k,v in class_dict.items()}"
   ]
  },
  {
   "cell_type": "code",
   "execution_count": 41,
   "id": "a0bbe361-a4e0-4ff3-a62d-4abc0aea8099",
   "metadata": {
    "scrolled": true
   },
   "outputs": [
    {
     "name": "stdout",
     "output_type": "stream",
     "text": [
      "001.Black_footed_Albatross     test samples 12   , training samples 48   : [0.9166666666666666]\n",
      "002.Laysan_Albatross           test samples 12   , training samples 48   : [0.6666666666666666]\n",
      "003.Sooty_Albatross            test samples 12   , training samples 46   : [0.8333333333333334]\n",
      "004.Groove_billed_Ani          test samples 12   , training samples 48   : [1.0]\n",
      "005.Crested_Auklet             test samples 9    , training samples 35   : [0.7777777777777778]\n",
      "006.Least_Auklet               test samples 8    , training samples 33   : [0.875]\n",
      "007.Parakeet_Auklet            test samples 10   , training samples 43   : [1.0]\n",
      "008.Rhinoceros_Auklet          test samples 9    , training samples 39   : [0.6666666666666666]\n",
      "009.Brewer_Blackbird           test samples 12   , training samples 47   : [0.4166666666666667]\n",
      "010.Red_winged_Blackbird       test samples 12   , training samples 48   : [1.0]\n",
      "011.Rusty_Blackbird            test samples 12   , training samples 48   : [0.5833333333333334]\n",
      "012.Yellow_headed_Blackbird    test samples 11   , training samples 45   : [1.0]\n",
      "013.Bobolink                   test samples 12   , training samples 48   : [0.8333333333333334]\n",
      "014.Indigo_Bunting             test samples 12   , training samples 48   : [0.8333333333333334]\n",
      "015.Lazuli_Bunting             test samples 11   , training samples 47   : [0.8181818181818182]\n",
      "016.Painted_Bunting            test samples 11   , training samples 47   : [0.7272727272727273]\n",
      "017.Cardinal                   test samples 11   , training samples 46   : [0.9090909090909091]\n",
      "018.Spotted_Catbird            test samples 9    , training samples 36   : [1.0]\n",
      "019.Gray_Catbird               test samples 12   , training samples 47   : [0.9166666666666666]\n",
      "020.Yellow_breasted_Chat       test samples 12   , training samples 47   : [0.8333333333333334]\n",
      "021.Eastern_Towhee             test samples 12   , training samples 48   : [0.9166666666666666]\n",
      "022.Chuck_will_Widow           test samples 11   , training samples 45   : [0.8181818181818182]\n",
      "023.Brandt_Cormorant           test samples 12   , training samples 47   : [0.4166666666666667]\n",
      "024.Red_faced_Cormorant        test samples 10   , training samples 42   : [1.0]\n",
      "025.Pelagic_Cormorant          test samples 12   , training samples 48   : [0.6666666666666666]\n",
      "026.Bronzed_Cowbird            test samples 12   , training samples 48   : [0.75]\n",
      "027.Shiny_Cowbird              test samples 12   , training samples 48   : [0.3333333333333333]\n",
      "028.Brown_Creeper              test samples 12   , training samples 47   : [1.0]\n",
      "029.American_Crow              test samples 12   , training samples 48   : [0.4166666666666667]\n",
      "030.Fish_Crow                  test samples 12   , training samples 48   : [0.08333333333333333]\n",
      "031.Black_billed_Cuckoo        test samples 12   , training samples 48   : [0.5833333333333334]\n",
      "032.Mangrove_Cuckoo            test samples 10   , training samples 43   : [0.6]\n",
      "033.Yellow_billed_Cuckoo       test samples 12   , training samples 47   : [0.5833333333333334]\n",
      "034.Gray_crowned_Rosy_Finch    test samples 12   , training samples 47   : [1.0]\n",
      "035.Purple_Finch               test samples 12   , training samples 48   : [0.9166666666666666]\n",
      "036.Northern_Flicker           test samples 12   , training samples 48   : [0.75]\n",
      "037.Acadian_Flycatcher         test samples 12   , training samples 47   : [0.6666666666666666]\n",
      "038.Great_Crested_Flycatcher   test samples 12   , training samples 48   : [0.8333333333333334]\n",
      "039.Least_Flycatcher           test samples 12   , training samples 47   : [0.5833333333333334]\n",
      "040.Olive_sided_Flycatcher     test samples 12   , training samples 48   : [0.5]\n",
      "041.Scissor_tailed_Flycatcher  test samples 12   , training samples 48   : [0.9166666666666666]\n",
      "042.Vermilion_Flycatcher       test samples 12   , training samples 48   : [1.0]\n",
      "043.Yellow_bellied_Flycatcher  test samples 12   , training samples 47   : [0.25]\n",
      "044.Frigatebird                test samples 12   , training samples 48   : [0.6666666666666666]\n",
      "045.Northern_Fulmar            test samples 12   , training samples 48   : [0.75]\n",
      "046.Gadwall                    test samples 12   , training samples 48   : [1.0]\n",
      "047.American_Goldfinch         test samples 12   , training samples 48   : [0.9166666666666666]\n",
      "048.European_Goldfinch         test samples 12   , training samples 48   : [1.0]\n",
      "049.Boat_tailed_Grackle        test samples 12   , training samples 48   : [0.75]\n",
      "050.Eared_Grebe                test samples 12   , training samples 48   : [0.8333333333333334]\n",
      "051.Horned_Grebe               test samples 12   , training samples 48   : [0.6666666666666666]\n",
      "052.Pied_billed_Grebe          test samples 12   , training samples 48   : [0.8333333333333334]\n",
      "053.Western_Grebe              test samples 12   , training samples 48   : [0.9166666666666666]\n",
      "054.Blue_Grosbeak              test samples 12   , training samples 48   : [0.75]\n",
      "055.Evening_Grosbeak           test samples 12   , training samples 48   : [1.0]\n",
      "056.Pine_Grosbeak              test samples 12   , training samples 48   : [1.0]\n",
      "057.Rose_breasted_Grosbeak     test samples 12   , training samples 48   : [0.9166666666666666]\n",
      "058.Pigeon_Guillemot           test samples 12   , training samples 46   : [0.8333333333333334]\n",
      "059.California_Gull            test samples 12   , training samples 48   : [0.16666666666666666]\n",
      "060.Glaucous_winged_Gull       test samples 12   , training samples 47   : [0.3333333333333333]\n",
      "061.Heermann_Gull              test samples 12   , training samples 48   : [0.9166666666666666]\n",
      "062.Herring_Gull               test samples 12   , training samples 48   : [0.25]\n",
      "063.Ivory_Gull                 test samples 12   , training samples 48   : [0.9166666666666666]\n",
      "064.Ring_billed_Gull           test samples 12   , training samples 48   : [0.4166666666666667]\n",
      "065.Slaty_backed_Gull          test samples 10   , training samples 40   : [0.6]\n",
      "066.Western_Gull               test samples 12   , training samples 48   : [0.6666666666666666]\n",
      "067.Anna_Hummingbird           test samples 12   , training samples 48   : [0.4166666666666667]\n",
      "068.Ruby_throated_Hummingbird  test samples 12   , training samples 48   : [0.75]\n",
      "069.Rufous_Hummingbird         test samples 12   , training samples 48   : [0.9166666666666666]\n",
      "070.Green_Violetear            test samples 12   , training samples 48   : [0.9166666666666666]\n",
      "071.Long_tailed_Jaeger         test samples 12   , training samples 48   : [0.5]\n",
      "072.Pomarine_Jaeger            test samples 12   , training samples 48   : [0.5833333333333334]\n",
      "073.Blue_Jay                   test samples 12   , training samples 48   : [0.8333333333333334]\n",
      "074.Florida_Jay                test samples 12   , training samples 48   : [0.9166666666666666]\n",
      "075.Green_Jay                  test samples 11   , training samples 46   : [1.0]\n",
      "076.Dark_eyed_Junco            test samples 12   , training samples 48   : [0.9166666666666666]\n",
      "077.Tropical_Kingbird          test samples 12   , training samples 48   : [1.0]\n",
      "078.Gray_Kingbird              test samples 12   , training samples 47   : [0.6666666666666666]\n",
      "079.Belted_Kingfisher          test samples 12   , training samples 48   : [1.0]\n",
      "080.Green_Kingfisher           test samples 12   , training samples 48   : [0.9166666666666666]\n",
      "081.Pied_Kingfisher            test samples 12   , training samples 48   : [0.75]\n",
      "082.Ringed_Kingfisher          test samples 12   , training samples 48   : [0.5]\n",
      "083.White_breasted_Kingfisher  test samples 12   , training samples 48   : [0.9166666666666666]\n",
      "084.Red_legged_Kittiwake       test samples 10   , training samples 43   : [1.0]\n",
      "085.Horned_Lark                test samples 12   , training samples 48   : [1.0]\n",
      "086.Pacific_Loon               test samples 12   , training samples 48   : [0.8333333333333334]\n",
      "087.Mallard                    test samples 12   , training samples 48   : [0.9166666666666666]\n",
      "088.Western_Meadowlark         test samples 12   , training samples 48   : [1.0]\n",
      "089.Hooded_Merganser           test samples 12   , training samples 48   : [0.8333333333333334]\n",
      "090.Red_breasted_Merganser     test samples 12   , training samples 48   : [1.0]\n",
      "091.Mockingbird                test samples 12   , training samples 48   : [0.5833333333333334]\n",
      "092.Nighthawk                  test samples 12   , training samples 48   : [0.5833333333333334]\n",
      "093.Clark_Nutcracker           test samples 12   , training samples 48   : [0.9166666666666666]\n",
      "094.White_breasted_Nuthatch    test samples 12   , training samples 48   : [1.0]\n",
      "095.Baltimore_Oriole           test samples 12   , training samples 48   : [1.0]\n",
      "096.Hooded_Oriole              test samples 12   , training samples 48   : [0.9166666666666666]\n",
      "097.Orchard_Oriole             test samples 12   , training samples 47   : [0.6666666666666666]\n",
      "098.Scott_Oriole               test samples 12   , training samples 48   : [0.8333333333333334]\n",
      "099.Ovenbird                   test samples 12   , training samples 48   : [0.8333333333333334]\n",
      "100.Brown_Pelican              test samples 12   , training samples 48   : [0.9166666666666666]\n",
      "101.White_Pelican              test samples 10   , training samples 40   : [0.9]\n",
      "102.Western_Wood_Pewee         test samples 12   , training samples 48   : [0.6666666666666666]\n",
      "103.Sayornis                   test samples 12   , training samples 48   : [0.4166666666666667]\n",
      "104.American_Pipit             test samples 12   , training samples 48   : [0.75]\n",
      "105.Whip_poor_Will             test samples 10   , training samples 39   : [0.4]\n",
      "106.Horned_Puffin              test samples 12   , training samples 48   : [1.0]\n",
      "107.Common_Raven               test samples 12   , training samples 47   : [0.25]\n",
      "108.White_necked_Raven         test samples 12   , training samples 48   : [0.9166666666666666]\n",
      "109.American_Redstart          test samples 12   , training samples 48   : [1.0]\n",
      "110.Geococcyx                  test samples 12   , training samples 48   : [0.9166666666666666]\n",
      "111.Loggerhead_Shrike          test samples 12   , training samples 48   : [0.5]\n",
      "112.Great_Grey_Shrike          test samples 12   , training samples 48   : [0.4166666666666667]\n",
      "113.Baird_Sparrow              test samples 10   , training samples 40   : [0.7]\n",
      "114.Black_throated_Sparrow     test samples 12   , training samples 48   : [0.8333333333333334]\n",
      "115.Brewer_Sparrow             test samples 12   , training samples 47   : [0.6666666666666666]\n",
      "116.Chipping_Sparrow           test samples 12   , training samples 48   : [0.6666666666666666]\n",
      "117.Clay_colored_Sparrow       test samples 12   , training samples 47   : [0.8333333333333334]\n",
      "118.House_Sparrow              test samples 12   , training samples 48   : [0.4166666666666667]\n",
      "119.Field_Sparrow              test samples 12   , training samples 47   : [0.6666666666666666]\n",
      "120.Fox_Sparrow                test samples 12   , training samples 48   : [0.75]\n",
      "121.Grasshopper_Sparrow        test samples 12   , training samples 48   : [0.4166666666666667]\n",
      "122.Harris_Sparrow             test samples 12   , training samples 48   : [0.5833333333333334]\n",
      "123.Henslow_Sparrow            test samples 12   , training samples 48   : [0.5833333333333334]\n",
      "124.Le_Conte_Sparrow           test samples 12   , training samples 47   : [0.5]\n",
      "125.Lincoln_Sparrow            test samples 12   , training samples 47   : [0.5833333333333334]\n",
      "126.Nelson_Sharp_tailed_Sparrow test samples 12   , training samples 47   : [0.8333333333333334]\n",
      "127.Savannah_Sparrow           test samples 12   , training samples 48   : [0.5833333333333334]\n",
      "128.Seaside_Sparrow            test samples 12   , training samples 48   : [0.8333333333333334]\n",
      "129.Song_Sparrow               test samples 12   , training samples 48   : [0.5833333333333334]\n",
      "130.Tree_Sparrow               test samples 12   , training samples 48   : [0.8333333333333334]\n",
      "131.Vesper_Sparrow             test samples 12   , training samples 48   : [0.75]\n",
      "132.White_crowned_Sparrow      test samples 12   , training samples 48   : [0.8333333333333334]\n",
      "133.White_throated_Sparrow     test samples 12   , training samples 48   : [1.0]\n",
      "134.Cape_Glossy_Starling       test samples 12   , training samples 48   : [0.9166666666666666]\n",
      "135.Bank_Swallow               test samples 12   , training samples 47   : [0.5833333333333334]\n",
      "136.Barn_Swallow               test samples 12   , training samples 48   : [0.5]\n",
      "137.Cliff_Swallow              test samples 12   , training samples 48   : [0.8333333333333334]\n",
      "138.Tree_Swallow               test samples 12   , training samples 48   : [0.8333333333333334]\n",
      "139.Scarlet_Tanager            test samples 12   , training samples 48   : [1.0]\n",
      "140.Summer_Tanager             test samples 12   , training samples 48   : [1.0]\n",
      "141.Artic_Tern                 test samples 11   , training samples 47   : [0.7272727272727273]\n",
      "142.Black_Tern                 test samples 12   , training samples 48   : [0.5]\n",
      "143.Caspian_Tern               test samples 12   , training samples 48   : [0.25]\n",
      "144.Common_Tern                test samples 12   , training samples 48   : [0.3333333333333333]\n",
      "145.Elegant_Tern               test samples 12   , training samples 48   : [0.5833333333333334]\n",
      "146.Forsters_Tern              test samples 12   , training samples 48   : [0.5833333333333334]\n",
      "147.Least_Tern                 test samples 12   , training samples 48   : [0.8333333333333334]\n",
      "148.Green_tailed_Towhee        test samples 12   , training samples 48   : [0.9166666666666666]\n",
      "149.Brown_Thrasher             test samples 12   , training samples 47   : [0.8333333333333334]\n",
      "150.Sage_Thrasher              test samples 12   , training samples 48   : [0.6666666666666666]\n",
      "151.Black_capped_Vireo         test samples 10   , training samples 41   : [0.9]\n",
      "152.Blue_headed_Vireo          test samples 12   , training samples 48   : [0.75]\n",
      "153.Philadelphia_Vireo         test samples 12   , training samples 47   : [0.6666666666666666]\n",
      "154.Red_eyed_Vireo             test samples 12   , training samples 48   : [0.75]\n",
      "155.Warbling_Vireo             test samples 12   , training samples 48   : [0.5833333333333334]\n",
      "156.White_eyed_Vireo           test samples 12   , training samples 48   : [0.75]\n",
      "157.Yellow_throated_Vireo      test samples 12   , training samples 47   : [0.6666666666666666]\n",
      "158.Bay_breasted_Warbler       test samples 12   , training samples 48   : [0.8333333333333334]\n",
      "159.Black_and_white_Warbler    test samples 12   , training samples 48   : [1.0]\n",
      "160.Black_throated_Blue_Warbler test samples 12   , training samples 47   : [0.75]\n",
      "161.Blue_winged_Warbler        test samples 12   , training samples 48   : [0.9166666666666666]\n",
      "162.Canada_Warbler             test samples 12   , training samples 48   : [0.75]\n",
      "163.Cape_May_Warbler           test samples 12   , training samples 48   : [0.9166666666666666]\n",
      "164.Cerulean_Warbler           test samples 12   , training samples 48   : [1.0]\n",
      "165.Chestnut_sided_Warbler     test samples 12   , training samples 48   : [0.8333333333333334]\n",
      "166.Golden_winged_Warbler      test samples 12   , training samples 47   : [0.8333333333333334]\n",
      "167.Hooded_Warbler             test samples 12   , training samples 48   : [0.75]\n",
      "168.Kentucky_Warbler           test samples 12   , training samples 47   : [0.9166666666666666]\n",
      "169.Magnolia_Warbler           test samples 12   , training samples 47   : [0.8333333333333334]\n",
      "170.Mourning_Warbler           test samples 12   , training samples 48   : [0.8333333333333334]\n",
      "171.Myrtle_Warbler             test samples 12   , training samples 48   : [0.75]\n",
      "172.Nashville_Warbler          test samples 12   , training samples 48   : [0.8333333333333334]\n",
      "173.Orange_crowned_Warbler     test samples 12   , training samples 48   : [0.6666666666666666]\n",
      "174.Palm_Warbler               test samples 12   , training samples 48   : [0.6666666666666666]\n",
      "175.Pine_Warbler               test samples 12   , training samples 48   : [0.5]\n",
      "176.Prairie_Warbler            test samples 12   , training samples 48   : [1.0]\n",
      "177.Prothonotary_Warbler       test samples 12   , training samples 48   : [1.0]\n",
      "178.Swainson_Warbler           test samples 11   , training samples 45   : [0.6363636363636364]\n",
      "179.Tennessee_Warbler          test samples 12   , training samples 47   : [0.4166666666666667]\n",
      "180.Wilson_Warbler             test samples 12   , training samples 48   : [0.8333333333333334]\n",
      "181.Worm_eating_Warbler        test samples 12   , training samples 47   : [0.9166666666666666]\n",
      "182.Yellow_Warbler             test samples 12   , training samples 48   : [0.6666666666666666]\n",
      "183.Northern_Waterthrush       test samples 12   , training samples 48   : [0.5]\n",
      "184.Louisiana_Waterthrush      test samples 12   , training samples 48   : [0.5833333333333334]\n",
      "185.Bohemian_Waxwing           test samples 12   , training samples 48   : [0.9166666666666666]\n",
      "186.Cedar_Waxwing              test samples 12   , training samples 48   : [1.0]\n",
      "187.American_Three_toed_Woodpecker test samples 10   , training samples 40   : [0.8]\n",
      "188.Pileated_Woodpecker        test samples 12   , training samples 48   : [1.0]\n",
      "189.Red_bellied_Woodpecker     test samples 12   , training samples 48   : [1.0]\n",
      "190.Red_cockaded_Woodpecker    test samples 11   , training samples 47   : [0.8181818181818182]\n",
      "191.Red_headed_Woodpecker      test samples 12   , training samples 48   : [0.8333333333333334]\n",
      "192.Downy_Woodpecker           test samples 12   , training samples 48   : [1.0]\n",
      "193.Bewick_Wren                test samples 12   , training samples 48   : [0.6666666666666666]\n",
      "194.Cactus_Wren                test samples 12   , training samples 48   : [0.8333333333333334]\n",
      "195.Carolina_Wren              test samples 12   , training samples 48   : [0.6666666666666666]\n",
      "196.House_Wren                 test samples 12   , training samples 47   : [0.75]\n",
      "197.Marsh_Wren                 test samples 12   , training samples 48   : [0.75]\n",
      "198.Rock_Wren                  test samples 12   , training samples 48   : [1.0]\n",
      "199.Winter_Wren                test samples 12   , training samples 48   : [0.9166666666666666]\n",
      "200.Common_Yellowthroat        test samples 12   , training samples 48   : [0.9166666666666666]\n"
     ]
    }
   ],
   "source": [
    "acc_dict = {}\n",
    "for i in test_labels.unique():\n",
    "    new_labels = test_labels[test_labels==i]\n",
    "    new_embeddings = test_embeddings[test_labels==i]\n",
    "    accuracies = accuracy_calculator.get_accuracy(\n",
    "        new_embeddings, new_labels, train_embeddings, train_labels, False\n",
    "    )\n",
    "    acc_dict[data_dict[int(i.detach().cpu().numpy())]]=[ \n",
    "                  len(new_labels),\n",
    "                  len(train_labels[train_labels==i]),\n",
    "                  accuracies[\"precision_at_1\"][0]]\n",
    "    print(\"{:<30} test samples {:<5}, training samples {:<5}: {}\".format(data_dict[int(i.detach().cpu().numpy())],\n",
    "                                                                  len(new_labels),\n",
    "                                                                  len(train_labels[train_labels==i]),\n",
    "                                                                  accuracies[\"precision_at_1\"]))"
   ]
  },
  {
   "cell_type": "code",
   "execution_count": 42,
   "id": "971a3f40-43ba-47d0-b313-b6f86dd13d81",
   "metadata": {},
   "outputs": [],
   "source": [
    "all_table = [[k]+v for k,v in acc_dict.items()]"
   ]
  },
  {
   "cell_type": "code",
   "execution_count": 43,
   "id": "c4d9d6d7-2f79-410e-9e8d-b03d5df6092d",
   "metadata": {},
   "outputs": [],
   "source": [
    "columns = [\"class_name\", \"no. of test samples\", \"no. of train samples\", \"precision@1\"]\n",
    "train_table = wandb.Table(data=all_table, columns=columns)"
   ]
  },
  {
   "cell_type": "code",
   "execution_count": 44,
   "id": "76dc029c-15da-4f8d-9a24-d2a6e13e4e3f",
   "metadata": {},
   "outputs": [],
   "source": [
    "run.log({\"all_classes_metrics\": train_table})"
   ]
  },
  {
   "cell_type": "code",
   "execution_count": 45,
   "id": "48f001d0-dfdb-49ca-bee6-de0cda9c846b",
   "metadata": {},
   "outputs": [
    {
     "name": "stderr",
     "output_type": "stream",
     "text": [
      "100%|█████████████████████████████████████████████████████████████████████████████████████████████████████| 295/295 [00:21<00:00, 14.03it/s]\n",
      "100%|███████████████████████████████████████████████████████████████████████████████████████████████████████| 74/74 [00:04<00:00, 15.00it/s]\n"
     ]
    }
   ],
   "source": [
    "train_embeddings, train_labels = get_all_embeddings(train_dataset, model)\n",
    "test_embeddings, test_labels = get_all_embeddings(test_dataset, model)\n",
    "train_labels = train_labels.squeeze(1)\n",
    "test_labels = test_labels.squeeze(1)"
   ]
  },
  {
   "cell_type": "code",
   "execution_count": 47,
   "id": "314f5a94-c661-4bf1-8f4e-2ed603c00941",
   "metadata": {},
   "outputs": [
    {
     "name": "stderr",
     "output_type": "stream",
     "text": [
      "100%|█████████████████████████████████████████████████████████████████████████████████████████████████████| 295/295 [00:21<00:00, 13.98it/s]\n",
      "100%|███████████████████████████████████████████████████████████████████████████████████████████████████████| 74/74 [00:05<00:00, 13.62it/s]\n"
     ]
    }
   ],
   "source": [
    "train_embeddings, train_labels = get_all_embeddings(train_dataset, model)\n",
    "test_embeddings, test_labels = get_all_embeddings(test_dataset, model)\n",
    "train_labels = train_labels.squeeze(1)\n",
    "test_labels = test_labels.squeeze(1)"
   ]
  },
  {
   "cell_type": "code",
   "execution_count": 48,
   "id": "3a95fea1-6b58-4dcf-aeb7-de1a40ee731b",
   "metadata": {},
   "outputs": [],
   "source": [
    "import faiss\n",
    "# Create a Faiss index\n",
    "index = faiss.IndexFlatIP(128)\n",
    "# Add some vectors to the index\n",
    "index.add(train_embeddings.detach().cpu().numpy())"
   ]
  },
  {
   "cell_type": "code",
   "execution_count": 49,
   "id": "b7865da3-0493-4c18-b748-9ed4858e4168",
   "metadata": {},
   "outputs": [],
   "source": [
    "pred_labels = [] \n",
    "for embedding,label in zip(test_embeddings.detach().cpu().numpy(),test_labels):\n",
    "    _, indices = index.search(embedding.reshape(1,-1).astype(np.float32), 1)\n",
    "    pred_class = train_labels[indices[0][0]]\n",
    "    pred_labels.append(pred_class)"
   ]
  },
  {
   "cell_type": "code",
   "execution_count": 50,
   "id": "4dfd3a2f-3e63-45ec-9429-abb80862949d",
   "metadata": {},
   "outputs": [],
   "source": [
    "pred_labels = [i.detach().cpu().numpy() for i in pred_labels]"
   ]
  },
  {
   "cell_type": "code",
   "execution_count": 51,
   "id": "09e38eb6-ef8a-4a3d-bd0d-41939ffe9133",
   "metadata": {
    "scrolled": true
   },
   "outputs": [],
   "source": [
    "from sklearn.metrics import classification_report\n",
    "report = classification_report(test_labels.detach().cpu().numpy(), pred_labels, target_names=list(class_dict.keys()),output_dict=True)"
   ]
  },
  {
   "cell_type": "code",
   "execution_count": 52,
   "id": "bc382f16-271b-482f-ba83-7d9f2e382e81",
   "metadata": {
    "scrolled": true
   },
   "outputs": [
    {
     "name": "stdout",
     "output_type": "stream",
     "text": [
      "                                    precision    recall  f1-score   support\n",
      "\n",
      "        001.Black_footed_Albatross       0.62      0.83      0.71        12\n",
      "              002.Laysan_Albatross       0.90      0.75      0.82        12\n",
      "               003.Sooty_Albatross       0.82      0.75      0.78        12\n",
      "             004.Groove_billed_Ani       0.71      1.00      0.83        12\n",
      "                005.Crested_Auklet       0.89      0.89      0.89         9\n",
      "                  006.Least_Auklet       0.78      0.88      0.82         8\n",
      "               007.Parakeet_Auklet       0.75      0.90      0.82        10\n",
      "             008.Rhinoceros_Auklet       0.70      0.78      0.74         9\n",
      "              009.Brewer_Blackbird       0.40      0.33      0.36        12\n",
      "          010.Red_winged_Blackbird       1.00      1.00      1.00        12\n",
      "               011.Rusty_Blackbird       0.54      0.58      0.56        12\n",
      "       012.Yellow_headed_Blackbird       1.00      1.00      1.00        11\n",
      "                      013.Bobolink       1.00      0.83      0.91        12\n",
      "                014.Indigo_Bunting       0.71      0.83      0.77        12\n",
      "                015.Lazuli_Bunting       0.90      0.82      0.86        11\n",
      "               016.Painted_Bunting       1.00      0.73      0.84        11\n",
      "                      017.Cardinal       1.00      0.91      0.95        11\n",
      "               018.Spotted_Catbird       1.00      1.00      1.00         9\n",
      "                  019.Gray_Catbird       0.91      0.83      0.87        12\n",
      "          020.Yellow_breasted_Chat       0.83      0.83      0.83        12\n",
      "                021.Eastern_Towhee       0.85      0.92      0.88        12\n",
      "              022.Chuck_will_Widow       0.67      0.91      0.77        11\n",
      "              023.Brandt_Cormorant       0.45      0.42      0.43        12\n",
      "           024.Red_faced_Cormorant       0.71      1.00      0.83        10\n",
      "             025.Pelagic_Cormorant       0.40      0.33      0.36        12\n",
      "               026.Bronzed_Cowbird       0.88      0.58      0.70        12\n",
      "                 027.Shiny_Cowbird       0.36      0.33      0.35        12\n",
      "                 028.Brown_Creeper       1.00      1.00      1.00        12\n",
      "                 029.American_Crow       0.24      0.33      0.28        12\n",
      "                     030.Fish_Crow       0.27      0.33      0.30        12\n",
      "           031.Black_billed_Cuckoo       0.89      0.67      0.76        12\n",
      "               032.Mangrove_Cuckoo       0.62      0.80      0.70        10\n",
      "          033.Yellow_billed_Cuckoo       0.50      0.58      0.54        12\n",
      "       034.Gray_crowned_Rosy_Finch       0.92      0.92      0.92        12\n",
      "                  035.Purple_Finch       1.00      1.00      1.00        12\n",
      "              036.Northern_Flicker       1.00      0.83      0.91        12\n",
      "            037.Acadian_Flycatcher       0.60      0.50      0.55        12\n",
      "      038.Great_Crested_Flycatcher       0.75      0.75      0.75        12\n",
      "              039.Least_Flycatcher       0.38      0.42      0.40        12\n",
      "        040.Olive_sided_Flycatcher       0.62      0.42      0.50        12\n",
      "     041.Scissor_tailed_Flycatcher       1.00      0.92      0.96        12\n",
      "          042.Vermilion_Flycatcher       1.00      1.00      1.00        12\n",
      "     043.Yellow_bellied_Flycatcher       0.44      0.33      0.38        12\n",
      "                   044.Frigatebird       0.77      0.83      0.80        12\n",
      "               045.Northern_Fulmar       0.64      0.75      0.69        12\n",
      "                       046.Gadwall       1.00      1.00      1.00        12\n",
      "            047.American_Goldfinch       0.92      1.00      0.96        12\n",
      "            048.European_Goldfinch       1.00      1.00      1.00        12\n",
      "           049.Boat_tailed_Grackle       0.80      0.67      0.73        12\n",
      "                   050.Eared_Grebe       0.82      0.75      0.78        12\n",
      "                  051.Horned_Grebe       0.91      0.83      0.87        12\n",
      "             052.Pied_billed_Grebe       0.85      0.92      0.88        12\n",
      "                 053.Western_Grebe       0.92      0.92      0.92        12\n",
      "                 054.Blue_Grosbeak       0.82      0.75      0.78        12\n",
      "              055.Evening_Grosbeak       1.00      1.00      1.00        12\n",
      "                 056.Pine_Grosbeak       0.92      1.00      0.96        12\n",
      "        057.Rose_breasted_Grosbeak       1.00      0.92      0.96        12\n",
      "              058.Pigeon_Guillemot       1.00      0.83      0.91        12\n",
      "               059.California_Gull       0.32      0.58      0.41        12\n",
      "          060.Glaucous_winged_Gull       0.50      0.42      0.45        12\n",
      "                 061.Heermann_Gull       0.85      0.92      0.88        12\n",
      "                  062.Herring_Gull       0.62      0.42      0.50        12\n",
      "                    063.Ivory_Gull       0.85      0.92      0.88        12\n",
      "              064.Ring_billed_Gull       0.88      0.58      0.70        12\n",
      "             065.Slaty_backed_Gull       1.00      0.50      0.67        10\n",
      "                  066.Western_Gull       0.42      0.42      0.42        12\n",
      "              067.Anna_Hummingbird       0.80      0.67      0.73        12\n",
      "     068.Ruby_throated_Hummingbird       0.75      0.75      0.75        12\n",
      "            069.Rufous_Hummingbird       0.71      0.83      0.77        12\n",
      "               070.Green_Violetear       1.00      0.92      0.96        12\n",
      "            071.Long_tailed_Jaeger       0.67      0.50      0.57        12\n",
      "               072.Pomarine_Jaeger       0.58      0.58      0.58        12\n",
      "                      073.Blue_Jay       0.91      0.83      0.87        12\n",
      "                   074.Florida_Jay       0.92      0.92      0.92        12\n",
      "                     075.Green_Jay       0.92      1.00      0.96        11\n",
      "               076.Dark_eyed_Junco       0.92      0.92      0.92        12\n",
      "             077.Tropical_Kingbird       0.73      0.92      0.81        12\n",
      "                 078.Gray_Kingbird       0.73      0.67      0.70        12\n",
      "             079.Belted_Kingfisher       0.71      0.83      0.77        12\n",
      "              080.Green_Kingfisher       0.77      0.83      0.80        12\n",
      "               081.Pied_Kingfisher       0.92      0.92      0.92        12\n",
      "             082.Ringed_Kingfisher       0.88      0.58      0.70        12\n",
      "     083.White_breasted_Kingfisher       0.92      0.92      0.92        12\n",
      "          084.Red_legged_Kittiwake       0.80      0.80      0.80        10\n",
      "                   085.Horned_Lark       1.00      1.00      1.00        12\n",
      "                  086.Pacific_Loon       0.79      0.92      0.85        12\n",
      "                       087.Mallard       0.92      0.92      0.92        12\n",
      "            088.Western_Meadowlark       1.00      1.00      1.00        12\n",
      "              089.Hooded_Merganser       0.90      0.75      0.82        12\n",
      "        090.Red_breasted_Merganser       0.79      0.92      0.85        12\n",
      "                   091.Mockingbird       0.88      0.58      0.70        12\n",
      "                     092.Nighthawk       0.82      0.75      0.78        12\n",
      "              093.Clark_Nutcracker       1.00      0.92      0.96        12\n",
      "       094.White_breasted_Nuthatch       1.00      1.00      1.00        12\n",
      "              095.Baltimore_Oriole       0.73      0.92      0.81        12\n",
      "                 096.Hooded_Oriole       0.92      0.92      0.92        12\n",
      "                097.Orchard_Oriole       0.89      0.67      0.76        12\n",
      "                  098.Scott_Oriole       0.85      0.92      0.88        12\n",
      "                      099.Ovenbird       0.85      0.92      0.88        12\n",
      "                 100.Brown_Pelican       1.00      1.00      1.00        12\n",
      "                 101.White_Pelican       1.00      1.00      1.00        10\n",
      "            102.Western_Wood_Pewee       0.32      0.50      0.39        12\n",
      "                      103.Sayornis       0.60      0.50      0.55        12\n",
      "                104.American_Pipit       0.71      0.83      0.77        12\n",
      "                105.Whip_poor_Will       0.80      0.40      0.53        10\n",
      "                 106.Horned_Puffin       1.00      1.00      1.00        12\n",
      "                  107.Common_Raven       0.12      0.08      0.10        12\n",
      "            108.White_necked_Raven       0.85      0.92      0.88        12\n",
      "             109.American_Redstart       0.80      1.00      0.89        12\n",
      "                     110.Geococcyx       0.85      0.92      0.88        12\n",
      "             111.Loggerhead_Shrike       0.54      0.58      0.56        12\n",
      "             112.Great_Grey_Shrike       0.57      0.67      0.62        12\n",
      "                 113.Baird_Sparrow       0.47      0.70      0.56        10\n",
      "        114.Black_throated_Sparrow       0.83      0.83      0.83        12\n",
      "                115.Brewer_Sparrow       0.69      0.75      0.72        12\n",
      "              116.Chipping_Sparrow       0.53      0.67      0.59        12\n",
      "          117.Clay_colored_Sparrow       0.62      0.83      0.71        12\n",
      "                 118.House_Sparrow       0.67      0.33      0.44        12\n",
      "                 119.Field_Sparrow       0.91      0.83      0.87        12\n",
      "                   120.Fox_Sparrow       0.79      0.92      0.85        12\n",
      "           121.Grasshopper_Sparrow       0.75      0.50      0.60        12\n",
      "                122.Harris_Sparrow       0.88      0.58      0.70        12\n",
      "               123.Henslow_Sparrow       0.70      0.58      0.64        12\n",
      "              124.Le_Conte_Sparrow       0.58      0.58      0.58        12\n",
      "               125.Lincoln_Sparrow       0.78      0.58      0.67        12\n",
      "   126.Nelson_Sharp_tailed_Sparrow       0.88      0.58      0.70        12\n",
      "              127.Savannah_Sparrow       0.60      0.50      0.55        12\n",
      "               128.Seaside_Sparrow       0.77      0.83      0.80        12\n",
      "                  129.Song_Sparrow       0.70      0.58      0.64        12\n",
      "                  130.Tree_Sparrow       0.70      0.58      0.64        12\n",
      "                131.Vesper_Sparrow       0.50      0.83      0.62        12\n",
      "         132.White_crowned_Sparrow       1.00      0.92      0.96        12\n",
      "        133.White_throated_Sparrow       0.75      1.00      0.86        12\n",
      "          134.Cape_Glossy_Starling       0.80      1.00      0.89        12\n",
      "                  135.Bank_Swallow       0.75      0.50      0.60        12\n",
      "                  136.Barn_Swallow       0.92      0.92      0.92        12\n",
      "                 137.Cliff_Swallow       0.83      0.83      0.83        12\n",
      "                  138.Tree_Swallow       1.00      0.83      0.91        12\n",
      "               139.Scarlet_Tanager       0.92      1.00      0.96        12\n",
      "                140.Summer_Tanager       0.92      0.92      0.92        12\n",
      "                    141.Artic_Tern       0.57      0.73      0.64        11\n",
      "                    142.Black_Tern       0.80      0.67      0.73        12\n",
      "                  143.Caspian_Tern       0.25      0.17      0.20        12\n",
      "                   144.Common_Tern       0.40      0.50      0.44        12\n",
      "                  145.Elegant_Tern       0.45      0.42      0.43        12\n",
      "                 146.Forsters_Tern       0.54      0.58      0.56        12\n",
      "                    147.Least_Tern       0.83      0.83      0.83        12\n",
      "           148.Green_tailed_Towhee       0.92      0.92      0.92        12\n",
      "                149.Brown_Thrasher       0.91      0.83      0.87        12\n",
      "                 150.Sage_Thrasher       0.53      0.67      0.59        12\n",
      "            151.Black_capped_Vireo       0.82      0.90      0.86        10\n",
      "             152.Blue_headed_Vireo       0.82      0.75      0.78        12\n",
      "            153.Philadelphia_Vireo       0.64      0.75      0.69        12\n",
      "                154.Red_eyed_Vireo       0.56      0.83      0.67        12\n",
      "                155.Warbling_Vireo       0.70      0.58      0.64        12\n",
      "              156.White_eyed_Vireo       1.00      0.83      0.91        12\n",
      "         157.Yellow_throated_Vireo       0.80      0.67      0.73        12\n",
      "          158.Bay_breasted_Warbler       0.82      0.75      0.78        12\n",
      "       159.Black_and_white_Warbler       0.92      0.92      0.92        12\n",
      "   160.Black_throated_Blue_Warbler       0.91      0.83      0.87        12\n",
      "           161.Blue_winged_Warbler       0.85      0.92      0.88        12\n",
      "                162.Canada_Warbler       0.91      0.83      0.87        12\n",
      "              163.Cape_May_Warbler       0.92      1.00      0.96        12\n",
      "              164.Cerulean_Warbler       0.67      1.00      0.80        12\n",
      "        165.Chestnut_sided_Warbler       0.85      0.92      0.88        12\n",
      "         166.Golden_winged_Warbler       0.92      0.92      0.92        12\n",
      "                167.Hooded_Warbler       0.82      0.75      0.78        12\n",
      "              168.Kentucky_Warbler       1.00      0.92      0.96        12\n",
      "              169.Magnolia_Warbler       0.77      0.83      0.80        12\n",
      "              170.Mourning_Warbler       0.80      0.67      0.73        12\n",
      "                171.Myrtle_Warbler       0.88      0.58      0.70        12\n",
      "             172.Nashville_Warbler       0.59      0.83      0.69        12\n",
      "        173.Orange_crowned_Warbler       0.53      0.67      0.59        12\n",
      "                  174.Palm_Warbler       0.80      0.67      0.73        12\n",
      "                  175.Pine_Warbler       0.70      0.58      0.64        12\n",
      "               176.Prairie_Warbler       0.77      0.83      0.80        12\n",
      "          177.Prothonotary_Warbler       1.00      1.00      1.00        12\n",
      "              178.Swainson_Warbler       0.62      0.73      0.67        11\n",
      "             179.Tennessee_Warbler       0.40      0.17      0.24        12\n",
      "                180.Wilson_Warbler       0.83      0.83      0.83        12\n",
      "           181.Worm_eating_Warbler       1.00      0.83      0.91        12\n",
      "                182.Yellow_Warbler       0.90      0.75      0.82        12\n",
      "          183.Northern_Waterthrush       0.56      0.42      0.48        12\n",
      "         184.Louisiana_Waterthrush       0.47      0.75      0.58        12\n",
      "              185.Bohemian_Waxwing       1.00      0.92      0.96        12\n",
      "                 186.Cedar_Waxwing       0.92      1.00      0.96        12\n",
      "187.American_Three_toed_Woodpecker       1.00      0.60      0.75        10\n",
      "           188.Pileated_Woodpecker       1.00      1.00      1.00        12\n",
      "        189.Red_bellied_Woodpecker       0.86      1.00      0.92        12\n",
      "       190.Red_cockaded_Woodpecker       0.83      0.91      0.87        11\n",
      "         191.Red_headed_Woodpecker       1.00      0.83      0.91        12\n",
      "              192.Downy_Woodpecker       0.86      1.00      0.92        12\n",
      "                   193.Bewick_Wren       0.75      0.75      0.75        12\n",
      "                   194.Cactus_Wren       0.83      0.83      0.83        12\n",
      "                 195.Carolina_Wren       0.77      0.83      0.80        12\n",
      "                    196.House_Wren       0.44      0.33      0.38        12\n",
      "                    197.Marsh_Wren       0.77      0.83      0.80        12\n",
      "                     198.Rock_Wren       0.86      1.00      0.92        12\n",
      "                   199.Winter_Wren       0.71      0.83      0.77        12\n",
      "           200.Common_Yellowthroat       0.92      1.00      0.96        12\n",
      "\n",
      "                          accuracy                           0.77      2358\n",
      "                         macro avg       0.78      0.77      0.76      2358\n",
      "                      weighted avg       0.78      0.77      0.76      2358\n",
      "\n"
     ]
    }
   ],
   "source": [
    "print(classification_report(test_labels.detach().cpu().numpy(), pred_labels, target_names=list(class_dict.keys())))"
   ]
  },
  {
   "cell_type": "code",
   "execution_count": 53,
   "id": "1e8845dc-c978-4b7b-99e4-9729b79d87c1",
   "metadata": {},
   "outputs": [],
   "source": [
    "df = pd.DataFrame(report).transpose()"
   ]
  },
  {
   "cell_type": "code",
   "execution_count": 54,
   "id": "282eb152-50d2-46bd-ad7c-5904c9b2f0a4",
   "metadata": {},
   "outputs": [
    {
     "data": {
      "text/html": [
       "<div>\n",
       "<style scoped>\n",
       "    .dataframe tbody tr th:only-of-type {\n",
       "        vertical-align: middle;\n",
       "    }\n",
       "\n",
       "    .dataframe tbody tr th {\n",
       "        vertical-align: top;\n",
       "    }\n",
       "\n",
       "    .dataframe thead th {\n",
       "        text-align: right;\n",
       "    }\n",
       "</style>\n",
       "<table border=\"1\" class=\"dataframe\">\n",
       "  <thead>\n",
       "    <tr style=\"text-align: right;\">\n",
       "      <th></th>\n",
       "      <th>precision</th>\n",
       "      <th>recall</th>\n",
       "      <th>f1-score</th>\n",
       "      <th>support</th>\n",
       "    </tr>\n",
       "  </thead>\n",
       "  <tbody>\n",
       "    <tr>\n",
       "      <th>001.Black_footed_Albatross</th>\n",
       "      <td>0.625000</td>\n",
       "      <td>0.833333</td>\n",
       "      <td>0.714286</td>\n",
       "      <td>12.0</td>\n",
       "    </tr>\n",
       "    <tr>\n",
       "      <th>002.Laysan_Albatross</th>\n",
       "      <td>0.900000</td>\n",
       "      <td>0.750000</td>\n",
       "      <td>0.818182</td>\n",
       "      <td>12.0</td>\n",
       "    </tr>\n",
       "    <tr>\n",
       "      <th>003.Sooty_Albatross</th>\n",
       "      <td>0.818182</td>\n",
       "      <td>0.750000</td>\n",
       "      <td>0.782609</td>\n",
       "      <td>12.0</td>\n",
       "    </tr>\n",
       "    <tr>\n",
       "      <th>004.Groove_billed_Ani</th>\n",
       "      <td>0.705882</td>\n",
       "      <td>1.000000</td>\n",
       "      <td>0.827586</td>\n",
       "      <td>12.0</td>\n",
       "    </tr>\n",
       "    <tr>\n",
       "      <th>005.Crested_Auklet</th>\n",
       "      <td>0.888889</td>\n",
       "      <td>0.888889</td>\n",
       "      <td>0.888889</td>\n",
       "      <td>9.0</td>\n",
       "    </tr>\n",
       "  </tbody>\n",
       "</table>\n",
       "</div>"
      ],
      "text/plain": [
       "                            precision    recall  f1-score  support\n",
       "001.Black_footed_Albatross   0.625000  0.833333  0.714286     12.0\n",
       "002.Laysan_Albatross         0.900000  0.750000  0.818182     12.0\n",
       "003.Sooty_Albatross          0.818182  0.750000  0.782609     12.0\n",
       "004.Groove_billed_Ani        0.705882  1.000000  0.827586     12.0\n",
       "005.Crested_Auklet           0.888889  0.888889  0.888889      9.0"
      ]
     },
     "execution_count": 54,
     "metadata": {},
     "output_type": "execute_result"
    }
   ],
   "source": [
    "df.head()"
   ]
  },
  {
   "cell_type": "code",
   "execution_count": 55,
   "id": "32e24514-4ae2-4dc2-b671-781c8c3d6180",
   "metadata": {},
   "outputs": [],
   "source": [
    "df.reset_index(inplace=True)"
   ]
  },
  {
   "cell_type": "code",
   "execution_count": 56,
   "id": "71ff6ed3-bcd9-4d2e-9371-b4c409d8a76c",
   "metadata": {},
   "outputs": [],
   "source": [
    "df.rename(columns={\"index\":'class_name'},inplace=True)"
   ]
  },
  {
   "cell_type": "code",
   "execution_count": 57,
   "id": "945dce04-630d-40b1-9e3d-8738875d3bd7",
   "metadata": {},
   "outputs": [],
   "source": [
    "classification_report_table = wandb.Table(dataframe=df)"
   ]
  },
  {
   "cell_type": "code",
   "execution_count": 58,
   "id": "3a1baa45-ad12-41e6-8e44-dd5ab0ba2eb7",
   "metadata": {},
   "outputs": [],
   "source": [
    "run.log({\"all_classes_classification_report\": classification_report_table})"
   ]
  },
  {
   "cell_type": "markdown",
   "id": "bbfc4b6e-d88c-45ac-9caf-6c5f26a0d52a",
   "metadata": {},
   "source": [
    "## Removing classes from training dataset and seeing performance"
   ]
  },
  {
   "cell_type": "code",
   "execution_count": 59,
   "id": "3597a740-157c-4c24-8d23-65c675de8f7d",
   "metadata": {},
   "outputs": [],
   "source": [
    "train_image_paths = []\n",
    "train_labels = []\n",
    "for folder_path,i in class_dict.items():\n",
    "    if i >= 180:\n",
    "        break\n",
    "    folder_images = glob.glob('CUB_200_2011/images/'+'/'+str(folder_path)+'/*')\n",
    "    train_image_paths.extend(folder_images)\n",
    "    train_labels.extend([i]*len(folder_images))"
   ]
  },
  {
   "cell_type": "code",
   "execution_count": 60,
   "id": "c353dd9e-9064-4774-8244-5770ac9c53cf",
   "metadata": {},
   "outputs": [],
   "source": [
    "test_image_paths = []\n",
    "test_labels = []\n",
    "for folder_path,i in class_dict.items():\n",
    "    if i >= 180:\n",
    "        folder_images = glob.glob('CUB_200_2011/images/'+'/'+str(folder_path)+'/*')\n",
    "        test_image_paths.extend(folder_images)\n",
    "        test_labels.extend([i]*len(folder_images))"
   ]
  },
  {
   "cell_type": "code",
   "execution_count": 61,
   "id": "7a58b988-aa16-4d57-99ef-c889b3bb72d6",
   "metadata": {},
   "outputs": [],
   "source": [
    "from sklearn.model_selection import train_test_split\n",
    "X_train, X_test, y_train, y_test = train_test_split(train_image_paths,train_labels, test_size=config['train_test_split'],\n",
    "                                                    stratify=train_labels, random_state=config['random_seed'])"
   ]
  },
  {
   "cell_type": "code",
   "execution_count": 62,
   "id": "c0902fb2-bd40-40c0-be84-81c2776bdfc6",
   "metadata": {},
   "outputs": [],
   "source": [
    "train_dataset  = CUBDataset(X_train,y_train,train_transform)\n",
    "test_dataset  = CUBDataset(X_test,y_test,test_transform)\n",
    "train_loader = torch.utils.data.DataLoader(train_dataset, batch_size=config['batch_size'], shuffle=True)\n",
    "test_loader = torch.utils.data.DataLoader(test_dataset, batch_size=config['batch_size'], shuffle=False)"
   ]
  },
  {
   "cell_type": "code",
   "execution_count": 63,
   "id": "74998763-e319-4389-a9cb-a14ef5a5ef47",
   "metadata": {},
   "outputs": [
    {
     "name": "stderr",
     "output_type": "stream",
     "text": [
      "/opt/conda/lib/python3.10/site-packages/torchvision/models/_utils.py:208: UserWarning: The parameter 'pretrained' is deprecated since 0.13 and may be removed in the future, please use 'weights' instead.\n",
      "  warnings.warn(\n",
      "/opt/conda/lib/python3.10/site-packages/torchvision/models/_utils.py:223: UserWarning: Arguments other than a weight enum or `None` for 'weights' are deprecated since 0.13 and may be removed in the future. The current behavior is equivalent to passing `weights=ResNet50_Weights.IMAGENET1K_V1`. You can also use `weights=ResNet50_Weights.DEFAULT` to get the most up-to-date weights.\n",
      "  warnings.warn(msg)\n"
     ]
    }
   ],
   "source": [
    "model = ResNetFeatrueExtractor50(pretrained=True)\n",
    "model = model.to(device)\n",
    "optimizer = optim.SGD(model.parameters(), lr=config['learning_rate'])\n",
    "num_epochs = config['num_epochs']\n",
    "\n",
    "### pytorch-metric-learning stuff ###\n",
    "distance = distances.CosineSimilarity()\n",
    "reducer = reducers.MeanReducer()\n",
    "loss_func = losses.NTXentLoss(temperature=config['temperature'], distance=distance, reducer=reducer)\n",
    "mining_func = miners.BatchEasyHardMiner(pos_strategy=\"easy\",neg_strategy=\"semihard\")\n",
    "knn_func = CustomKNN(CosineSimilarity())\n",
    "accuracy_calculator = AccuracyCalculator(include=(\"precision_at_1\",),k=1,knn_func=knn_func,avg_of_avgs=True,return_per_class=False)"
   ]
  },
  {
   "cell_type": "code",
   "execution_count": 64,
   "id": "51ad322f-f35f-44bf-b296-a546c9a9ae34",
   "metadata": {
    "scrolled": true
   },
   "outputs": [
    {
     "name": "stdout",
     "output_type": "stream",
     "text": [
      "Epoch 1 Iteration 0: Loss = 0.655242383480072\n"
     ]
    },
    {
     "name": "stderr",
     "output_type": "stream",
     "text": [
      "100%|█████████████████████████████████████████████████████████████████████████████████████████████████████| 266/266 [00:19<00:00, 13.77it/s]\n",
      "100%|███████████████████████████████████████████████████████████████████████████████████████████████████████| 67/67 [00:09<00:00,  6.86it/s]\n"
     ]
    },
    {
     "name": "stdout",
     "output_type": "stream",
     "text": [
      "Computing accuracy\n",
      "Test set accuracy (Precision@1) = 0.39314814814814814\n",
      "Epoch 2 Iteration 0: Loss = 0.5803188681602478\n"
     ]
    },
    {
     "name": "stderr",
     "output_type": "stream",
     "text": [
      "100%|█████████████████████████████████████████████████████████████████████████████████████████████████████| 266/266 [00:19<00:00, 13.63it/s]\n",
      "100%|███████████████████████████████████████████████████████████████████████████████████████████████████████| 67/67 [00:04<00:00, 14.36it/s]\n"
     ]
    },
    {
     "name": "stdout",
     "output_type": "stream",
     "text": [
      "Computing accuracy\n",
      "Test set accuracy (Precision@1) = 0.4313173400673401\n",
      "Epoch 3 Iteration 0: Loss = 0.5041823983192444\n"
     ]
    },
    {
     "name": "stderr",
     "output_type": "stream",
     "text": [
      "100%|█████████████████████████████████████████████████████████████████████████████████████████████████████| 266/266 [00:19<00:00, 13.68it/s]\n",
      "100%|███████████████████████████████████████████████████████████████████████████████████████████████████████| 67/67 [00:04<00:00, 14.67it/s]\n"
     ]
    },
    {
     "name": "stdout",
     "output_type": "stream",
     "text": [
      "Computing accuracy\n",
      "Test set accuracy (Precision@1) = 0.4598134118967453\n",
      "Epoch 4 Iteration 0: Loss = 0.4772356450557709\n"
     ]
    },
    {
     "name": "stderr",
     "output_type": "stream",
     "text": [
      "100%|█████████████████████████████████████████████████████████████████████████████████████████████████████| 266/266 [00:19<00:00, 13.36it/s]\n",
      "100%|███████████████████████████████████████████████████████████████████████████████████████████████████████| 67/67 [00:04<00:00, 14.48it/s]\n"
     ]
    },
    {
     "name": "stdout",
     "output_type": "stream",
     "text": [
      "Computing accuracy\n",
      "Test set accuracy (Precision@1) = 0.5040474186307521\n",
      "Epoch 5 Iteration 0: Loss = 0.5633496046066284\n"
     ]
    },
    {
     "name": "stderr",
     "output_type": "stream",
     "text": [
      "100%|█████████████████████████████████████████████████████████████████████████████████████████████████████| 266/266 [00:19<00:00, 13.83it/s]\n",
      "100%|███████████████████████████████████████████████████████████████████████████████████████████████████████| 67/67 [00:04<00:00, 14.70it/s]\n"
     ]
    },
    {
     "name": "stdout",
     "output_type": "stream",
     "text": [
      "Computing accuracy\n",
      "Test set accuracy (Precision@1) = 0.5054082491582491\n",
      "Epoch 6 Iteration 0: Loss = 0.5456346273422241\n"
     ]
    },
    {
     "name": "stderr",
     "output_type": "stream",
     "text": [
      "100%|█████████████████████████████████████████████████████████████████████████████████████████████████████| 266/266 [00:19<00:00, 13.73it/s]\n",
      "100%|███████████████████████████████████████████████████████████████████████████████████████████████████████| 67/67 [00:04<00:00, 14.90it/s]\n"
     ]
    },
    {
     "name": "stdout",
     "output_type": "stream",
     "text": [
      "Computing accuracy\n",
      "Test set accuracy (Precision@1) = 0.5320707070707071\n",
      "Epoch 7 Iteration 0: Loss = 0.46301254630088806\n"
     ]
    },
    {
     "name": "stderr",
     "output_type": "stream",
     "text": [
      "100%|█████████████████████████████████████████████████████████████████████████████████████████████████████| 266/266 [00:19<00:00, 13.90it/s]\n",
      "100%|███████████████████████████████████████████████████████████████████████████████████████████████████████| 67/67 [00:04<00:00, 14.82it/s]\n"
     ]
    },
    {
     "name": "stdout",
     "output_type": "stream",
     "text": [
      "Computing accuracy\n",
      "Test set accuracy (Precision@1) = 0.5432856341189676\n",
      "Epoch 8 Iteration 0: Loss = 0.5200292468070984\n"
     ]
    },
    {
     "name": "stderr",
     "output_type": "stream",
     "text": [
      "100%|█████████████████████████████████████████████████████████████████████████████████████████████████████| 266/266 [00:19<00:00, 13.85it/s]\n",
      "100%|███████████████████████████████████████████████████████████████████████████████████████████████████████| 67/67 [00:04<00:00, 14.79it/s]\n"
     ]
    },
    {
     "name": "stdout",
     "output_type": "stream",
     "text": [
      "Computing accuracy\n",
      "Test set accuracy (Precision@1) = 0.5612528058361392\n",
      "Epoch 9 Iteration 0: Loss = 0.40999269485473633\n"
     ]
    },
    {
     "name": "stderr",
     "output_type": "stream",
     "text": [
      "100%|█████████████████████████████████████████████████████████████████████████████████████████████████████| 266/266 [00:19<00:00, 13.68it/s]\n",
      "100%|███████████████████████████████████████████████████████████████████████████████████████████████████████| 67/67 [00:04<00:00, 14.89it/s]\n"
     ]
    },
    {
     "name": "stdout",
     "output_type": "stream",
     "text": [
      "Computing accuracy\n",
      "Test set accuracy (Precision@1) = 0.5711546015712682\n",
      "Epoch 10 Iteration 0: Loss = 0.5248320698738098\n"
     ]
    },
    {
     "name": "stderr",
     "output_type": "stream",
     "text": [
      "100%|█████████████████████████████████████████████████████████████████████████████████████████████████████| 266/266 [00:19<00:00, 13.79it/s]\n",
      "100%|███████████████████████████████████████████████████████████████████████████████████████████████████████| 67/67 [00:04<00:00, 15.00it/s]\n"
     ]
    },
    {
     "name": "stdout",
     "output_type": "stream",
     "text": [
      "Computing accuracy\n",
      "Test set accuracy (Precision@1) = 0.596712962962963\n",
      "Epoch 11 Iteration 0: Loss = 0.4810258150100708\n"
     ]
    },
    {
     "name": "stderr",
     "output_type": "stream",
     "text": [
      "100%|█████████████████████████████████████████████████████████████████████████████████████████████████████| 266/266 [00:19<00:00, 13.78it/s]\n",
      "100%|███████████████████████████████████████████████████████████████████████████████████████████████████████| 67/67 [00:04<00:00, 14.88it/s]\n"
     ]
    },
    {
     "name": "stdout",
     "output_type": "stream",
     "text": [
      "Computing accuracy\n",
      "Test set accuracy (Precision@1) = 0.5911714365881033\n",
      "Epoch 12 Iteration 0: Loss = 0.4176487326622009\n"
     ]
    },
    {
     "name": "stderr",
     "output_type": "stream",
     "text": [
      "100%|█████████████████████████████████████████████████████████████████████████████████████████████████████| 266/266 [00:19<00:00, 13.87it/s]\n",
      "100%|███████████████████████████████████████████████████████████████████████████████████████████████████████| 67/67 [00:04<00:00, 14.84it/s]\n"
     ]
    },
    {
     "name": "stdout",
     "output_type": "stream",
     "text": [
      "Computing accuracy\n",
      "Test set accuracy (Precision@1) = 0.5968055555555555\n",
      "Epoch 13 Iteration 0: Loss = 0.44585490226745605\n"
     ]
    },
    {
     "name": "stderr",
     "output_type": "stream",
     "text": [
      "100%|█████████████████████████████████████████████████████████████████████████████████████████████████████| 266/266 [00:19<00:00, 13.81it/s]\n",
      "100%|███████████████████████████████████████████████████████████████████████████████████████████████████████| 67/67 [00:04<00:00, 14.80it/s]\n"
     ]
    },
    {
     "name": "stdout",
     "output_type": "stream",
     "text": [
      "Computing accuracy\n",
      "Test set accuracy (Precision@1) = 0.6013959034792369\n",
      "Epoch 14 Iteration 0: Loss = 0.4168247580528259\n"
     ]
    },
    {
     "name": "stderr",
     "output_type": "stream",
     "text": [
      "100%|█████████████████████████████████████████████████████████████████████████████████████████████████████| 266/266 [00:19<00:00, 13.60it/s]\n",
      "100%|███████████████████████████████████████████████████████████████████████████████████████████████████████| 67/67 [00:04<00:00, 14.85it/s]\n"
     ]
    },
    {
     "name": "stdout",
     "output_type": "stream",
     "text": [
      "Computing accuracy\n",
      "Test set accuracy (Precision@1) = 0.6249845679012345\n",
      "Epoch 15 Iteration 0: Loss = 0.44340047240257263\n"
     ]
    },
    {
     "name": "stderr",
     "output_type": "stream",
     "text": [
      "100%|█████████████████████████████████████████████████████████████████████████████████████████████████████| 266/266 [00:19<00:00, 13.75it/s]\n",
      "100%|███████████████████████████████████████████████████████████████████████████████████████████████████████| 67/67 [00:04<00:00, 14.53it/s]\n"
     ]
    },
    {
     "name": "stdout",
     "output_type": "stream",
     "text": [
      "Computing accuracy\n",
      "Test set accuracy (Precision@1) = 0.6243799102132436\n",
      "Epoch 16 Iteration 0: Loss = 0.4138790965080261\n"
     ]
    },
    {
     "name": "stderr",
     "output_type": "stream",
     "text": [
      "100%|█████████████████████████████████████████████████████████████████████████████████████████████████████| 266/266 [00:19<00:00, 13.79it/s]\n",
      "100%|███████████████████████████████████████████████████████████████████████████████████████████████████████| 67/67 [00:04<00:00, 14.77it/s]\n"
     ]
    },
    {
     "name": "stdout",
     "output_type": "stream",
     "text": [
      "Computing accuracy\n",
      "Test set accuracy (Precision@1) = 0.6296534792368127\n",
      "Epoch 17 Iteration 0: Loss = 0.4190877079963684\n"
     ]
    },
    {
     "name": "stderr",
     "output_type": "stream",
     "text": [
      "100%|█████████████████████████████████████████████████████████████████████████████████████████████████████| 266/266 [00:19<00:00, 13.91it/s]\n",
      "100%|███████████████████████████████████████████████████████████████████████████████████████████████████████| 67/67 [00:04<00:00, 14.92it/s]\n"
     ]
    },
    {
     "name": "stdout",
     "output_type": "stream",
     "text": [
      "Computing accuracy\n",
      "Test set accuracy (Precision@1) = 0.6342255892255894\n",
      "Epoch 18 Iteration 0: Loss = 0.44548270106315613\n"
     ]
    },
    {
     "name": "stderr",
     "output_type": "stream",
     "text": [
      "100%|█████████████████████████████████████████████████████████████████████████████████████████████████████| 266/266 [00:19<00:00, 13.90it/s]\n",
      "100%|███████████████████████████████████████████████████████████████████████████████████████████████████████| 67/67 [00:04<00:00, 14.83it/s]\n"
     ]
    },
    {
     "name": "stdout",
     "output_type": "stream",
     "text": [
      "Computing accuracy\n",
      "Test set accuracy (Precision@1) = 0.6448540965207631\n",
      "Epoch 19 Iteration 0: Loss = 0.4205995798110962\n"
     ]
    },
    {
     "name": "stderr",
     "output_type": "stream",
     "text": [
      "100%|█████████████████████████████████████████████████████████████████████████████████████████████████████| 266/266 [00:19<00:00, 13.91it/s]\n",
      "100%|███████████████████████████████████████████████████████████████████████████████████████████████████████| 67/67 [00:04<00:00, 14.99it/s]\n"
     ]
    },
    {
     "name": "stdout",
     "output_type": "stream",
     "text": [
      "Computing accuracy\n",
      "Test set accuracy (Precision@1) = 0.6468392255892256\n",
      "Epoch 20 Iteration 0: Loss = 0.4102632999420166\n"
     ]
    },
    {
     "name": "stderr",
     "output_type": "stream",
     "text": [
      "100%|█████████████████████████████████████████████████████████████████████████████████████████████████████| 266/266 [00:19<00:00, 13.76it/s]\n",
      "100%|███████████████████████████████████████████████████████████████████████████████████████████████████████| 67/67 [00:04<00:00, 14.90it/s]\n"
     ]
    },
    {
     "name": "stdout",
     "output_type": "stream",
     "text": [
      "Computing accuracy\n",
      "Test set accuracy (Precision@1) = 0.651199494949495\n",
      "Epoch 21 Iteration 0: Loss = 0.46124207973480225\n"
     ]
    },
    {
     "name": "stderr",
     "output_type": "stream",
     "text": [
      "100%|█████████████████████████████████████████████████████████████████████████████████████████████████████| 266/266 [00:19<00:00, 13.88it/s]\n",
      "100%|███████████████████████████████████████████████████████████████████████████████████████████████████████| 67/67 [00:04<00:00, 14.67it/s]\n"
     ]
    },
    {
     "name": "stdout",
     "output_type": "stream",
     "text": [
      "Computing accuracy\n",
      "Test set accuracy (Precision@1) = 0.6523063973063973\n",
      "Epoch 22 Iteration 0: Loss = 0.3982871174812317\n"
     ]
    },
    {
     "name": "stderr",
     "output_type": "stream",
     "text": [
      "100%|█████████████████████████████████████████████████████████████████████████████████████████████████████| 266/266 [00:19<00:00, 13.66it/s]\n",
      "100%|███████████████████████████████████████████████████████████████████████████████████████████████████████| 67/67 [00:04<00:00, 14.66it/s]\n"
     ]
    },
    {
     "name": "stdout",
     "output_type": "stream",
     "text": [
      "Computing accuracy\n",
      "Test set accuracy (Precision@1) = 0.6527946127946128\n",
      "Epoch 23 Iteration 0: Loss = 0.44388824701309204\n"
     ]
    },
    {
     "name": "stderr",
     "output_type": "stream",
     "text": [
      "100%|█████████████████████████████████████████████████████████████████████████████████████████████████████| 266/266 [00:19<00:00, 13.70it/s]\n",
      "100%|███████████████████████████████████████████████████████████████████████████████████████████████████████| 67/67 [00:04<00:00, 14.74it/s]\n"
     ]
    },
    {
     "name": "stdout",
     "output_type": "stream",
     "text": [
      "Computing accuracy\n",
      "Test set accuracy (Precision@1) = 0.64743265993266\n",
      "Epoch 24 Iteration 0: Loss = 0.4166829586029053\n"
     ]
    },
    {
     "name": "stderr",
     "output_type": "stream",
     "text": [
      "100%|█████████████████████████████████████████████████████████████████████████████████████████████████████| 266/266 [00:19<00:00, 13.78it/s]\n",
      "100%|███████████████████████████████████████████████████████████████████████████████████████████████████████| 67/67 [00:04<00:00, 14.84it/s]\n"
     ]
    },
    {
     "name": "stdout",
     "output_type": "stream",
     "text": [
      "Computing accuracy\n",
      "Test set accuracy (Precision@1) = 0.6574340628507295\n",
      "Epoch 25 Iteration 0: Loss = 0.4132208228111267\n"
     ]
    },
    {
     "name": "stderr",
     "output_type": "stream",
     "text": [
      "100%|█████████████████████████████████████████████████████████████████████████████████████████████████████| 266/266 [00:19<00:00, 13.80it/s]\n",
      "100%|███████████████████████████████████████████████████████████████████████████████████████████████████████| 67/67 [00:04<00:00, 14.87it/s]\n"
     ]
    },
    {
     "name": "stdout",
     "output_type": "stream",
     "text": [
      "Computing accuracy\n",
      "Test set accuracy (Precision@1) = 0.664544051627385\n",
      "Epoch 26 Iteration 0: Loss = 0.4004809558391571\n"
     ]
    },
    {
     "name": "stderr",
     "output_type": "stream",
     "text": [
      "100%|█████████████████████████████████████████████████████████████████████████████████████████████████████| 266/266 [00:19<00:00, 13.66it/s]\n",
      "100%|███████████████████████████████████████████████████████████████████████████████████████████████████████| 67/67 [00:04<00:00, 14.85it/s]\n"
     ]
    },
    {
     "name": "stdout",
     "output_type": "stream",
     "text": [
      "Computing accuracy\n",
      "Test set accuracy (Precision@1) = 0.6613734567901235\n",
      "Epoch 27 Iteration 0: Loss = 0.3965492248535156\n"
     ]
    },
    {
     "name": "stderr",
     "output_type": "stream",
     "text": [
      "100%|█████████████████████████████████████████████████████████████████████████████████████████████████████| 266/266 [00:19<00:00, 13.77it/s]\n",
      "100%|███████████████████████████████████████████████████████████████████████████████████████████████████████| 67/67 [00:04<00:00, 14.94it/s]\n"
     ]
    },
    {
     "name": "stdout",
     "output_type": "stream",
     "text": [
      "Computing accuracy\n",
      "Test set accuracy (Precision@1) = 0.6693897306397305\n",
      "Epoch 28 Iteration 0: Loss = 0.3790317177772522\n"
     ]
    },
    {
     "name": "stderr",
     "output_type": "stream",
     "text": [
      "100%|█████████████████████████████████████████████████████████████████████████████████████████████████████| 266/266 [00:19<00:00, 13.73it/s]\n",
      "100%|███████████████████████████████████████████████████████████████████████████████████████████████████████| 67/67 [00:04<00:00, 14.74it/s]\n"
     ]
    },
    {
     "name": "stdout",
     "output_type": "stream",
     "text": [
      "Computing accuracy\n",
      "Test set accuracy (Precision@1) = 0.681753647586981\n",
      "Epoch 29 Iteration 0: Loss = 0.34742772579193115\n"
     ]
    },
    {
     "name": "stderr",
     "output_type": "stream",
     "text": [
      "100%|█████████████████████████████████████████████████████████████████████████████████████████████████████| 266/266 [00:19<00:00, 13.61it/s]\n",
      "100%|███████████████████████████████████████████████████████████████████████████████████████████████████████| 67/67 [00:04<00:00, 14.92it/s]\n"
     ]
    },
    {
     "name": "stdout",
     "output_type": "stream",
     "text": [
      "Computing accuracy\n",
      "Test set accuracy (Precision@1) = 0.6758922558922559\n",
      "Epoch 30 Iteration 0: Loss = 0.383931040763855\n"
     ]
    },
    {
     "name": "stderr",
     "output_type": "stream",
     "text": [
      "100%|█████████████████████████████████████████████████████████████████████████████████████████████████████| 266/266 [00:19<00:00, 13.75it/s]\n",
      "100%|███████████████████████████████████████████████████████████████████████████████████████████████████████| 67/67 [00:04<00:00, 14.86it/s]\n"
     ]
    },
    {
     "name": "stdout",
     "output_type": "stream",
     "text": [
      "Computing accuracy\n",
      "Test set accuracy (Precision@1) = 0.6732449494949495\n",
      "Epoch 31 Iteration 0: Loss = 0.40185391902923584\n"
     ]
    },
    {
     "name": "stderr",
     "output_type": "stream",
     "text": [
      "100%|█████████████████████████████████████████████████████████████████████████████████████████████████████| 266/266 [00:19<00:00, 13.80it/s]\n",
      "100%|███████████████████████████████████████████████████████████████████████████████████████████████████████| 67/67 [00:04<00:00, 14.39it/s]\n"
     ]
    },
    {
     "name": "stdout",
     "output_type": "stream",
     "text": [
      "Computing accuracy\n",
      "Test set accuracy (Precision@1) = 0.6729433221099888\n",
      "Epoch 32 Iteration 0: Loss = 0.32248401641845703\n"
     ]
    },
    {
     "name": "stderr",
     "output_type": "stream",
     "text": [
      "100%|█████████████████████████████████████████████████████████████████████████████████████████████████████| 266/266 [00:19<00:00, 13.76it/s]\n",
      "100%|███████████████████████████████████████████████████████████████████████████████████████████████████████| 67/67 [00:04<00:00, 14.50it/s]\n"
     ]
    },
    {
     "name": "stdout",
     "output_type": "stream",
     "text": [
      "Computing accuracy\n",
      "Test set accuracy (Precision@1) = 0.6946085858585859\n",
      "Epoch 33 Iteration 0: Loss = 0.35499146580696106\n"
     ]
    },
    {
     "name": "stderr",
     "output_type": "stream",
     "text": [
      "100%|█████████████████████████████████████████████████████████████████████████████████████████████████████| 266/266 [00:19<00:00, 13.72it/s]\n",
      "100%|███████████████████████████████████████████████████████████████████████████████████████████████████████| 67/67 [00:04<00:00, 14.82it/s]\n"
     ]
    },
    {
     "name": "stdout",
     "output_type": "stream",
     "text": [
      "Computing accuracy\n",
      "Test set accuracy (Precision@1) = 0.6791694725028058\n",
      "Epoch 34 Iteration 0: Loss = 0.29300442337989807\n"
     ]
    },
    {
     "name": "stderr",
     "output_type": "stream",
     "text": [
      "100%|█████████████████████████████████████████████████████████████████████████████████████████████████████| 266/266 [00:19<00:00, 13.98it/s]\n",
      "100%|███████████████████████████████████████████████████████████████████████████████████████████████████████| 67/67 [00:04<00:00, 14.13it/s]\n"
     ]
    },
    {
     "name": "stdout",
     "output_type": "stream",
     "text": [
      "Computing accuracy\n",
      "Test set accuracy (Precision@1) = 0.6974508978675645\n",
      "Epoch 35 Iteration 0: Loss = 0.4550904929637909\n"
     ]
    },
    {
     "name": "stderr",
     "output_type": "stream",
     "text": [
      "100%|█████████████████████████████████████████████████████████████████████████████████████████████████████| 266/266 [00:19<00:00, 13.93it/s]\n",
      "100%|███████████████████████████████████████████████████████████████████████████████████████████████████████| 67/67 [00:04<00:00, 14.99it/s]\n"
     ]
    },
    {
     "name": "stdout",
     "output_type": "stream",
     "text": [
      "Computing accuracy\n",
      "Test set accuracy (Precision@1) = 0.6991652637485971\n",
      "Epoch 36 Iteration 0: Loss = 0.33657801151275635\n"
     ]
    },
    {
     "name": "stderr",
     "output_type": "stream",
     "text": [
      "100%|█████████████████████████████████████████████████████████████████████████████████████████████████████| 266/266 [00:19<00:00, 13.87it/s]\n",
      "100%|███████████████████████████████████████████████████████████████████████████████████████████████████████| 67/67 [00:04<00:00, 14.82it/s]\n"
     ]
    },
    {
     "name": "stdout",
     "output_type": "stream",
     "text": [
      "Computing accuracy\n",
      "Test set accuracy (Precision@1) = 0.6851262626262626\n",
      "Epoch 37 Iteration 0: Loss = 0.3918223977088928\n"
     ]
    },
    {
     "name": "stderr",
     "output_type": "stream",
     "text": [
      "100%|█████████████████████████████████████████████████████████████████████████████████████████████████████| 266/266 [00:19<00:00, 13.58it/s]\n",
      "100%|███████████████████████████████████████████████████████████████████████████████████████████████████████| 67/67 [00:04<00:00, 14.66it/s]\n"
     ]
    },
    {
     "name": "stdout",
     "output_type": "stream",
     "text": [
      "Computing accuracy\n",
      "Test set accuracy (Precision@1) = 0.6869276094276093\n",
      "Epoch 38 Iteration 0: Loss = 0.39212852716445923\n"
     ]
    },
    {
     "name": "stderr",
     "output_type": "stream",
     "text": [
      "100%|█████████████████████████████████████████████████████████████████████████████████████████████████████| 266/266 [00:19<00:00, 13.68it/s]\n",
      "100%|███████████████████████████████████████████████████████████████████████████████████████████████████████| 67/67 [00:04<00:00, 14.78it/s]\n"
     ]
    },
    {
     "name": "stdout",
     "output_type": "stream",
     "text": [
      "Computing accuracy\n",
      "Test set accuracy (Precision@1) = 0.70199354657688\n",
      "Epoch 39 Iteration 0: Loss = 0.29803144931793213\n"
     ]
    },
    {
     "name": "stderr",
     "output_type": "stream",
     "text": [
      "100%|█████████████████████████████████████████████████████████████████████████████████████████████████████| 266/266 [00:19<00:00, 13.82it/s]\n",
      "100%|███████████████████████████████████████████████████████████████████████████████████████████████████████| 67/67 [00:04<00:00, 14.92it/s]\n"
     ]
    },
    {
     "name": "stdout",
     "output_type": "stream",
     "text": [
      "Computing accuracy\n",
      "Test set accuracy (Precision@1) = 0.6952623456790124\n",
      "Epoch 40 Iteration 0: Loss = 0.32546037435531616\n"
     ]
    },
    {
     "name": "stderr",
     "output_type": "stream",
     "text": [
      "100%|█████████████████████████████████████████████████████████████████████████████████████████████████████| 266/266 [00:19<00:00, 13.79it/s]\n",
      "100%|███████████████████████████████████████████████████████████████████████████████████████████████████████| 67/67 [00:04<00:00, 14.73it/s]\n"
     ]
    },
    {
     "name": "stdout",
     "output_type": "stream",
     "text": [
      "Computing accuracy\n",
      "Test set accuracy (Precision@1) = 0.6962457912457912\n",
      "Epoch 41 Iteration 0: Loss = 0.3150639533996582\n"
     ]
    },
    {
     "name": "stderr",
     "output_type": "stream",
     "text": [
      "100%|█████████████████████████████████████████████████████████████████████████████████████████████████████| 266/266 [00:19<00:00, 13.58it/s]\n",
      "100%|███████████████████████████████████████████████████████████████████████████████████████████████████████| 67/67 [00:04<00:00, 14.81it/s]\n"
     ]
    },
    {
     "name": "stdout",
     "output_type": "stream",
     "text": [
      "Computing accuracy\n",
      "Test set accuracy (Precision@1) = 0.7068434343434343\n",
      "Epoch 42 Iteration 0: Loss = 0.39516106247901917\n"
     ]
    },
    {
     "name": "stderr",
     "output_type": "stream",
     "text": [
      "100%|█████████████████████████████████████████████████████████████████████████████████████████████████████| 266/266 [00:19<00:00, 13.80it/s]\n",
      "100%|███████████████████████████████████████████████████████████████████████████████████████████████████████| 67/67 [00:04<00:00, 14.77it/s]\n"
     ]
    },
    {
     "name": "stdout",
     "output_type": "stream",
     "text": [
      "Computing accuracy\n",
      "Test set accuracy (Precision@1) = 0.6974214365881033\n",
      "Epoch 43 Iteration 0: Loss = 0.3545500636100769\n"
     ]
    },
    {
     "name": "stderr",
     "output_type": "stream",
     "text": [
      "100%|█████████████████████████████████████████████████████████████████████████████████████████████████████| 266/266 [00:19<00:00, 13.88it/s]\n",
      "100%|███████████████████████████████████████████████████████████████████████████████████████████████████████| 67/67 [00:04<00:00, 14.80it/s]\n"
     ]
    },
    {
     "name": "stdout",
     "output_type": "stream",
     "text": [
      "Computing accuracy\n",
      "Test set accuracy (Precision@1) = 0.7097292368125702\n",
      "Epoch 44 Iteration 0: Loss = 0.35335180163383484\n"
     ]
    },
    {
     "name": "stderr",
     "output_type": "stream",
     "text": [
      "100%|█████████████████████████████████████████████████████████████████████████████████████████████████████| 266/266 [00:19<00:00, 13.80it/s]\n",
      "100%|███████████████████████████████████████████████████████████████████████████████████████████████████████| 67/67 [00:04<00:00, 14.75it/s]\n"
     ]
    },
    {
     "name": "stdout",
     "output_type": "stream",
     "text": [
      "Computing accuracy\n",
      "Test set accuracy (Precision@1) = 0.6998709315375983\n",
      "Epoch 45 Iteration 0: Loss = 0.3472473919391632\n"
     ]
    },
    {
     "name": "stderr",
     "output_type": "stream",
     "text": [
      "100%|█████████████████████████████████████████████████████████████████████████████████████████████████████| 266/266 [00:19<00:00, 13.83it/s]\n",
      "100%|███████████████████████████████████████████████████████████████████████████████████████████████████████| 67/67 [00:04<00:00, 14.98it/s]\n"
     ]
    },
    {
     "name": "stdout",
     "output_type": "stream",
     "text": [
      "Computing accuracy\n",
      "Test set accuracy (Precision@1) = 0.7149298540965207\n",
      "Epoch 46 Iteration 0: Loss = 0.3638364374637604\n"
     ]
    },
    {
     "name": "stderr",
     "output_type": "stream",
     "text": [
      "100%|█████████████████████████████████████████████████████████████████████████████████████████████████████| 266/266 [00:19<00:00, 13.87it/s]\n",
      "100%|███████████████████████████████████████████████████████████████████████████████████████████████████████| 67/67 [00:04<00:00, 14.86it/s]\n"
     ]
    },
    {
     "name": "stdout",
     "output_type": "stream",
     "text": [
      "Computing accuracy\n",
      "Test set accuracy (Precision@1) = 0.7158698092031425\n",
      "Epoch 47 Iteration 0: Loss = 0.3689883351325989\n"
     ]
    },
    {
     "name": "stderr",
     "output_type": "stream",
     "text": [
      "100%|█████████████████████████████████████████████████████████████████████████████████████████████████████| 266/266 [00:19<00:00, 13.80it/s]\n",
      "100%|███████████████████████████████████████████████████████████████████████████████████████████████████████| 67/67 [00:04<00:00, 14.54it/s]\n"
     ]
    },
    {
     "name": "stdout",
     "output_type": "stream",
     "text": [
      "Computing accuracy\n",
      "Test set accuracy (Precision@1) = 0.7138257575757576\n",
      "Epoch 48 Iteration 0: Loss = 0.41643235087394714\n"
     ]
    },
    {
     "name": "stderr",
     "output_type": "stream",
     "text": [
      "100%|█████████████████████████████████████████████████████████████████████████████████████████████████████| 266/266 [00:19<00:00, 13.71it/s]\n",
      "100%|███████████████████████████████████████████████████████████████████████████████████████████████████████| 67/67 [00:04<00:00, 14.63it/s]\n"
     ]
    },
    {
     "name": "stdout",
     "output_type": "stream",
     "text": [
      "Computing accuracy\n",
      "Test set accuracy (Precision@1) = 0.7138832772166107\n",
      "Epoch 49 Iteration 0: Loss = 0.24147889018058777\n"
     ]
    },
    {
     "name": "stderr",
     "output_type": "stream",
     "text": [
      "100%|█████████████████████████████████████████████████████████████████████████████████████████████████████| 266/266 [00:19<00:00, 13.85it/s]\n",
      "100%|███████████████████████████████████████████████████████████████████████████████████████████████████████| 67/67 [00:04<00:00, 14.00it/s]\n"
     ]
    },
    {
     "name": "stdout",
     "output_type": "stream",
     "text": [
      "Computing accuracy\n",
      "Test set accuracy (Precision@1) = 0.7112948933782267\n",
      "Epoch 50 Iteration 0: Loss = 0.2709053158760071\n"
     ]
    },
    {
     "name": "stderr",
     "output_type": "stream",
     "text": [
      "100%|█████████████████████████████████████████████████████████████████████████████████████████████████████| 266/266 [00:19<00:00, 13.76it/s]\n",
      "100%|███████████████████████████████████████████████████████████████████████████████████████████████████████| 67/67 [00:04<00:00, 14.73it/s]\n"
     ]
    },
    {
     "name": "stdout",
     "output_type": "stream",
     "text": [
      "Computing accuracy\n",
      "Test set accuracy (Precision@1) = 0.720794051627385\n",
      "Epoch 51 Iteration 0: Loss = 0.34607645869255066\n"
     ]
    },
    {
     "name": "stderr",
     "output_type": "stream",
     "text": [
      "100%|█████████████████████████████████████████████████████████████████████████████████████████████████████| 266/266 [00:19<00:00, 13.38it/s]\n",
      "100%|███████████████████████████████████████████████████████████████████████████████████████████████████████| 67/67 [00:04<00:00, 14.04it/s]\n"
     ]
    },
    {
     "name": "stdout",
     "output_type": "stream",
     "text": [
      "Computing accuracy\n",
      "Test set accuracy (Precision@1) = 0.710820707070707\n",
      "Epoch 52 Iteration 0: Loss = 0.3533831536769867\n"
     ]
    },
    {
     "name": "stderr",
     "output_type": "stream",
     "text": [
      "100%|█████████████████████████████████████████████████████████████████████████████████████████████████████| 266/266 [00:19<00:00, 13.46it/s]\n",
      "100%|███████████████████████████████████████████████████████████████████████████████████████████████████████| 67/67 [00:04<00:00, 14.35it/s]\n"
     ]
    },
    {
     "name": "stdout",
     "output_type": "stream",
     "text": [
      "Computing accuracy\n",
      "Test set accuracy (Precision@1) = 0.7209638047138048\n",
      "Epoch 53 Iteration 0: Loss = 0.2797815799713135\n"
     ]
    },
    {
     "name": "stderr",
     "output_type": "stream",
     "text": [
      "100%|█████████████████████████████████████████████████████████████████████████████████████████████████████| 266/266 [00:19<00:00, 13.46it/s]\n",
      "100%|███████████████████████████████████████████████████████████████████████████████████████████████████████| 67/67 [00:04<00:00, 14.26it/s]\n"
     ]
    },
    {
     "name": "stdout",
     "output_type": "stream",
     "text": [
      "Computing accuracy\n",
      "Test set accuracy (Precision@1) = 0.7180246913580247\n",
      "Epoch 54 Iteration 0: Loss = 0.3163316249847412\n"
     ]
    },
    {
     "name": "stderr",
     "output_type": "stream",
     "text": [
      "100%|█████████████████████████████████████████████████████████████████████████████████████████████████████| 266/266 [00:19<00:00, 13.41it/s]\n",
      "100%|███████████████████████████████████████████████████████████████████████████████████████████████████████| 67/67 [00:04<00:00, 14.17it/s]\n"
     ]
    },
    {
     "name": "stdout",
     "output_type": "stream",
     "text": [
      "Computing accuracy\n",
      "Test set accuracy (Precision@1) = 0.7165347923681257\n",
      "Epoch 55 Iteration 0: Loss = 0.24072393774986267\n"
     ]
    },
    {
     "name": "stderr",
     "output_type": "stream",
     "text": [
      "100%|█████████████████████████████████████████████████████████████████████████████████████████████████████| 266/266 [00:19<00:00, 13.76it/s]\n",
      "100%|███████████████████████████████████████████████████████████████████████████████████████████████████████| 67/67 [00:04<00:00, 14.74it/s]\n"
     ]
    },
    {
     "name": "stdout",
     "output_type": "stream",
     "text": [
      "Computing accuracy\n",
      "Test set accuracy (Precision@1) = 0.7237654320987654\n",
      "Epoch 56 Iteration 0: Loss = 0.32757568359375\n"
     ]
    },
    {
     "name": "stderr",
     "output_type": "stream",
     "text": [
      "100%|█████████████████████████████████████████████████████████████████████████████████████████████████████| 266/266 [00:19<00:00, 13.66it/s]\n",
      "100%|███████████████████████████████████████████████████████████████████████████████████████████████████████| 67/67 [00:04<00:00, 14.67it/s]\n"
     ]
    },
    {
     "name": "stdout",
     "output_type": "stream",
     "text": [
      "Computing accuracy\n",
      "Test set accuracy (Precision@1) = 0.7187443883277218\n",
      "Epoch 57 Iteration 0: Loss = 0.3348580300807953\n"
     ]
    },
    {
     "name": "stderr",
     "output_type": "stream",
     "text": [
      "100%|█████████████████████████████████████████████████████████████████████████████████████████████████████| 266/266 [00:19<00:00, 13.70it/s]\n",
      "100%|███████████████████████████████████████████████████████████████████████████████████████████████████████| 67/67 [00:04<00:00, 14.85it/s]\n"
     ]
    },
    {
     "name": "stdout",
     "output_type": "stream",
     "text": [
      "Computing accuracy\n",
      "Test set accuracy (Precision@1) = 0.7236097081930415\n",
      "Epoch 58 Iteration 0: Loss = 0.25141486525535583\n"
     ]
    },
    {
     "name": "stderr",
     "output_type": "stream",
     "text": [
      "100%|█████████████████████████████████████████████████████████████████████████████████████████████████████| 266/266 [00:19<00:00, 13.75it/s]\n",
      "100%|███████████████████████████████████████████████████████████████████████████████████████████████████████| 67/67 [00:04<00:00, 14.72it/s]\n"
     ]
    },
    {
     "name": "stdout",
     "output_type": "stream",
     "text": [
      "Computing accuracy\n",
      "Test set accuracy (Precision@1) = 0.730364758698092\n",
      "Epoch 59 Iteration 0: Loss = 0.29976627230644226\n"
     ]
    },
    {
     "name": "stderr",
     "output_type": "stream",
     "text": [
      "100%|█████████████████████████████████████████████████████████████████████████████████████████████████████| 266/266 [00:19<00:00, 13.63it/s]\n",
      "100%|███████████████████████████████████████████████████████████████████████████████████████████████████████| 67/67 [00:04<00:00, 14.87it/s]\n"
     ]
    },
    {
     "name": "stdout",
     "output_type": "stream",
     "text": [
      "Computing accuracy\n",
      "Test set accuracy (Precision@1) = 0.7160788439955107\n",
      "Epoch 60 Iteration 0: Loss = 0.2638622224330902\n"
     ]
    },
    {
     "name": "stderr",
     "output_type": "stream",
     "text": [
      "100%|█████████████████████████████████████████████████████████████████████████████████████████████████████| 266/266 [00:19<00:00, 13.73it/s]\n",
      "100%|███████████████████████████████████████████████████████████████████████████████████████████████████████| 67/67 [00:04<00:00, 14.64it/s]\n"
     ]
    },
    {
     "name": "stdout",
     "output_type": "stream",
     "text": [
      "Computing accuracy\n",
      "Test set accuracy (Precision@1) = 0.7290642536475869\n",
      "Epoch 61 Iteration 0: Loss = 0.20680701732635498\n"
     ]
    },
    {
     "name": "stderr",
     "output_type": "stream",
     "text": [
      "100%|█████████████████████████████████████████████████████████████████████████████████████████████████████| 266/266 [00:19<00:00, 13.83it/s]\n",
      "100%|███████████████████████████████████████████████████████████████████████████████████████████████████████| 67/67 [00:04<00:00, 14.75it/s]\n"
     ]
    },
    {
     "name": "stdout",
     "output_type": "stream",
     "text": [
      "Computing accuracy\n",
      "Test set accuracy (Precision@1) = 0.7298120089786756\n",
      "Epoch 62 Iteration 0: Loss = 0.2839089035987854\n"
     ]
    },
    {
     "name": "stderr",
     "output_type": "stream",
     "text": [
      "100%|█████████████████████████████████████████████████████████████████████████████████████████████████████| 266/266 [00:19<00:00, 13.76it/s]\n",
      "100%|███████████████████████████████████████████████████████████████████████████████████████████████████████| 67/67 [00:04<00:00, 14.79it/s]\n"
     ]
    },
    {
     "name": "stdout",
     "output_type": "stream",
     "text": [
      "Computing accuracy\n",
      "Test set accuracy (Precision@1) = 0.7280737934904601\n",
      "Epoch 63 Iteration 0: Loss = 0.28905656933784485\n"
     ]
    },
    {
     "name": "stderr",
     "output_type": "stream",
     "text": [
      "100%|█████████████████████████████████████████████████████████████████████████████████████████████████████| 266/266 [00:19<00:00, 13.54it/s]\n",
      "100%|███████████████████████████████████████████████████████████████████████████████████████████████████████| 67/67 [00:04<00:00, 14.61it/s]\n"
     ]
    },
    {
     "name": "stdout",
     "output_type": "stream",
     "text": [
      "Computing accuracy\n",
      "Test set accuracy (Precision@1) = 0.7335016835016835\n",
      "Epoch 64 Iteration 0: Loss = 0.3095185458660126\n"
     ]
    },
    {
     "name": "stderr",
     "output_type": "stream",
     "text": [
      "100%|█████████████████████████████████████████████████████████████████████████████████████████████████████| 266/266 [00:19<00:00, 13.79it/s]\n",
      "100%|███████████████████████████████████████████████████████████████████████████████████████████████████████| 67/67 [00:04<00:00, 14.73it/s]\n"
     ]
    },
    {
     "name": "stdout",
     "output_type": "stream",
     "text": [
      "Computing accuracy\n",
      "Test set accuracy (Precision@1) = 0.7325448933782268\n",
      "Epoch 65 Iteration 0: Loss = 0.3174987733364105\n"
     ]
    },
    {
     "name": "stderr",
     "output_type": "stream",
     "text": [
      "100%|█████████████████████████████████████████████████████████████████████████████████████████████████████| 266/266 [00:19<00:00, 13.79it/s]\n",
      "100%|███████████████████████████████████████████████████████████████████████████████████████████████████████| 67/67 [00:04<00:00, 14.74it/s]\n"
     ]
    },
    {
     "name": "stdout",
     "output_type": "stream",
     "text": [
      "Computing accuracy\n",
      "Test set accuracy (Precision@1) = 0.7415221661054994\n",
      "Epoch 66 Iteration 0: Loss = 0.27052178978919983\n"
     ]
    },
    {
     "name": "stderr",
     "output_type": "stream",
     "text": [
      "100%|█████████████████████████████████████████████████████████████████████████████████████████████████████| 266/266 [00:19<00:00, 13.69it/s]\n",
      "100%|███████████████████████████████████████████████████████████████████████████████████████████████████████| 67/67 [00:04<00:00, 14.64it/s]\n"
     ]
    },
    {
     "name": "stdout",
     "output_type": "stream",
     "text": [
      "Computing accuracy\n",
      "Test set accuracy (Precision@1) = 0.7303184624017958\n",
      "Epoch 67 Iteration 0: Loss = 0.3118491470813751\n"
     ]
    },
    {
     "name": "stderr",
     "output_type": "stream",
     "text": [
      "100%|█████████████████████████████████████████████████████████████████████████████████████████████████████| 266/266 [00:19<00:00, 13.41it/s]\n",
      "100%|███████████████████████████████████████████████████████████████████████████████████████████████████████| 67/67 [00:04<00:00, 14.76it/s]\n"
     ]
    },
    {
     "name": "stdout",
     "output_type": "stream",
     "text": [
      "Computing accuracy\n",
      "Test set accuracy (Precision@1) = 0.7308656004489338\n",
      "Epoch 68 Iteration 0: Loss = 0.2660980820655823\n"
     ]
    },
    {
     "name": "stderr",
     "output_type": "stream",
     "text": [
      "100%|█████████████████████████████████████████████████████████████████████████████████████████████████████| 266/266 [00:19<00:00, 13.74it/s]\n",
      "100%|███████████████████████████████████████████████████████████████████████████████████████████████████████| 67/67 [00:04<00:00, 14.71it/s]\n"
     ]
    },
    {
     "name": "stdout",
     "output_type": "stream",
     "text": [
      "Computing accuracy\n",
      "Test set accuracy (Precision@1) = 0.7402146464646465\n",
      "Epoch 69 Iteration 0: Loss = 0.31927064061164856\n"
     ]
    },
    {
     "name": "stderr",
     "output_type": "stream",
     "text": [
      "100%|█████████████████████████████████████████████████████████████████████████████████████████████████████| 266/266 [00:20<00:00, 13.26it/s]\n",
      "100%|███████████████████████████████████████████████████████████████████████████████████████████████████████| 67/67 [00:04<00:00, 14.88it/s]\n"
     ]
    },
    {
     "name": "stdout",
     "output_type": "stream",
     "text": [
      "Computing accuracy\n",
      "Test set accuracy (Precision@1) = 0.7351753647586982\n",
      "Epoch 70 Iteration 0: Loss = 0.3168523609638214\n"
     ]
    },
    {
     "name": "stderr",
     "output_type": "stream",
     "text": [
      "100%|█████████████████████████████████████████████████████████████████████████████████████████████████████| 266/266 [00:19<00:00, 13.70it/s]\n",
      "100%|███████████████████████████████████████████████████████████████████████████████████████████████████████| 67/67 [00:04<00:00, 14.79it/s]\n"
     ]
    },
    {
     "name": "stdout",
     "output_type": "stream",
     "text": [
      "Computing accuracy\n",
      "Test set accuracy (Precision@1) = 0.7405331088664423\n",
      "Epoch 71 Iteration 0: Loss = 0.3095812201499939\n"
     ]
    },
    {
     "name": "stderr",
     "output_type": "stream",
     "text": [
      "100%|█████████████████████████████████████████████████████████████████████████████████████████████████████| 266/266 [00:19<00:00, 13.46it/s]\n",
      "100%|███████████████████████████████████████████████████████████████████████████████████████████████████████| 67/67 [00:04<00:00, 14.60it/s]\n"
     ]
    },
    {
     "name": "stdout",
     "output_type": "stream",
     "text": [
      "Computing accuracy\n",
      "Test set accuracy (Precision@1) = 0.7393111672278339\n",
      "Epoch 72 Iteration 0: Loss = 0.2588002681732178\n"
     ]
    },
    {
     "name": "stderr",
     "output_type": "stream",
     "text": [
      "100%|█████████████████████████████████████████████████████████████████████████████████████████████████████| 266/266 [00:19<00:00, 13.62it/s]\n",
      "100%|███████████████████████████████████████████████████████████████████████████████████████████████████████| 67/67 [00:04<00:00, 14.79it/s]\n"
     ]
    },
    {
     "name": "stdout",
     "output_type": "stream",
     "text": [
      "Computing accuracy\n",
      "Test set accuracy (Precision@1) = 0.7371156004489338\n",
      "Epoch 73 Iteration 0: Loss = 0.24661776423454285\n"
     ]
    },
    {
     "name": "stderr",
     "output_type": "stream",
     "text": [
      "100%|█████████████████████████████████████████████████████████████████████████████████████████████████████| 266/266 [00:19<00:00, 13.81it/s]\n",
      "100%|███████████████████████████████████████████████████████████████████████████████████████████████████████| 67/67 [00:04<00:00, 14.81it/s]\n"
     ]
    },
    {
     "name": "stdout",
     "output_type": "stream",
     "text": [
      "Computing accuracy\n",
      "Test set accuracy (Precision@1) = 0.7431846240179574\n",
      "Epoch 74 Iteration 0: Loss = 0.2502208650112152\n"
     ]
    },
    {
     "name": "stderr",
     "output_type": "stream",
     "text": [
      "100%|█████████████████████████████████████████████████████████████████████████████████████████████████████| 266/266 [00:19<00:00, 13.50it/s]\n",
      "100%|███████████████████████████████████████████████████████████████████████████████████████████████████████| 67/67 [00:04<00:00, 14.58it/s]\n"
     ]
    },
    {
     "name": "stdout",
     "output_type": "stream",
     "text": [
      "Computing accuracy\n",
      "Test set accuracy (Precision@1) = 0.7394430415263749\n",
      "Epoch 75 Iteration 0: Loss = 0.20689241588115692\n"
     ]
    },
    {
     "name": "stderr",
     "output_type": "stream",
     "text": [
      "100%|█████████████████████████████████████████████████████████████████████████████████████████████████████| 266/266 [00:19<00:00, 13.57it/s]\n",
      "100%|███████████████████████████████████████████████████████████████████████████████████████████████████████| 67/67 [00:04<00:00, 14.86it/s]\n"
     ]
    },
    {
     "name": "stdout",
     "output_type": "stream",
     "text": [
      "Computing accuracy\n",
      "Test set accuracy (Precision@1) = 0.7412345679012345\n",
      "Epoch 76 Iteration 0: Loss = 0.3207993507385254\n"
     ]
    },
    {
     "name": "stderr",
     "output_type": "stream",
     "text": [
      "100%|█████████████████████████████████████████████████████████████████████████████████████████████████████| 266/266 [00:19<00:00, 13.87it/s]\n",
      "100%|███████████████████████████████████████████████████████████████████████████████████████████████████████| 67/67 [00:04<00:00, 14.63it/s]\n"
     ]
    },
    {
     "name": "stdout",
     "output_type": "stream",
     "text": [
      "Computing accuracy\n",
      "Test set accuracy (Precision@1) = 0.7383656004489337\n",
      "Epoch 77 Iteration 0: Loss = 0.28650426864624023\n"
     ]
    },
    {
     "name": "stderr",
     "output_type": "stream",
     "text": [
      "100%|█████████████████████████████████████████████████████████████████████████████████████████████████████| 266/266 [00:19<00:00, 13.90it/s]\n",
      "100%|███████████████████████████████████████████████████████████████████████████████████████████████████████| 67/67 [00:04<00:00, 14.81it/s]\n"
     ]
    },
    {
     "name": "stdout",
     "output_type": "stream",
     "text": [
      "Computing accuracy\n",
      "Test set accuracy (Precision@1) = 0.748982884399551\n",
      "Epoch 78 Iteration 0: Loss = 0.28908801078796387\n"
     ]
    },
    {
     "name": "stderr",
     "output_type": "stream",
     "text": [
      "100%|█████████████████████████████████████████████████████████████████████████████████████████████████████| 266/266 [00:19<00:00, 13.89it/s]\n",
      "100%|███████████████████████████████████████████████████████████████████████████████████████████████████████| 67/67 [00:04<00:00, 14.93it/s]\n"
     ]
    },
    {
     "name": "stdout",
     "output_type": "stream",
     "text": [
      "Computing accuracy\n",
      "Test set accuracy (Precision@1) = 0.7405653759820426\n",
      "Epoch 79 Iteration 0: Loss = 0.20375166833400726\n"
     ]
    },
    {
     "name": "stderr",
     "output_type": "stream",
     "text": [
      "100%|█████████████████████████████████████████████████████████████████████████████████████████████████████| 266/266 [00:19<00:00, 13.82it/s]\n",
      "100%|███████████████████████████████████████████████████████████████████████████████████████████████████████| 67/67 [00:04<00:00, 14.75it/s]\n"
     ]
    },
    {
     "name": "stdout",
     "output_type": "stream",
     "text": [
      "Computing accuracy\n",
      "Test set accuracy (Precision@1) = 0.7479994388327722\n",
      "Epoch 80 Iteration 0: Loss = 0.27532342076301575\n"
     ]
    },
    {
     "name": "stderr",
     "output_type": "stream",
     "text": [
      "100%|█████████████████████████████████████████████████████████████████████████████████████████████████████| 266/266 [00:19<00:00, 13.83it/s]\n",
      "100%|███████████████████████████████████████████████████████████████████████████████████████████████████████| 67/67 [00:04<00:00, 14.86it/s]\n"
     ]
    },
    {
     "name": "stdout",
     "output_type": "stream",
     "text": [
      "Computing accuracy\n",
      "Test set accuracy (Precision@1) = 0.7385900673400673\n",
      "Epoch 81 Iteration 0: Loss = 0.38462722301483154\n"
     ]
    },
    {
     "name": "stderr",
     "output_type": "stream",
     "text": [
      "100%|█████████████████████████████████████████████████████████████████████████████████████████████████████| 266/266 [00:19<00:00, 13.89it/s]\n",
      "100%|███████████████████████████████████████████████████████████████████████████████████████████████████████| 67/67 [00:04<00:00, 14.93it/s]\n"
     ]
    },
    {
     "name": "stdout",
     "output_type": "stream",
     "text": [
      "Computing accuracy\n",
      "Test set accuracy (Precision@1) = 0.7385437710437711\n",
      "Epoch 82 Iteration 0: Loss = 0.2769387662410736\n"
     ]
    },
    {
     "name": "stderr",
     "output_type": "stream",
     "text": [
      "100%|█████████████████████████████████████████████████████████████████████████████████████████████████████| 266/266 [00:19<00:00, 13.80it/s]\n",
      "100%|███████████████████████████████████████████████████████████████████████████████████████████████████████| 67/67 [00:04<00:00, 14.88it/s]\n"
     ]
    },
    {
     "name": "stdout",
     "output_type": "stream",
     "text": [
      "Computing accuracy\n",
      "Test set accuracy (Precision@1) = 0.7534497755331089\n",
      "Epoch 83 Iteration 0: Loss = 0.2591606080532074\n"
     ]
    },
    {
     "name": "stderr",
     "output_type": "stream",
     "text": [
      "100%|█████████████████████████████████████████████████████████████████████████████████████████████████████| 266/266 [00:19<00:00, 13.77it/s]\n",
      "100%|███████████████████████████████████████████████████████████████████████████████████████████████████████| 67/67 [00:04<00:00, 14.80it/s]\n"
     ]
    },
    {
     "name": "stdout",
     "output_type": "stream",
     "text": [
      "Computing accuracy\n",
      "Test set accuracy (Precision@1) = 0.7573737373737374\n",
      "Epoch 84 Iteration 0: Loss = 0.280023992061615\n"
     ]
    },
    {
     "name": "stderr",
     "output_type": "stream",
     "text": [
      "100%|█████████████████████████████████████████████████████████████████████████████████████████████████████| 266/266 [00:19<00:00, 13.83it/s]\n",
      "100%|███████████████████████████████████████████████████████████████████████████████████████████████████████| 67/67 [00:04<00:00, 14.98it/s]\n"
     ]
    },
    {
     "name": "stdout",
     "output_type": "stream",
     "text": [
      "Computing accuracy\n",
      "Test set accuracy (Precision@1) = 0.7562387766554434\n",
      "Epoch 85 Iteration 0: Loss = 0.2648424208164215\n"
     ]
    },
    {
     "name": "stderr",
     "output_type": "stream",
     "text": [
      "100%|█████████████████████████████████████████████████████████████████████████████████████████████████████| 266/266 [00:19<00:00, 13.89it/s]\n",
      "100%|███████████████████████████████████████████████████████████████████████████████████████████████████████| 67/67 [00:04<00:00, 14.91it/s]\n"
     ]
    },
    {
     "name": "stdout",
     "output_type": "stream",
     "text": [
      "Computing accuracy\n",
      "Test set accuracy (Precision@1) = 0.7553787878787879\n",
      "Epoch 86 Iteration 0: Loss = 0.27113866806030273\n"
     ]
    },
    {
     "name": "stderr",
     "output_type": "stream",
     "text": [
      "100%|█████████████████████████████████████████████████████████████████████████████████████████████████████| 266/266 [00:19<00:00, 13.63it/s]\n",
      "100%|███████████████████████████████████████████████████████████████████████████████████████████████████████| 67/67 [00:04<00:00, 14.93it/s]\n"
     ]
    },
    {
     "name": "stdout",
     "output_type": "stream",
     "text": [
      "Computing accuracy\n",
      "Test set accuracy (Precision@1) = 0.746031144781145\n",
      "Epoch 87 Iteration 0: Loss = 0.2381342500448227\n"
     ]
    },
    {
     "name": "stderr",
     "output_type": "stream",
     "text": [
      "100%|█████████████████████████████████████████████████████████████████████████████████████████████████████| 266/266 [00:19<00:00, 13.91it/s]\n",
      "100%|███████████████████████████████████████████████████████████████████████████████████████████████████████| 67/67 [00:04<00:00, 14.87it/s]\n"
     ]
    },
    {
     "name": "stdout",
     "output_type": "stream",
     "text": [
      "Computing accuracy\n",
      "Test set accuracy (Precision@1) = 0.7525126262626263\n",
      "Epoch 88 Iteration 0: Loss = 0.2252613753080368\n"
     ]
    },
    {
     "name": "stderr",
     "output_type": "stream",
     "text": [
      "100%|█████████████████████████████████████████████████████████████████████████████████████████████████████| 266/266 [00:19<00:00, 13.90it/s]\n",
      "100%|███████████████████████████████████████████████████████████████████████████████████████████████████████| 67/67 [00:04<00:00, 14.88it/s]\n"
     ]
    },
    {
     "name": "stdout",
     "output_type": "stream",
     "text": [
      "Computing accuracy\n",
      "Test set accuracy (Precision@1) = 0.7625042087542088\n",
      "Epoch 89 Iteration 0: Loss = 0.2778328061103821\n"
     ]
    },
    {
     "name": "stderr",
     "output_type": "stream",
     "text": [
      "100%|█████████████████████████████████████████████████████████████████████████████████████████████████████| 266/266 [00:19<00:00, 13.92it/s]\n",
      "100%|███████████████████████████████████████████████████████████████████████████████████████████████████████| 67/67 [00:04<00:00, 14.97it/s]\n"
     ]
    },
    {
     "name": "stdout",
     "output_type": "stream",
     "text": [
      "Computing accuracy\n",
      "Test set accuracy (Precision@1) = 0.7548092031425365\n",
      "Epoch 90 Iteration 0: Loss = 0.2701081335544586\n"
     ]
    },
    {
     "name": "stderr",
     "output_type": "stream",
     "text": [
      "100%|█████████████████████████████████████████████████████████████████████████████████████████████████████| 266/266 [00:19<00:00, 13.97it/s]\n",
      "100%|███████████████████████████████████████████████████████████████████████████████████████████████████████| 67/67 [00:04<00:00, 14.87it/s]\n"
     ]
    },
    {
     "name": "stdout",
     "output_type": "stream",
     "text": [
      "Computing accuracy\n",
      "Test set accuracy (Precision@1) = 0.7538973063973063\n",
      "Epoch 91 Iteration 0: Loss = 0.21032248437404633\n"
     ]
    },
    {
     "name": "stderr",
     "output_type": "stream",
     "text": [
      "100%|█████████████████████████████████████████████████████████████████████████████████████████████████████| 266/266 [00:19<00:00, 13.97it/s]\n",
      "100%|███████████████████████████████████████████████████████████████████████████████████████████████████████| 67/67 [00:04<00:00, 14.93it/s]\n"
     ]
    },
    {
     "name": "stdout",
     "output_type": "stream",
     "text": [
      "Computing accuracy\n",
      "Test set accuracy (Precision@1) = 0.7525968013468014\n",
      "Epoch 92 Iteration 0: Loss = 0.2866568863391876\n"
     ]
    },
    {
     "name": "stderr",
     "output_type": "stream",
     "text": [
      "100%|█████████████████████████████████████████████████████████████████████████████████████████████████████| 266/266 [00:19<00:00, 13.82it/s]\n",
      "100%|███████████████████████████████████████████████████████████████████████████████████████████████████████| 67/67 [00:04<00:00, 14.89it/s]\n"
     ]
    },
    {
     "name": "stdout",
     "output_type": "stream",
     "text": [
      "Computing accuracy\n",
      "Test set accuracy (Precision@1) = 0.7523302469135803\n",
      "Epoch 93 Iteration 0: Loss = 0.23128528892993927\n"
     ]
    },
    {
     "name": "stderr",
     "output_type": "stream",
     "text": [
      "100%|█████████████████████████████████████████████████████████████████████████████████████████████████████| 266/266 [00:19<00:00, 13.88it/s]\n",
      "100%|███████████████████████████████████████████████████████████████████████████████████████████████████████| 67/67 [00:04<00:00, 14.95it/s]\n"
     ]
    },
    {
     "name": "stdout",
     "output_type": "stream",
     "text": [
      "Computing accuracy\n",
      "Test set accuracy (Precision@1) = 0.7510816498316498\n",
      "Epoch 94 Iteration 0: Loss = 0.26257431507110596\n"
     ]
    },
    {
     "name": "stderr",
     "output_type": "stream",
     "text": [
      "100%|█████████████████████████████████████████████████████████████████████████████████████████████████████| 266/266 [00:19<00:00, 13.97it/s]\n",
      "100%|███████████████████████████████████████████████████████████████████████████████████████████████████████| 67/67 [00:04<00:00, 14.94it/s]\n"
     ]
    },
    {
     "name": "stdout",
     "output_type": "stream",
     "text": [
      "Computing accuracy\n",
      "Test set accuracy (Precision@1) = 0.7605471380471379\n",
      "Epoch 95 Iteration 0: Loss = 0.22934295237064362\n"
     ]
    },
    {
     "name": "stderr",
     "output_type": "stream",
     "text": [
      "100%|█████████████████████████████████████████████████████████████████████████████████████████████████████| 266/266 [00:19<00:00, 13.94it/s]\n",
      "100%|███████████████████████████████████████████████████████████████████████████████████████████████████████| 67/67 [00:04<00:00, 14.98it/s]\n"
     ]
    },
    {
     "name": "stdout",
     "output_type": "stream",
     "text": [
      "Computing accuracy\n",
      "Test set accuracy (Precision@1) = 0.7597460718294051\n",
      "Epoch 96 Iteration 0: Loss = 0.18422505259513855\n"
     ]
    },
    {
     "name": "stderr",
     "output_type": "stream",
     "text": [
      "100%|█████████████████████████████████████████████████████████████████████████████████████████████████████| 266/266 [00:19<00:00, 13.63it/s]\n",
      "100%|███████████████████████████████████████████████████████████████████████████████████████████████████████| 67/67 [00:04<00:00, 14.92it/s]\n"
     ]
    },
    {
     "name": "stdout",
     "output_type": "stream",
     "text": [
      "Computing accuracy\n",
      "Test set accuracy (Precision@1) = 0.7520033670033671\n",
      "Epoch 97 Iteration 0: Loss = 0.25301840901374817\n"
     ]
    },
    {
     "name": "stderr",
     "output_type": "stream",
     "text": [
      "100%|█████████████████████████████████████████████████████████████████████████████████████████████████████| 266/266 [00:19<00:00, 13.91it/s]\n",
      "100%|███████████████████████████████████████████████████████████████████████████████████████████████████████| 67/67 [00:04<00:00, 14.85it/s]\n"
     ]
    },
    {
     "name": "stdout",
     "output_type": "stream",
     "text": [
      "Computing accuracy\n",
      "Test set accuracy (Precision@1) = 0.7564786756453423\n",
      "Epoch 98 Iteration 0: Loss = 0.22078080475330353\n"
     ]
    },
    {
     "name": "stderr",
     "output_type": "stream",
     "text": [
      "100%|█████████████████████████████████████████████████████████████████████████████████████████████████████| 266/266 [00:19<00:00, 13.95it/s]\n",
      "100%|███████████████████████████████████████████████████████████████████████████████████████████████████████| 67/67 [00:04<00:00, 14.93it/s]\n"
     ]
    },
    {
     "name": "stdout",
     "output_type": "stream",
     "text": [
      "Computing accuracy\n",
      "Test set accuracy (Precision@1) = 0.7581242985409653\n",
      "Epoch 99 Iteration 0: Loss = 0.2269357591867447\n"
     ]
    },
    {
     "name": "stderr",
     "output_type": "stream",
     "text": [
      "100%|█████████████████████████████████████████████████████████████████████████████████████████████████████| 266/266 [00:19<00:00, 13.95it/s]\n",
      "100%|███████████████████████████████████████████████████████████████████████████████████████████████████████| 67/67 [00:04<00:00, 14.88it/s]\n"
     ]
    },
    {
     "name": "stdout",
     "output_type": "stream",
     "text": [
      "Computing accuracy\n",
      "Test set accuracy (Precision@1) = 0.7576332772166107\n",
      "Epoch 100 Iteration 0: Loss = 0.1929604411125183\n"
     ]
    },
    {
     "name": "stderr",
     "output_type": "stream",
     "text": [
      "100%|█████████████████████████████████████████████████████████████████████████████████████████████████████| 266/266 [00:19<00:00, 13.56it/s]\n",
      "100%|███████████████████████████████████████████████████████████████████████████████████████████████████████| 67/67 [00:04<00:00, 14.72it/s]"
     ]
    },
    {
     "name": "stdout",
     "output_type": "stream",
     "text": [
      "Computing accuracy\n",
      "Test set accuracy (Precision@1) = 0.7631299102132437\n"
     ]
    },
    {
     "name": "stderr",
     "output_type": "stream",
     "text": [
      "\n"
     ]
    }
   ],
   "source": [
    "#total_loss = []\n",
    "#total_acc = []\n",
    "for epoch in range(1, num_epochs + 1):\n",
    "    train_loss = train(model, loss_func,mining_func, device, train_loader, optimizer, epoch)\n",
    "    #total_loss.extend(train_loss)\n",
    "    test_acc = test(train_dataset, test_dataset, model, accuracy_calculator)\n",
    "    #total_acc.append(test_acc)\n",
    "    wandb.log({\"test_accuracy2\": test_acc, \"train_loss2\": train_loss,\"epoch\": epoch})"
   ]
  },
  {
   "cell_type": "code",
   "execution_count": 65,
   "id": "440edbeb-80f8-42ec-9547-7bf913aa64b2",
   "metadata": {},
   "outputs": [],
   "source": [
    "torch.save(model,'models/cub_triplet_loss_epshn_resnet50_sgd_aug_180.pth')"
   ]
  },
  {
   "cell_type": "code",
   "execution_count": 32,
   "id": "3afb879b-ef20-45fc-9dbe-6d92e842b99e",
   "metadata": {},
   "outputs": [],
   "source": [
    "model = torch.load('models/cub_triplet_loss_epshn_resnet18_sgd_aug_180.pth',map_location='cuda')"
   ]
  },
  {
   "cell_type": "code",
   "execution_count": 66,
   "id": "1ae29c0e-7b43-4364-a8b8-fcd403a56cbc",
   "metadata": {
    "scrolled": true
   },
   "outputs": [
    {
     "data": {
      "text/plain": [
       "ResNetFeatrueExtractor50(\n",
       "  (model): ResNet(\n",
       "    (conv1): Conv2d(3, 64, kernel_size=(7, 7), stride=(2, 2), padding=(3, 3), bias=False)\n",
       "    (bn1): BatchNorm2d(64, eps=1e-05, momentum=0.1, affine=True, track_running_stats=True)\n",
       "    (relu): ReLU(inplace=True)\n",
       "    (maxpool): MaxPool2d(kernel_size=3, stride=2, padding=1, dilation=1, ceil_mode=False)\n",
       "    (layer1): Sequential(\n",
       "      (0): Bottleneck(\n",
       "        (conv1): Conv2d(64, 64, kernel_size=(1, 1), stride=(1, 1), bias=False)\n",
       "        (bn1): BatchNorm2d(64, eps=1e-05, momentum=0.1, affine=True, track_running_stats=True)\n",
       "        (conv2): Conv2d(64, 64, kernel_size=(3, 3), stride=(1, 1), padding=(1, 1), bias=False)\n",
       "        (bn2): BatchNorm2d(64, eps=1e-05, momentum=0.1, affine=True, track_running_stats=True)\n",
       "        (conv3): Conv2d(64, 256, kernel_size=(1, 1), stride=(1, 1), bias=False)\n",
       "        (bn3): BatchNorm2d(256, eps=1e-05, momentum=0.1, affine=True, track_running_stats=True)\n",
       "        (relu): ReLU(inplace=True)\n",
       "        (downsample): Sequential(\n",
       "          (0): Conv2d(64, 256, kernel_size=(1, 1), stride=(1, 1), bias=False)\n",
       "          (1): BatchNorm2d(256, eps=1e-05, momentum=0.1, affine=True, track_running_stats=True)\n",
       "        )\n",
       "      )\n",
       "      (1): Bottleneck(\n",
       "        (conv1): Conv2d(256, 64, kernel_size=(1, 1), stride=(1, 1), bias=False)\n",
       "        (bn1): BatchNorm2d(64, eps=1e-05, momentum=0.1, affine=True, track_running_stats=True)\n",
       "        (conv2): Conv2d(64, 64, kernel_size=(3, 3), stride=(1, 1), padding=(1, 1), bias=False)\n",
       "        (bn2): BatchNorm2d(64, eps=1e-05, momentum=0.1, affine=True, track_running_stats=True)\n",
       "        (conv3): Conv2d(64, 256, kernel_size=(1, 1), stride=(1, 1), bias=False)\n",
       "        (bn3): BatchNorm2d(256, eps=1e-05, momentum=0.1, affine=True, track_running_stats=True)\n",
       "        (relu): ReLU(inplace=True)\n",
       "      )\n",
       "      (2): Bottleneck(\n",
       "        (conv1): Conv2d(256, 64, kernel_size=(1, 1), stride=(1, 1), bias=False)\n",
       "        (bn1): BatchNorm2d(64, eps=1e-05, momentum=0.1, affine=True, track_running_stats=True)\n",
       "        (conv2): Conv2d(64, 64, kernel_size=(3, 3), stride=(1, 1), padding=(1, 1), bias=False)\n",
       "        (bn2): BatchNorm2d(64, eps=1e-05, momentum=0.1, affine=True, track_running_stats=True)\n",
       "        (conv3): Conv2d(64, 256, kernel_size=(1, 1), stride=(1, 1), bias=False)\n",
       "        (bn3): BatchNorm2d(256, eps=1e-05, momentum=0.1, affine=True, track_running_stats=True)\n",
       "        (relu): ReLU(inplace=True)\n",
       "      )\n",
       "    )\n",
       "    (layer2): Sequential(\n",
       "      (0): Bottleneck(\n",
       "        (conv1): Conv2d(256, 128, kernel_size=(1, 1), stride=(1, 1), bias=False)\n",
       "        (bn1): BatchNorm2d(128, eps=1e-05, momentum=0.1, affine=True, track_running_stats=True)\n",
       "        (conv2): Conv2d(128, 128, kernel_size=(3, 3), stride=(2, 2), padding=(1, 1), bias=False)\n",
       "        (bn2): BatchNorm2d(128, eps=1e-05, momentum=0.1, affine=True, track_running_stats=True)\n",
       "        (conv3): Conv2d(128, 512, kernel_size=(1, 1), stride=(1, 1), bias=False)\n",
       "        (bn3): BatchNorm2d(512, eps=1e-05, momentum=0.1, affine=True, track_running_stats=True)\n",
       "        (relu): ReLU(inplace=True)\n",
       "        (downsample): Sequential(\n",
       "          (0): Conv2d(256, 512, kernel_size=(1, 1), stride=(2, 2), bias=False)\n",
       "          (1): BatchNorm2d(512, eps=1e-05, momentum=0.1, affine=True, track_running_stats=True)\n",
       "        )\n",
       "      )\n",
       "      (1): Bottleneck(\n",
       "        (conv1): Conv2d(512, 128, kernel_size=(1, 1), stride=(1, 1), bias=False)\n",
       "        (bn1): BatchNorm2d(128, eps=1e-05, momentum=0.1, affine=True, track_running_stats=True)\n",
       "        (conv2): Conv2d(128, 128, kernel_size=(3, 3), stride=(1, 1), padding=(1, 1), bias=False)\n",
       "        (bn2): BatchNorm2d(128, eps=1e-05, momentum=0.1, affine=True, track_running_stats=True)\n",
       "        (conv3): Conv2d(128, 512, kernel_size=(1, 1), stride=(1, 1), bias=False)\n",
       "        (bn3): BatchNorm2d(512, eps=1e-05, momentum=0.1, affine=True, track_running_stats=True)\n",
       "        (relu): ReLU(inplace=True)\n",
       "      )\n",
       "      (2): Bottleneck(\n",
       "        (conv1): Conv2d(512, 128, kernel_size=(1, 1), stride=(1, 1), bias=False)\n",
       "        (bn1): BatchNorm2d(128, eps=1e-05, momentum=0.1, affine=True, track_running_stats=True)\n",
       "        (conv2): Conv2d(128, 128, kernel_size=(3, 3), stride=(1, 1), padding=(1, 1), bias=False)\n",
       "        (bn2): BatchNorm2d(128, eps=1e-05, momentum=0.1, affine=True, track_running_stats=True)\n",
       "        (conv3): Conv2d(128, 512, kernel_size=(1, 1), stride=(1, 1), bias=False)\n",
       "        (bn3): BatchNorm2d(512, eps=1e-05, momentum=0.1, affine=True, track_running_stats=True)\n",
       "        (relu): ReLU(inplace=True)\n",
       "      )\n",
       "      (3): Bottleneck(\n",
       "        (conv1): Conv2d(512, 128, kernel_size=(1, 1), stride=(1, 1), bias=False)\n",
       "        (bn1): BatchNorm2d(128, eps=1e-05, momentum=0.1, affine=True, track_running_stats=True)\n",
       "        (conv2): Conv2d(128, 128, kernel_size=(3, 3), stride=(1, 1), padding=(1, 1), bias=False)\n",
       "        (bn2): BatchNorm2d(128, eps=1e-05, momentum=0.1, affine=True, track_running_stats=True)\n",
       "        (conv3): Conv2d(128, 512, kernel_size=(1, 1), stride=(1, 1), bias=False)\n",
       "        (bn3): BatchNorm2d(512, eps=1e-05, momentum=0.1, affine=True, track_running_stats=True)\n",
       "        (relu): ReLU(inplace=True)\n",
       "      )\n",
       "    )\n",
       "    (layer3): Sequential(\n",
       "      (0): Bottleneck(\n",
       "        (conv1): Conv2d(512, 256, kernel_size=(1, 1), stride=(1, 1), bias=False)\n",
       "        (bn1): BatchNorm2d(256, eps=1e-05, momentum=0.1, affine=True, track_running_stats=True)\n",
       "        (conv2): Conv2d(256, 256, kernel_size=(3, 3), stride=(2, 2), padding=(1, 1), bias=False)\n",
       "        (bn2): BatchNorm2d(256, eps=1e-05, momentum=0.1, affine=True, track_running_stats=True)\n",
       "        (conv3): Conv2d(256, 1024, kernel_size=(1, 1), stride=(1, 1), bias=False)\n",
       "        (bn3): BatchNorm2d(1024, eps=1e-05, momentum=0.1, affine=True, track_running_stats=True)\n",
       "        (relu): ReLU(inplace=True)\n",
       "        (downsample): Sequential(\n",
       "          (0): Conv2d(512, 1024, kernel_size=(1, 1), stride=(2, 2), bias=False)\n",
       "          (1): BatchNorm2d(1024, eps=1e-05, momentum=0.1, affine=True, track_running_stats=True)\n",
       "        )\n",
       "      )\n",
       "      (1): Bottleneck(\n",
       "        (conv1): Conv2d(1024, 256, kernel_size=(1, 1), stride=(1, 1), bias=False)\n",
       "        (bn1): BatchNorm2d(256, eps=1e-05, momentum=0.1, affine=True, track_running_stats=True)\n",
       "        (conv2): Conv2d(256, 256, kernel_size=(3, 3), stride=(1, 1), padding=(1, 1), bias=False)\n",
       "        (bn2): BatchNorm2d(256, eps=1e-05, momentum=0.1, affine=True, track_running_stats=True)\n",
       "        (conv3): Conv2d(256, 1024, kernel_size=(1, 1), stride=(1, 1), bias=False)\n",
       "        (bn3): BatchNorm2d(1024, eps=1e-05, momentum=0.1, affine=True, track_running_stats=True)\n",
       "        (relu): ReLU(inplace=True)\n",
       "      )\n",
       "      (2): Bottleneck(\n",
       "        (conv1): Conv2d(1024, 256, kernel_size=(1, 1), stride=(1, 1), bias=False)\n",
       "        (bn1): BatchNorm2d(256, eps=1e-05, momentum=0.1, affine=True, track_running_stats=True)\n",
       "        (conv2): Conv2d(256, 256, kernel_size=(3, 3), stride=(1, 1), padding=(1, 1), bias=False)\n",
       "        (bn2): BatchNorm2d(256, eps=1e-05, momentum=0.1, affine=True, track_running_stats=True)\n",
       "        (conv3): Conv2d(256, 1024, kernel_size=(1, 1), stride=(1, 1), bias=False)\n",
       "        (bn3): BatchNorm2d(1024, eps=1e-05, momentum=0.1, affine=True, track_running_stats=True)\n",
       "        (relu): ReLU(inplace=True)\n",
       "      )\n",
       "      (3): Bottleneck(\n",
       "        (conv1): Conv2d(1024, 256, kernel_size=(1, 1), stride=(1, 1), bias=False)\n",
       "        (bn1): BatchNorm2d(256, eps=1e-05, momentum=0.1, affine=True, track_running_stats=True)\n",
       "        (conv2): Conv2d(256, 256, kernel_size=(3, 3), stride=(1, 1), padding=(1, 1), bias=False)\n",
       "        (bn2): BatchNorm2d(256, eps=1e-05, momentum=0.1, affine=True, track_running_stats=True)\n",
       "        (conv3): Conv2d(256, 1024, kernel_size=(1, 1), stride=(1, 1), bias=False)\n",
       "        (bn3): BatchNorm2d(1024, eps=1e-05, momentum=0.1, affine=True, track_running_stats=True)\n",
       "        (relu): ReLU(inplace=True)\n",
       "      )\n",
       "      (4): Bottleneck(\n",
       "        (conv1): Conv2d(1024, 256, kernel_size=(1, 1), stride=(1, 1), bias=False)\n",
       "        (bn1): BatchNorm2d(256, eps=1e-05, momentum=0.1, affine=True, track_running_stats=True)\n",
       "        (conv2): Conv2d(256, 256, kernel_size=(3, 3), stride=(1, 1), padding=(1, 1), bias=False)\n",
       "        (bn2): BatchNorm2d(256, eps=1e-05, momentum=0.1, affine=True, track_running_stats=True)\n",
       "        (conv3): Conv2d(256, 1024, kernel_size=(1, 1), stride=(1, 1), bias=False)\n",
       "        (bn3): BatchNorm2d(1024, eps=1e-05, momentum=0.1, affine=True, track_running_stats=True)\n",
       "        (relu): ReLU(inplace=True)\n",
       "      )\n",
       "      (5): Bottleneck(\n",
       "        (conv1): Conv2d(1024, 256, kernel_size=(1, 1), stride=(1, 1), bias=False)\n",
       "        (bn1): BatchNorm2d(256, eps=1e-05, momentum=0.1, affine=True, track_running_stats=True)\n",
       "        (conv2): Conv2d(256, 256, kernel_size=(3, 3), stride=(1, 1), padding=(1, 1), bias=False)\n",
       "        (bn2): BatchNorm2d(256, eps=1e-05, momentum=0.1, affine=True, track_running_stats=True)\n",
       "        (conv3): Conv2d(256, 1024, kernel_size=(1, 1), stride=(1, 1), bias=False)\n",
       "        (bn3): BatchNorm2d(1024, eps=1e-05, momentum=0.1, affine=True, track_running_stats=True)\n",
       "        (relu): ReLU(inplace=True)\n",
       "      )\n",
       "    )\n",
       "    (layer4): Sequential(\n",
       "      (0): Bottleneck(\n",
       "        (conv1): Conv2d(1024, 512, kernel_size=(1, 1), stride=(1, 1), bias=False)\n",
       "        (bn1): BatchNorm2d(512, eps=1e-05, momentum=0.1, affine=True, track_running_stats=True)\n",
       "        (conv2): Conv2d(512, 512, kernel_size=(3, 3), stride=(2, 2), padding=(1, 1), bias=False)\n",
       "        (bn2): BatchNorm2d(512, eps=1e-05, momentum=0.1, affine=True, track_running_stats=True)\n",
       "        (conv3): Conv2d(512, 2048, kernel_size=(1, 1), stride=(1, 1), bias=False)\n",
       "        (bn3): BatchNorm2d(2048, eps=1e-05, momentum=0.1, affine=True, track_running_stats=True)\n",
       "        (relu): ReLU(inplace=True)\n",
       "        (downsample): Sequential(\n",
       "          (0): Conv2d(1024, 2048, kernel_size=(1, 1), stride=(2, 2), bias=False)\n",
       "          (1): BatchNorm2d(2048, eps=1e-05, momentum=0.1, affine=True, track_running_stats=True)\n",
       "        )\n",
       "      )\n",
       "      (1): Bottleneck(\n",
       "        (conv1): Conv2d(2048, 512, kernel_size=(1, 1), stride=(1, 1), bias=False)\n",
       "        (bn1): BatchNorm2d(512, eps=1e-05, momentum=0.1, affine=True, track_running_stats=True)\n",
       "        (conv2): Conv2d(512, 512, kernel_size=(3, 3), stride=(1, 1), padding=(1, 1), bias=False)\n",
       "        (bn2): BatchNorm2d(512, eps=1e-05, momentum=0.1, affine=True, track_running_stats=True)\n",
       "        (conv3): Conv2d(512, 2048, kernel_size=(1, 1), stride=(1, 1), bias=False)\n",
       "        (bn3): BatchNorm2d(2048, eps=1e-05, momentum=0.1, affine=True, track_running_stats=True)\n",
       "        (relu): ReLU(inplace=True)\n",
       "      )\n",
       "      (2): Bottleneck(\n",
       "        (conv1): Conv2d(2048, 512, kernel_size=(1, 1), stride=(1, 1), bias=False)\n",
       "        (bn1): BatchNorm2d(512, eps=1e-05, momentum=0.1, affine=True, track_running_stats=True)\n",
       "        (conv2): Conv2d(512, 512, kernel_size=(3, 3), stride=(1, 1), padding=(1, 1), bias=False)\n",
       "        (bn2): BatchNorm2d(512, eps=1e-05, momentum=0.1, affine=True, track_running_stats=True)\n",
       "        (conv3): Conv2d(512, 2048, kernel_size=(1, 1), stride=(1, 1), bias=False)\n",
       "        (bn3): BatchNorm2d(2048, eps=1e-05, momentum=0.1, affine=True, track_running_stats=True)\n",
       "        (relu): ReLU(inplace=True)\n",
       "      )\n",
       "    )\n",
       "    (avgpool): AdaptiveAvgPool2d(output_size=(1, 1))\n",
       "    (fc): Linear(in_features=2048, out_features=128, bias=True)\n",
       "  )\n",
       ")"
      ]
     },
     "execution_count": 66,
     "metadata": {},
     "output_type": "execute_result"
    }
   ],
   "source": [
    "model.eval()"
   ]
  },
  {
   "cell_type": "code",
   "execution_count": 67,
   "id": "9baeaa00-0932-4952-9620-b49a1de77f88",
   "metadata": {},
   "outputs": [],
   "source": [
    "image_paths = []\n",
    "labels = []\n",
    "for folder_path,i in class_dict.items():\n",
    "    folder_images = glob.glob('CUB_200_2011/images/'+'/'+str(folder_path)+'/*')\n",
    "    image_paths.extend(folder_images)\n",
    "    labels.extend([i]*len(folder_images))"
   ]
  },
  {
   "cell_type": "code",
   "execution_count": 68,
   "id": "ba1ed4c4-806c-4b70-a1f1-fd61510cc52b",
   "metadata": {},
   "outputs": [],
   "source": [
    "from sklearn.model_selection import train_test_split\n",
    "X_train, X_test, y_train, y_test = train_test_split(image_paths, labels, test_size=config['train_test_split'],\n",
    "                                                    stratify=labels,\n",
    "                                                    random_state=config['random_seed'])"
   ]
  },
  {
   "cell_type": "code",
   "execution_count": 69,
   "id": "0df461d6-47c4-4213-8e78-aba9f59d0648",
   "metadata": {},
   "outputs": [],
   "source": [
    "train_dataset  = CUBDataset(X_train,y_train,transform)\n",
    "test_dataset  = CUBDataset(X_test,y_test,transform)"
   ]
  },
  {
   "cell_type": "code",
   "execution_count": 70,
   "id": "fba86090-7819-434c-af9f-28c001b83ad1",
   "metadata": {},
   "outputs": [
    {
     "name": "stderr",
     "output_type": "stream",
     "text": [
      "100%|█████████████████████████████████████████████████████████████████████████████████████████████████████| 295/295 [00:42<00:00,  7.01it/s]\n",
      "100%|███████████████████████████████████████████████████████████████████████████████████████████████████████| 74/74 [00:11<00:00,  6.63it/s]\n"
     ]
    }
   ],
   "source": [
    "train_embeddings, train_labels = get_all_embeddings(train_dataset, model)\n",
    "test_embeddings, test_labels = get_all_embeddings(test_dataset, model)\n",
    "train_labels = train_labels.squeeze(1)\n",
    "test_labels = test_labels.squeeze(1)"
   ]
  },
  {
   "cell_type": "code",
   "execution_count": 71,
   "id": "d3f4c51f-4298-475f-bd91-c620cb17060a",
   "metadata": {
    "scrolled": true
   },
   "outputs": [
    {
     "name": "stdout",
     "output_type": "stream",
     "text": [
      "001.Black_footed_Albatross     test samples 12   , training samples 48   : 0.8333333333333334\n",
      "002.Laysan_Albatross           test samples 12   , training samples 48   : 0.8333333333333334\n",
      "003.Sooty_Albatross            test samples 12   , training samples 46   : 0.9166666666666666\n",
      "004.Groove_billed_Ani          test samples 12   , training samples 48   : 1.0\n",
      "005.Crested_Auklet             test samples 9    , training samples 35   : 0.6666666666666666\n",
      "006.Least_Auklet               test samples 8    , training samples 33   : 0.75\n",
      "007.Parakeet_Auklet            test samples 10   , training samples 43   : 1.0\n",
      "008.Rhinoceros_Auklet          test samples 9    , training samples 39   : 1.0\n",
      "009.Brewer_Blackbird           test samples 12   , training samples 47   : 0.4166666666666667\n",
      "010.Red_winged_Blackbird       test samples 12   , training samples 48   : 0.8333333333333334\n",
      "011.Rusty_Blackbird            test samples 12   , training samples 48   : 0.6666666666666666\n",
      "012.Yellow_headed_Blackbird    test samples 11   , training samples 45   : 0.9090909090909091\n",
      "013.Bobolink                   test samples 12   , training samples 48   : 0.8333333333333334\n",
      "014.Indigo_Bunting             test samples 12   , training samples 48   : 0.8333333333333334\n",
      "015.Lazuli_Bunting             test samples 11   , training samples 47   : 0.7272727272727273\n",
      "016.Painted_Bunting            test samples 11   , training samples 47   : 0.7272727272727273\n",
      "017.Cardinal                   test samples 11   , training samples 46   : 0.9090909090909091\n",
      "018.Spotted_Catbird            test samples 9    , training samples 36   : 1.0\n",
      "019.Gray_Catbird               test samples 12   , training samples 47   : 0.9166666666666666\n",
      "020.Yellow_breasted_Chat       test samples 12   , training samples 47   : 0.8333333333333334\n",
      "021.Eastern_Towhee             test samples 12   , training samples 48   : 1.0\n",
      "022.Chuck_will_Widow           test samples 11   , training samples 45   : 0.7272727272727273\n",
      "023.Brandt_Cormorant           test samples 12   , training samples 47   : 0.5\n",
      "024.Red_faced_Cormorant        test samples 10   , training samples 42   : 0.8\n",
      "025.Pelagic_Cormorant          test samples 12   , training samples 48   : 0.5833333333333334\n",
      "026.Bronzed_Cowbird            test samples 12   , training samples 48   : 0.6666666666666666\n",
      "027.Shiny_Cowbird              test samples 12   , training samples 48   : 0.3333333333333333\n",
      "028.Brown_Creeper              test samples 12   , training samples 47   : 0.8333333333333334\n",
      "029.American_Crow              test samples 12   , training samples 48   : 0.3333333333333333\n",
      "030.Fish_Crow                  test samples 12   , training samples 48   : 0.16666666666666666\n",
      "031.Black_billed_Cuckoo        test samples 12   , training samples 48   : 0.5833333333333334\n",
      "032.Mangrove_Cuckoo            test samples 10   , training samples 43   : 0.8\n",
      "033.Yellow_billed_Cuckoo       test samples 12   , training samples 47   : 0.5\n",
      "034.Gray_crowned_Rosy_Finch    test samples 12   , training samples 47   : 0.9166666666666666\n",
      "035.Purple_Finch               test samples 12   , training samples 48   : 0.8333333333333334\n",
      "036.Northern_Flicker           test samples 12   , training samples 48   : 0.6666666666666666\n",
      "037.Acadian_Flycatcher         test samples 12   , training samples 47   : 0.4166666666666667\n",
      "038.Great_Crested_Flycatcher   test samples 12   , training samples 48   : 0.8333333333333334\n",
      "039.Least_Flycatcher           test samples 12   , training samples 47   : 0.16666666666666666\n",
      "040.Olive_sided_Flycatcher     test samples 12   , training samples 48   : 0.5833333333333334\n",
      "041.Scissor_tailed_Flycatcher  test samples 12   , training samples 48   : 0.8333333333333334\n",
      "042.Vermilion_Flycatcher       test samples 12   , training samples 48   : 1.0\n",
      "043.Yellow_bellied_Flycatcher  test samples 12   , training samples 47   : 0.4166666666666667\n",
      "044.Frigatebird                test samples 12   , training samples 48   : 0.6666666666666666\n",
      "045.Northern_Fulmar            test samples 12   , training samples 48   : 0.5833333333333334\n",
      "046.Gadwall                    test samples 12   , training samples 48   : 0.9166666666666666\n",
      "047.American_Goldfinch         test samples 12   , training samples 48   : 1.0\n",
      "048.European_Goldfinch         test samples 12   , training samples 48   : 1.0\n",
      "049.Boat_tailed_Grackle        test samples 12   , training samples 48   : 0.6666666666666666\n",
      "050.Eared_Grebe                test samples 12   , training samples 48   : 0.5833333333333334\n",
      "051.Horned_Grebe               test samples 12   , training samples 48   : 0.5\n",
      "052.Pied_billed_Grebe          test samples 12   , training samples 48   : 0.9166666666666666\n",
      "053.Western_Grebe              test samples 12   , training samples 48   : 0.9166666666666666\n",
      "054.Blue_Grosbeak              test samples 12   , training samples 48   : 0.6666666666666666\n",
      "055.Evening_Grosbeak           test samples 12   , training samples 48   : 1.0\n",
      "056.Pine_Grosbeak              test samples 12   , training samples 48   : 1.0\n",
      "057.Rose_breasted_Grosbeak     test samples 12   , training samples 48   : 0.9166666666666666\n",
      "058.Pigeon_Guillemot           test samples 12   , training samples 46   : 0.75\n",
      "059.California_Gull            test samples 12   , training samples 48   : 0.4166666666666667\n",
      "060.Glaucous_winged_Gull       test samples 12   , training samples 47   : 0.5833333333333334\n",
      "061.Heermann_Gull              test samples 12   , training samples 48   : 0.9166666666666666\n",
      "062.Herring_Gull               test samples 12   , training samples 48   : 0.08333333333333333\n",
      "063.Ivory_Gull                 test samples 12   , training samples 48   : 0.9166666666666666\n",
      "064.Ring_billed_Gull           test samples 12   , training samples 48   : 0.4166666666666667\n",
      "065.Slaty_backed_Gull          test samples 10   , training samples 40   : 0.4\n",
      "066.Western_Gull               test samples 12   , training samples 48   : 0.3333333333333333\n",
      "067.Anna_Hummingbird           test samples 12   , training samples 48   : 0.5\n",
      "068.Ruby_throated_Hummingbird  test samples 12   , training samples 48   : 0.9166666666666666\n",
      "069.Rufous_Hummingbird         test samples 12   , training samples 48   : 0.75\n",
      "070.Green_Violetear            test samples 12   , training samples 48   : 0.9166666666666666\n",
      "071.Long_tailed_Jaeger         test samples 12   , training samples 48   : 0.4166666666666667\n",
      "072.Pomarine_Jaeger            test samples 12   , training samples 48   : 0.4166666666666667\n",
      "073.Blue_Jay                   test samples 12   , training samples 48   : 0.9166666666666666\n",
      "074.Florida_Jay                test samples 12   , training samples 48   : 0.8333333333333334\n",
      "075.Green_Jay                  test samples 11   , training samples 46   : 0.9090909090909091\n",
      "076.Dark_eyed_Junco            test samples 12   , training samples 48   : 0.9166666666666666\n",
      "077.Tropical_Kingbird          test samples 12   , training samples 48   : 0.9166666666666666\n",
      "078.Gray_Kingbird              test samples 12   , training samples 47   : 0.5833333333333334\n",
      "079.Belted_Kingfisher          test samples 12   , training samples 48   : 0.8333333333333334\n",
      "080.Green_Kingfisher           test samples 12   , training samples 48   : 0.9166666666666666\n",
      "081.Pied_Kingfisher            test samples 12   , training samples 48   : 0.8333333333333334\n",
      "082.Ringed_Kingfisher          test samples 12   , training samples 48   : 0.8333333333333334\n",
      "083.White_breasted_Kingfisher  test samples 12   , training samples 48   : 0.9166666666666666\n",
      "084.Red_legged_Kittiwake       test samples 10   , training samples 43   : 0.9\n",
      "085.Horned_Lark                test samples 12   , training samples 48   : 0.9166666666666666\n",
      "086.Pacific_Loon               test samples 12   , training samples 48   : 0.6666666666666666\n",
      "087.Mallard                    test samples 12   , training samples 48   : 0.8333333333333334\n",
      "088.Western_Meadowlark         test samples 12   , training samples 48   : 1.0\n",
      "089.Hooded_Merganser           test samples 12   , training samples 48   : 0.8333333333333334\n",
      "090.Red_breasted_Merganser     test samples 12   , training samples 48   : 1.0\n",
      "091.Mockingbird                test samples 12   , training samples 48   : 0.3333333333333333\n",
      "092.Nighthawk                  test samples 12   , training samples 48   : 0.75\n",
      "093.Clark_Nutcracker           test samples 12   , training samples 48   : 0.75\n",
      "094.White_breasted_Nuthatch    test samples 12   , training samples 48   : 1.0\n",
      "095.Baltimore_Oriole           test samples 12   , training samples 48   : 0.9166666666666666\n",
      "096.Hooded_Oriole              test samples 12   , training samples 48   : 0.9166666666666666\n",
      "097.Orchard_Oriole             test samples 12   , training samples 47   : 0.6666666666666666\n",
      "098.Scott_Oriole               test samples 12   , training samples 48   : 0.9166666666666666\n",
      "099.Ovenbird                   test samples 12   , training samples 48   : 0.8333333333333334\n",
      "100.Brown_Pelican              test samples 12   , training samples 48   : 1.0\n",
      "101.White_Pelican              test samples 10   , training samples 40   : 0.9\n",
      "102.Western_Wood_Pewee         test samples 12   , training samples 48   : 0.5\n",
      "103.Sayornis                   test samples 12   , training samples 48   : 0.3333333333333333\n",
      "104.American_Pipit             test samples 12   , training samples 48   : 0.75\n",
      "105.Whip_poor_Will             test samples 10   , training samples 39   : 0.6\n",
      "106.Horned_Puffin              test samples 12   , training samples 48   : 1.0\n",
      "107.Common_Raven               test samples 12   , training samples 47   : 0.5\n",
      "108.White_necked_Raven         test samples 12   , training samples 48   : 1.0\n",
      "109.American_Redstart          test samples 12   , training samples 48   : 1.0\n",
      "110.Geococcyx                  test samples 12   , training samples 48   : 0.75\n",
      "111.Loggerhead_Shrike          test samples 12   , training samples 48   : 0.5\n",
      "112.Great_Grey_Shrike          test samples 12   , training samples 48   : 0.5833333333333334\n",
      "113.Baird_Sparrow              test samples 10   , training samples 40   : 0.7\n",
      "114.Black_throated_Sparrow     test samples 12   , training samples 48   : 0.8333333333333334\n",
      "115.Brewer_Sparrow             test samples 12   , training samples 47   : 0.4166666666666667\n",
      "116.Chipping_Sparrow           test samples 12   , training samples 48   : 0.5833333333333334\n",
      "117.Clay_colored_Sparrow       test samples 12   , training samples 47   : 0.9166666666666666\n",
      "118.House_Sparrow              test samples 12   , training samples 48   : 0.5\n",
      "119.Field_Sparrow              test samples 12   , training samples 47   : 0.6666666666666666\n",
      "120.Fox_Sparrow                test samples 12   , training samples 48   : 0.6666666666666666\n",
      "121.Grasshopper_Sparrow        test samples 12   , training samples 48   : 0.4166666666666667\n",
      "122.Harris_Sparrow             test samples 12   , training samples 48   : 0.6666666666666666\n",
      "123.Henslow_Sparrow            test samples 12   , training samples 48   : 0.5\n",
      "124.Le_Conte_Sparrow           test samples 12   , training samples 47   : 0.5\n",
      "125.Lincoln_Sparrow            test samples 12   , training samples 47   : 0.75\n",
      "126.Nelson_Sharp_tailed_Sparrow test samples 12   , training samples 47   : 0.5833333333333334\n",
      "127.Savannah_Sparrow           test samples 12   , training samples 48   : 0.4166666666666667\n",
      "128.Seaside_Sparrow            test samples 12   , training samples 48   : 0.8333333333333334\n",
      "129.Song_Sparrow               test samples 12   , training samples 48   : 0.4166666666666667\n",
      "130.Tree_Sparrow               test samples 12   , training samples 48   : 0.5833333333333334\n",
      "131.Vesper_Sparrow             test samples 12   , training samples 48   : 0.5833333333333334\n",
      "132.White_crowned_Sparrow      test samples 12   , training samples 48   : 0.5833333333333334\n",
      "133.White_throated_Sparrow     test samples 12   , training samples 48   : 0.9166666666666666\n",
      "134.Cape_Glossy_Starling       test samples 12   , training samples 48   : 1.0\n",
      "135.Bank_Swallow               test samples 12   , training samples 47   : 0.5\n",
      "136.Barn_Swallow               test samples 12   , training samples 48   : 0.6666666666666666\n",
      "137.Cliff_Swallow              test samples 12   , training samples 48   : 0.5833333333333334\n",
      "138.Tree_Swallow               test samples 12   , training samples 48   : 0.9166666666666666\n",
      "139.Scarlet_Tanager            test samples 12   , training samples 48   : 0.8333333333333334\n",
      "140.Summer_Tanager             test samples 12   , training samples 48   : 0.9166666666666666\n",
      "141.Artic_Tern                 test samples 11   , training samples 47   : 0.8181818181818182\n",
      "142.Black_Tern                 test samples 12   , training samples 48   : 0.5\n",
      "143.Caspian_Tern               test samples 12   , training samples 48   : 0.16666666666666666\n",
      "144.Common_Tern                test samples 12   , training samples 48   : 0.3333333333333333\n",
      "145.Elegant_Tern               test samples 12   , training samples 48   : 0.5\n",
      "146.Forsters_Tern              test samples 12   , training samples 48   : 0.4166666666666667\n",
      "147.Least_Tern                 test samples 12   , training samples 48   : 0.8333333333333334\n",
      "148.Green_tailed_Towhee        test samples 12   , training samples 48   : 0.8333333333333334\n",
      "149.Brown_Thrasher             test samples 12   , training samples 47   : 0.6666666666666666\n",
      "150.Sage_Thrasher              test samples 12   , training samples 48   : 0.5833333333333334\n",
      "151.Black_capped_Vireo         test samples 10   , training samples 41   : 0.7\n",
      "152.Blue_headed_Vireo          test samples 12   , training samples 48   : 0.8333333333333334\n",
      "153.Philadelphia_Vireo         test samples 12   , training samples 47   : 0.5\n",
      "154.Red_eyed_Vireo             test samples 12   , training samples 48   : 0.5833333333333334\n",
      "155.Warbling_Vireo             test samples 12   , training samples 48   : 0.5833333333333334\n",
      "156.White_eyed_Vireo           test samples 12   , training samples 48   : 0.8333333333333334\n",
      "157.Yellow_throated_Vireo      test samples 12   , training samples 47   : 0.5833333333333334\n",
      "158.Bay_breasted_Warbler       test samples 12   , training samples 48   : 0.8333333333333334\n",
      "159.Black_and_white_Warbler    test samples 12   , training samples 48   : 1.0\n",
      "160.Black_throated_Blue_Warbler test samples 12   , training samples 47   : 0.8333333333333334\n",
      "161.Blue_winged_Warbler        test samples 12   , training samples 48   : 0.9166666666666666\n",
      "162.Canada_Warbler             test samples 12   , training samples 48   : 0.75\n",
      "163.Cape_May_Warbler           test samples 12   , training samples 48   : 0.9166666666666666\n",
      "164.Cerulean_Warbler           test samples 12   , training samples 48   : 1.0\n",
      "165.Chestnut_sided_Warbler     test samples 12   , training samples 48   : 0.9166666666666666\n",
      "166.Golden_winged_Warbler      test samples 12   , training samples 47   : 0.75\n",
      "167.Hooded_Warbler             test samples 12   , training samples 48   : 0.6666666666666666\n",
      "168.Kentucky_Warbler           test samples 12   , training samples 47   : 0.8333333333333334\n",
      "169.Magnolia_Warbler           test samples 12   , training samples 47   : 0.8333333333333334\n",
      "170.Mourning_Warbler           test samples 12   , training samples 48   : 0.9166666666666666\n",
      "171.Myrtle_Warbler             test samples 12   , training samples 48   : 0.5833333333333334\n",
      "172.Nashville_Warbler          test samples 12   , training samples 48   : 0.8333333333333334\n",
      "173.Orange_crowned_Warbler     test samples 12   , training samples 48   : 0.5833333333333334\n",
      "174.Palm_Warbler               test samples 12   , training samples 48   : 0.5833333333333334\n",
      "175.Pine_Warbler               test samples 12   , training samples 48   : 0.8333333333333334\n",
      "176.Prairie_Warbler            test samples 12   , training samples 48   : 1.0\n",
      "177.Prothonotary_Warbler       test samples 12   , training samples 48   : 0.9166666666666666\n",
      "178.Swainson_Warbler           test samples 11   , training samples 45   : 0.6363636363636364\n",
      "179.Tennessee_Warbler          test samples 12   , training samples 47   : 0.25\n",
      "180.Wilson_Warbler             test samples 12   , training samples 48   : 0.75\n",
      "181.Worm_eating_Warbler        test samples 12   , training samples 47   : 0.5833333333333334\n",
      "182.Yellow_Warbler             test samples 12   , training samples 48   : 0.5833333333333334\n",
      "183.Northern_Waterthrush       test samples 12   , training samples 48   : 0.3333333333333333\n",
      "184.Louisiana_Waterthrush      test samples 12   , training samples 48   : 0.25\n",
      "185.Bohemian_Waxwing           test samples 12   , training samples 48   : 0.8333333333333334\n",
      "186.Cedar_Waxwing              test samples 12   , training samples 48   : 0.8333333333333334\n",
      "187.American_Three_toed_Woodpecker test samples 10   , training samples 40   : 0.8\n",
      "188.Pileated_Woodpecker        test samples 12   , training samples 48   : 0.6666666666666666\n",
      "189.Red_bellied_Woodpecker     test samples 12   , training samples 48   : 1.0\n",
      "190.Red_cockaded_Woodpecker    test samples 11   , training samples 47   : 0.9090909090909091\n",
      "191.Red_headed_Woodpecker      test samples 12   , training samples 48   : 0.8333333333333334\n",
      "192.Downy_Woodpecker           test samples 12   , training samples 48   : 1.0\n",
      "193.Bewick_Wren                test samples 12   , training samples 48   : 0.75\n",
      "194.Cactus_Wren                test samples 12   , training samples 48   : 1.0\n",
      "195.Carolina_Wren              test samples 12   , training samples 48   : 0.5\n",
      "196.House_Wren                 test samples 12   , training samples 47   : 0.4166666666666667\n",
      "197.Marsh_Wren                 test samples 12   , training samples 48   : 0.5833333333333334\n",
      "198.Rock_Wren                  test samples 12   , training samples 48   : 0.75\n",
      "199.Winter_Wren                test samples 12   , training samples 48   : 0.8333333333333334\n",
      "200.Common_Yellowthroat        test samples 12   , training samples 48   : 1.0\n"
     ]
    }
   ],
   "source": [
    "acc_dict2 = {}\n",
    "for i in test_labels.unique():\n",
    "    new_labels = test_labels[test_labels==i]\n",
    "    new_embeddings = test_embeddings[test_labels==i]\n",
    "    accuracies = accuracy_calculator.get_accuracy(\n",
    "        new_embeddings, new_labels, train_embeddings, train_labels, False\n",
    "    )\n",
    "    acc_dict2[data_dict[int(i.detach().cpu().numpy())]]=[ \n",
    "                  len(new_labels),\n",
    "                  len(train_labels[train_labels==i]),\n",
    "                  accuracies[\"precision_at_1\"]]\n",
    "    print(\"{:<30} test samples {:<5}, training samples {:<5}: {}\".format(data_dict[int(i.detach().cpu().numpy())],\n",
    "                                                                  len(new_labels),\n",
    "                                                                  len(train_labels[train_labels==i]),\n",
    "                                                                  accuracies[\"precision_at_1\"]))"
   ]
  },
  {
   "cell_type": "code",
   "execution_count": 72,
   "id": "a4b11cdb-01fc-426d-8708-aa4bd126db7c",
   "metadata": {},
   "outputs": [],
   "source": [
    "all_table = [[k]+v for k,v in acc_dict2.items()]\n",
    "columns = [\"class_name\", \"no. of test samples\", \"no. of train samples\", \"precision@1\"]\n",
    "train_table = wandb.Table(data=all_table, columns=columns)\n",
    "run.log({\"limited_classes_metrics\": train_table})"
   ]
  },
  {
   "cell_type": "code",
   "execution_count": 73,
   "id": "da619f84-3f14-4f62-95e1-09970154fd4c",
   "metadata": {},
   "outputs": [],
   "source": [
    "import faiss\n",
    "# Create a Faiss index\n",
    "index = faiss.IndexFlatIP(128)\n",
    "# Add some vectors to the index\n",
    "index.add(train_embeddings.detach().cpu().numpy())"
   ]
  },
  {
   "cell_type": "code",
   "execution_count": 74,
   "id": "1ee1a034-2fb6-4c8a-83a6-5dd028770c4d",
   "metadata": {},
   "outputs": [],
   "source": [
    "pred_labels = [] \n",
    "for embedding,label in zip(test_embeddings.detach().cpu().numpy(),test_labels):\n",
    "    distances, indices = index.search(embedding.reshape(1,-1).astype(np.float32), 2)\n",
    "    pred_class = train_labels[indices[0][1]]\n",
    "    pred_labels.append(pred_class)"
   ]
  },
  {
   "cell_type": "code",
   "execution_count": 75,
   "id": "7648e35a-de8c-42cc-aa9d-19fea3acdfcb",
   "metadata": {},
   "outputs": [],
   "source": [
    "pred_labels = [i.detach().cpu().numpy() for i in pred_labels]"
   ]
  },
  {
   "cell_type": "code",
   "execution_count": 76,
   "id": "0fd4ff45-4722-456e-81c0-c7a2cb8e31c7",
   "metadata": {
    "scrolled": true
   },
   "outputs": [
    {
     "name": "stdout",
     "output_type": "stream",
     "text": [
      "                                    precision    recall  f1-score   support\n",
      "\n",
      "        001.Black_footed_Albatross       0.50      0.75      0.60        12\n",
      "              002.Laysan_Albatross       0.69      0.75      0.72        12\n",
      "               003.Sooty_Albatross       0.75      0.75      0.75        12\n",
      "             004.Groove_billed_Ani       0.85      0.92      0.88        12\n",
      "                005.Crested_Auklet       0.89      0.89      0.89         9\n",
      "                  006.Least_Auklet       1.00      0.75      0.86         8\n",
      "               007.Parakeet_Auklet       0.80      0.80      0.80        10\n",
      "             008.Rhinoceros_Auklet       0.78      0.78      0.78         9\n",
      "              009.Brewer_Blackbird       0.25      0.25      0.25        12\n",
      "          010.Red_winged_Blackbird       0.85      0.92      0.88        12\n",
      "               011.Rusty_Blackbird       0.60      0.50      0.55        12\n",
      "       012.Yellow_headed_Blackbird       1.00      1.00      1.00        11\n",
      "                      013.Bobolink       1.00      0.83      0.91        12\n",
      "                014.Indigo_Bunting       0.56      0.75      0.64        12\n",
      "                015.Lazuli_Bunting       0.90      0.82      0.86        11\n",
      "               016.Painted_Bunting       1.00      0.73      0.84        11\n",
      "                      017.Cardinal       1.00      0.82      0.90        11\n",
      "               018.Spotted_Catbird       0.82      1.00      0.90         9\n",
      "                  019.Gray_Catbird       0.75      1.00      0.86        12\n",
      "          020.Yellow_breasted_Chat       0.56      0.75      0.64        12\n",
      "                021.Eastern_Towhee       0.82      0.75      0.78        12\n",
      "              022.Chuck_will_Widow       0.60      0.82      0.69        11\n",
      "              023.Brandt_Cormorant       0.62      0.42      0.50        12\n",
      "           024.Red_faced_Cormorant       0.50      0.90      0.64        10\n",
      "             025.Pelagic_Cormorant       0.42      0.42      0.42        12\n",
      "               026.Bronzed_Cowbird       0.91      0.83      0.87        12\n",
      "                 027.Shiny_Cowbird       0.25      0.25      0.25        12\n",
      "                 028.Brown_Creeper       0.83      0.83      0.83        12\n",
      "                 029.American_Crow       0.32      0.50      0.39        12\n",
      "                     030.Fish_Crow       0.38      0.25      0.30        12\n",
      "           031.Black_billed_Cuckoo       0.70      0.58      0.64        12\n",
      "               032.Mangrove_Cuckoo       0.53      0.80      0.64        10\n",
      "          033.Yellow_billed_Cuckoo       0.50      0.50      0.50        12\n",
      "       034.Gray_crowned_Rosy_Finch       0.92      0.92      0.92        12\n",
      "                  035.Purple_Finch       1.00      0.83      0.91        12\n",
      "              036.Northern_Flicker       1.00      0.83      0.91        12\n",
      "            037.Acadian_Flycatcher       0.50      0.33      0.40        12\n",
      "      038.Great_Crested_Flycatcher       0.50      0.75      0.60        12\n",
      "              039.Least_Flycatcher       0.20      0.17      0.18        12\n",
      "        040.Olive_sided_Flycatcher       0.86      0.50      0.63        12\n",
      "     041.Scissor_tailed_Flycatcher       0.79      0.92      0.85        12\n",
      "          042.Vermilion_Flycatcher       1.00      1.00      1.00        12\n",
      "     043.Yellow_bellied_Flycatcher       0.62      0.42      0.50        12\n",
      "                   044.Frigatebird       0.70      0.58      0.64        12\n",
      "               045.Northern_Fulmar       0.89      0.67      0.76        12\n",
      "                       046.Gadwall       0.92      1.00      0.96        12\n",
      "            047.American_Goldfinch       0.86      1.00      0.92        12\n",
      "            048.European_Goldfinch       0.92      1.00      0.96        12\n",
      "           049.Boat_tailed_Grackle       0.36      0.42      0.38        12\n",
      "                   050.Eared_Grebe       0.60      0.75      0.67        12\n",
      "                  051.Horned_Grebe       1.00      0.58      0.74        12\n",
      "             052.Pied_billed_Grebe       0.57      0.67      0.62        12\n",
      "                 053.Western_Grebe       0.92      0.92      0.92        12\n",
      "                 054.Blue_Grosbeak       0.73      0.67      0.70        12\n",
      "              055.Evening_Grosbeak       1.00      1.00      1.00        12\n",
      "                 056.Pine_Grosbeak       0.79      0.92      0.85        12\n",
      "        057.Rose_breasted_Grosbeak       0.92      1.00      0.96        12\n",
      "              058.Pigeon_Guillemot       0.77      0.83      0.80        12\n",
      "               059.California_Gull       0.14      0.17      0.15        12\n",
      "          060.Glaucous_winged_Gull       0.45      0.42      0.43        12\n",
      "                 061.Heermann_Gull       0.91      0.83      0.87        12\n",
      "                  062.Herring_Gull       0.38      0.42      0.40        12\n",
      "                    063.Ivory_Gull       0.80      1.00      0.89        12\n",
      "              064.Ring_billed_Gull       0.50      0.42      0.45        12\n",
      "             065.Slaty_backed_Gull       0.14      0.10      0.12        10\n",
      "                  066.Western_Gull       0.33      0.42      0.37        12\n",
      "              067.Anna_Hummingbird       0.46      0.50      0.48        12\n",
      "     068.Ruby_throated_Hummingbird       0.64      0.58      0.61        12\n",
      "            069.Rufous_Hummingbird       0.69      0.75      0.72        12\n",
      "               070.Green_Violetear       0.85      0.92      0.88        12\n",
      "            071.Long_tailed_Jaeger       0.55      0.50      0.52        12\n",
      "               072.Pomarine_Jaeger       0.60      0.50      0.55        12\n",
      "                      073.Blue_Jay       0.92      0.92      0.92        12\n",
      "                   074.Florida_Jay       0.91      0.83      0.87        12\n",
      "                     075.Green_Jay       0.92      1.00      0.96        11\n",
      "               076.Dark_eyed_Junco       0.85      0.92      0.88        12\n",
      "             077.Tropical_Kingbird       0.85      0.92      0.88        12\n",
      "                 078.Gray_Kingbird       0.82      0.75      0.78        12\n",
      "             079.Belted_Kingfisher       0.71      1.00      0.83        12\n",
      "              080.Green_Kingfisher       1.00      0.83      0.91        12\n",
      "               081.Pied_Kingfisher       1.00      0.92      0.96        12\n",
      "             082.Ringed_Kingfisher       0.83      0.83      0.83        12\n",
      "     083.White_breasted_Kingfisher       0.92      0.92      0.92        12\n",
      "          084.Red_legged_Kittiwake       0.80      0.80      0.80        10\n",
      "                   085.Horned_Lark       0.86      1.00      0.92        12\n",
      "                  086.Pacific_Loon       0.80      0.67      0.73        12\n",
      "                       087.Mallard       1.00      0.92      0.96        12\n",
      "            088.Western_Meadowlark       1.00      1.00      1.00        12\n",
      "              089.Hooded_Merganser       1.00      0.83      0.91        12\n",
      "        090.Red_breasted_Merganser       0.86      1.00      0.92        12\n",
      "                   091.Mockingbird       0.33      0.17      0.22        12\n",
      "                     092.Nighthawk       0.77      0.83      0.80        12\n",
      "              093.Clark_Nutcracker       0.91      0.83      0.87        12\n",
      "       094.White_breasted_Nuthatch       1.00      0.92      0.96        12\n",
      "              095.Baltimore_Oriole       0.83      0.83      0.83        12\n",
      "                 096.Hooded_Oriole       0.69      0.75      0.72        12\n",
      "                097.Orchard_Oriole       0.90      0.75      0.82        12\n",
      "                  098.Scott_Oriole       0.92      0.92      0.92        12\n",
      "                      099.Ovenbird       0.71      0.83      0.77        12\n",
      "                 100.Brown_Pelican       1.00      1.00      1.00        12\n",
      "                 101.White_Pelican       1.00      0.90      0.95        10\n",
      "            102.Western_Wood_Pewee       0.47      0.58      0.52        12\n",
      "                      103.Sayornis       0.50      0.50      0.50        12\n",
      "                104.American_Pipit       0.77      0.83      0.80        12\n",
      "                105.Whip_poor_Will       0.50      0.40      0.44        10\n",
      "                 106.Horned_Puffin       0.92      1.00      0.96        12\n",
      "                  107.Common_Raven       0.33      0.33      0.33        12\n",
      "            108.White_necked_Raven       0.71      0.83      0.77        12\n",
      "             109.American_Redstart       0.91      0.83      0.87        12\n",
      "                     110.Geococcyx       0.83      0.83      0.83        12\n",
      "             111.Loggerhead_Shrike       0.54      0.58      0.56        12\n",
      "             112.Great_Grey_Shrike       0.43      0.50      0.46        12\n",
      "                 113.Baird_Sparrow       0.38      0.50      0.43        10\n",
      "        114.Black_throated_Sparrow       0.82      0.75      0.78        12\n",
      "                115.Brewer_Sparrow       0.40      0.33      0.36        12\n",
      "              116.Chipping_Sparrow       0.64      0.75      0.69        12\n",
      "          117.Clay_colored_Sparrow       0.69      0.75      0.72        12\n",
      "                 118.House_Sparrow       0.70      0.58      0.64        12\n",
      "                 119.Field_Sparrow       0.60      0.75      0.67        12\n",
      "                   120.Fox_Sparrow       0.62      0.83      0.71        12\n",
      "           121.Grasshopper_Sparrow       0.50      0.42      0.45        12\n",
      "                122.Harris_Sparrow       0.90      0.75      0.82        12\n",
      "               123.Henslow_Sparrow       0.38      0.42      0.40        12\n",
      "              124.Le_Conte_Sparrow       0.50      0.50      0.50        12\n",
      "               125.Lincoln_Sparrow       0.67      0.50      0.57        12\n",
      "   126.Nelson_Sharp_tailed_Sparrow       0.90      0.75      0.82        12\n",
      "              127.Savannah_Sparrow       0.40      0.50      0.44        12\n",
      "               128.Seaside_Sparrow       0.62      0.83      0.71        12\n",
      "                  129.Song_Sparrow       0.86      0.50      0.63        12\n",
      "                  130.Tree_Sparrow       0.62      0.67      0.64        12\n",
      "                131.Vesper_Sparrow       0.56      0.75      0.64        12\n",
      "         132.White_crowned_Sparrow       0.69      0.75      0.72        12\n",
      "        133.White_throated_Sparrow       0.69      0.92      0.79        12\n",
      "          134.Cape_Glossy_Starling       1.00      0.92      0.96        12\n",
      "                  135.Bank_Swallow       0.50      0.58      0.54        12\n",
      "                  136.Barn_Swallow       0.56      0.75      0.64        12\n",
      "                 137.Cliff_Swallow       0.57      0.33      0.42        12\n",
      "                  138.Tree_Swallow       0.89      0.67      0.76        12\n",
      "               139.Scarlet_Tanager       0.92      1.00      0.96        12\n",
      "                140.Summer_Tanager       0.92      0.92      0.92        12\n",
      "                    141.Artic_Tern       0.60      0.82      0.69        11\n",
      "                    142.Black_Tern       0.71      0.42      0.53        12\n",
      "                  143.Caspian_Tern       0.67      0.33      0.44        12\n",
      "                   144.Common_Tern       0.50      0.50      0.50        12\n",
      "                  145.Elegant_Tern       0.64      0.58      0.61        12\n",
      "                 146.Forsters_Tern       0.60      0.50      0.55        12\n",
      "                    147.Least_Tern       0.64      0.75      0.69        12\n",
      "           148.Green_tailed_Towhee       0.91      0.83      0.87        12\n",
      "                149.Brown_Thrasher       0.80      0.67      0.73        12\n",
      "                 150.Sage_Thrasher       0.60      0.50      0.55        12\n",
      "            151.Black_capped_Vireo       0.82      0.90      0.86        10\n",
      "             152.Blue_headed_Vireo       0.71      0.83      0.77        12\n",
      "            153.Philadelphia_Vireo       0.50      0.50      0.50        12\n",
      "                154.Red_eyed_Vireo       0.64      0.75      0.69        12\n",
      "                155.Warbling_Vireo       0.60      0.75      0.67        12\n",
      "              156.White_eyed_Vireo       0.90      0.75      0.82        12\n",
      "         157.Yellow_throated_Vireo       0.50      0.50      0.50        12\n",
      "          158.Bay_breasted_Warbler       0.83      0.83      0.83        12\n",
      "       159.Black_and_white_Warbler       0.92      0.92      0.92        12\n",
      "   160.Black_throated_Blue_Warbler       0.90      0.75      0.82        12\n",
      "           161.Blue_winged_Warbler       1.00      0.92      0.96        12\n",
      "                162.Canada_Warbler       0.78      0.58      0.67        12\n",
      "              163.Cape_May_Warbler       0.79      0.92      0.85        12\n",
      "              164.Cerulean_Warbler       0.86      1.00      0.92        12\n",
      "        165.Chestnut_sided_Warbler       0.91      0.83      0.87        12\n",
      "         166.Golden_winged_Warbler       0.90      0.75      0.82        12\n",
      "                167.Hooded_Warbler       0.89      0.67      0.76        12\n",
      "              168.Kentucky_Warbler       0.90      0.75      0.82        12\n",
      "              169.Magnolia_Warbler       0.80      0.67      0.73        12\n",
      "              170.Mourning_Warbler       0.58      0.92      0.71        12\n",
      "                171.Myrtle_Warbler       0.73      0.67      0.70        12\n",
      "             172.Nashville_Warbler       0.64      0.58      0.61        12\n",
      "        173.Orange_crowned_Warbler       0.50      0.58      0.54        12\n",
      "                  174.Palm_Warbler       0.89      0.67      0.76        12\n",
      "                  175.Pine_Warbler       0.89      0.67      0.76        12\n",
      "               176.Prairie_Warbler       0.86      1.00      0.92        12\n",
      "          177.Prothonotary_Warbler       0.91      0.83      0.87        12\n",
      "              178.Swainson_Warbler       0.54      0.64      0.58        11\n",
      "             179.Tennessee_Warbler       0.50      0.42      0.45        12\n",
      "                180.Wilson_Warbler       0.62      0.83      0.71        12\n",
      "           181.Worm_eating_Warbler       0.70      0.58      0.64        12\n",
      "                182.Yellow_Warbler       0.70      0.58      0.64        12\n",
      "          183.Northern_Waterthrush       0.09      0.08      0.09        12\n",
      "         184.Louisiana_Waterthrush       0.57      0.33      0.42        12\n",
      "              185.Bohemian_Waxwing       1.00      0.83      0.91        12\n",
      "                 186.Cedar_Waxwing       0.92      0.92      0.92        12\n",
      "187.American_Three_toed_Woodpecker       0.83      0.50      0.62        10\n",
      "           188.Pileated_Woodpecker       1.00      0.92      0.96        12\n",
      "        189.Red_bellied_Woodpecker       0.86      1.00      0.92        12\n",
      "       190.Red_cockaded_Woodpecker       0.67      0.91      0.77        11\n",
      "         191.Red_headed_Woodpecker       1.00      0.83      0.91        12\n",
      "              192.Downy_Woodpecker       0.85      0.92      0.88        12\n",
      "                   193.Bewick_Wren       0.53      0.67      0.59        12\n",
      "                   194.Cactus_Wren       0.71      0.83      0.77        12\n",
      "                 195.Carolina_Wren       0.83      0.42      0.56        12\n",
      "                    196.House_Wren       0.50      0.50      0.50        12\n",
      "                    197.Marsh_Wren       0.38      0.25      0.30        12\n",
      "                     198.Rock_Wren       0.70      0.58      0.64        12\n",
      "                   199.Winter_Wren       0.69      0.92      0.79        12\n",
      "           200.Common_Yellowthroat       0.73      0.67      0.70        12\n",
      "\n",
      "                          accuracy                           0.71      2358\n",
      "                         macro avg       0.72      0.71      0.71      2358\n",
      "                      weighted avg       0.72      0.71      0.71      2358\n",
      "\n"
     ]
    }
   ],
   "source": [
    "from sklearn.metrics import classification_report\n",
    "print(classification_report(test_labels.detach().cpu().numpy(), pred_labels, target_names=list(class_dict.keys())))"
   ]
  },
  {
   "cell_type": "code",
   "execution_count": 77,
   "id": "f6154bd0-11f0-42b4-b860-b3b34ea93d52",
   "metadata": {},
   "outputs": [],
   "source": [
    "from sklearn.metrics import classification_report\n",
    "report = classification_report(test_labels.detach().cpu().numpy(), pred_labels, target_names=list(class_dict.keys()),output_dict=True)\n",
    "df = pd.DataFrame(report).transpose()\n",
    "df.reset_index(inplace=True)\n",
    "df.rename(columns={\"index\":'class_name'},inplace=True)\n",
    "classification_report_table = wandb.Table(dataframe=df)"
   ]
  },
  {
   "cell_type": "code",
   "execution_count": 78,
   "id": "8967c721-10c7-4d82-9c44-cf69368c9cf2",
   "metadata": {},
   "outputs": [],
   "source": [
    "run.log({\"limited_classes_classification_report\": classification_report_table})"
   ]
  },
  {
   "cell_type": "markdown",
   "id": "25ca19e9-fde4-4738-b3fe-35d7f6c3f8b8",
   "metadata": {},
   "source": [
    "## metric drop for unseen classes"
   ]
  },
  {
   "cell_type": "code",
   "execution_count": 79,
   "id": "308604b3-e2e4-48ce-b3a8-09b38ca315df",
   "metadata": {},
   "outputs": [],
   "source": [
    "unseen_class_names = sorted(key for key in acc_dict.keys() if int(key.split('.')[0]) >= 180)"
   ]
  },
  {
   "cell_type": "code",
   "execution_count": 82,
   "id": "b27e7a53-584d-410e-ad34-466aedca1350",
   "metadata": {
    "scrolled": true
   },
   "outputs": [],
   "source": [
    "comparison_table_data = []\n",
    "for class_name in unseen_class_names:\n",
    "    comparison_table_data.append([class_name,acc_dict[class_name][-1],acc_dict2[class_name][-1]])"
   ]
  },
  {
   "cell_type": "code",
   "execution_count": 83,
   "id": "abe4a706-16b2-46ac-8954-2d5ceb07abf8",
   "metadata": {
    "scrolled": true
   },
   "outputs": [
    {
     "data": {
      "text/plain": [
       "[['180.Wilson_Warbler', 0.8333333333333334, 0.75],\n",
       " ['181.Worm_eating_Warbler', 0.9166666666666666, 0.5833333333333334],\n",
       " ['182.Yellow_Warbler', 0.6666666666666666, 0.5833333333333334],\n",
       " ['183.Northern_Waterthrush', 0.5, 0.3333333333333333],\n",
       " ['184.Louisiana_Waterthrush', 0.5833333333333334, 0.25],\n",
       " ['185.Bohemian_Waxwing', 0.9166666666666666, 0.8333333333333334],\n",
       " ['186.Cedar_Waxwing', 1.0, 0.8333333333333334],\n",
       " ['187.American_Three_toed_Woodpecker', 0.8, 0.8],\n",
       " ['188.Pileated_Woodpecker', 1.0, 0.6666666666666666],\n",
       " ['189.Red_bellied_Woodpecker', 1.0, 1.0],\n",
       " ['190.Red_cockaded_Woodpecker', 0.8181818181818182, 0.9090909090909091],\n",
       " ['191.Red_headed_Woodpecker', 0.8333333333333334, 0.8333333333333334],\n",
       " ['192.Downy_Woodpecker', 1.0, 1.0],\n",
       " ['193.Bewick_Wren', 0.6666666666666666, 0.75],\n",
       " ['194.Cactus_Wren', 0.8333333333333334, 1.0],\n",
       " ['195.Carolina_Wren', 0.6666666666666666, 0.5],\n",
       " ['196.House_Wren', 0.75, 0.4166666666666667],\n",
       " ['197.Marsh_Wren', 0.75, 0.5833333333333334],\n",
       " ['198.Rock_Wren', 1.0, 0.75],\n",
       " ['199.Winter_Wren', 0.9166666666666666, 0.8333333333333334],\n",
       " ['200.Common_Yellowthroat', 0.9166666666666666, 1.0]]"
      ]
     },
     "execution_count": 83,
     "metadata": {},
     "output_type": "execute_result"
    }
   ],
   "source": [
    "comparison_table_data"
   ]
  },
  {
   "cell_type": "code",
   "execution_count": 84,
   "id": "2400629c-33f5-4b19-bbab-9d75c92dd6d4",
   "metadata": {},
   "outputs": [],
   "source": [
    "comparison_table = wandb.Table(data=comparison_table_data, columns=['class_name','all_classes_precision@1','unseen_classes_precision@1'])"
   ]
  },
  {
   "cell_type": "code",
   "execution_count": 85,
   "id": "daa9ab4f-6abe-4469-91b8-2c48f17f7400",
   "metadata": {},
   "outputs": [],
   "source": [
    "run.log({\"comparison_unseen_classes_metrics\": comparison_table})"
   ]
  },
  {
   "cell_type": "code",
   "execution_count": 86,
   "id": "288120aa-ccc7-4249-8498-63c82972342a",
   "metadata": {},
   "outputs": [],
   "source": [
    "precisions = np.array(comparison_table_data)[:,1:3].astype(np.float32)"
   ]
  },
  {
   "cell_type": "code",
   "execution_count": 87,
   "id": "aea80d7d-48d9-45b2-9b80-50df8c6f2e73",
   "metadata": {},
   "outputs": [],
   "source": [
    "wandb.log({'precision_drop_unseen_classes':np.mean(np.subtract(precisions[:,0],precisions[:,1]))})"
   ]
  },
  {
   "cell_type": "markdown",
   "id": "8474d6e8-63e1-4bd8-b170-b13a1803634e",
   "metadata": {},
   "source": [
    "## metric drop for all classes because of new unseen classes"
   ]
  },
  {
   "cell_type": "code",
   "execution_count": 88,
   "id": "0d53c17d-3ee9-4947-84a0-61e87855daf0",
   "metadata": {},
   "outputs": [],
   "source": [
    "comparison_table_data = []\n",
    "for class_name in acc_dict.keys():\n",
    "    comparison_table_data.append([class_name,acc_dict[class_name][-1],acc_dict2[class_name][-1]])"
   ]
  },
  {
   "cell_type": "code",
   "execution_count": 89,
   "id": "bd465f2b-8fd1-419f-a3bb-8daa56d9956e",
   "metadata": {},
   "outputs": [],
   "source": [
    "precisions = np.array(comparison_table_data)[:,1:3].astype(np.float32)"
   ]
  },
  {
   "cell_type": "code",
   "execution_count": 90,
   "id": "2af3e145-3fd1-4e2f-b10e-8ed86ecda2b5",
   "metadata": {
    "scrolled": true
   },
   "outputs": [
    {
     "data": {
      "text/plain": [
       "array([[0.9166667 , 0.8333333 ],\n",
       "       [0.6666667 , 0.8333333 ],\n",
       "       [0.8333333 , 0.9166667 ],\n",
       "       [1.        , 1.        ],\n",
       "       [0.7777778 , 0.6666667 ],\n",
       "       [0.875     , 0.75      ],\n",
       "       [1.        , 1.        ],\n",
       "       [0.6666667 , 1.        ],\n",
       "       [0.41666666, 0.41666666],\n",
       "       [1.        , 0.8333333 ],\n",
       "       [0.5833333 , 0.6666667 ],\n",
       "       [1.        , 0.90909094],\n",
       "       [0.8333333 , 0.8333333 ],\n",
       "       [0.8333333 , 0.8333333 ],\n",
       "       [0.8181818 , 0.72727275],\n",
       "       [0.72727275, 0.72727275],\n",
       "       [0.90909094, 0.90909094],\n",
       "       [1.        , 1.        ],\n",
       "       [0.9166667 , 0.9166667 ],\n",
       "       [0.8333333 , 0.8333333 ],\n",
       "       [0.9166667 , 1.        ],\n",
       "       [0.8181818 , 0.72727275],\n",
       "       [0.41666666, 0.5       ],\n",
       "       [1.        , 0.8       ],\n",
       "       [0.6666667 , 0.5833333 ],\n",
       "       [0.75      , 0.6666667 ],\n",
       "       [0.33333334, 0.33333334],\n",
       "       [1.        , 0.8333333 ],\n",
       "       [0.41666666, 0.33333334],\n",
       "       [0.08333334, 0.16666667],\n",
       "       [0.5833333 , 0.5833333 ],\n",
       "       [0.6       , 0.8       ],\n",
       "       [0.5833333 , 0.5       ],\n",
       "       [1.        , 0.9166667 ],\n",
       "       [0.9166667 , 0.8333333 ],\n",
       "       [0.75      , 0.6666667 ],\n",
       "       [0.6666667 , 0.41666666],\n",
       "       [0.8333333 , 0.8333333 ],\n",
       "       [0.5833333 , 0.16666667],\n",
       "       [0.5       , 0.5833333 ],\n",
       "       [0.9166667 , 0.8333333 ],\n",
       "       [1.        , 1.        ],\n",
       "       [0.25      , 0.41666666],\n",
       "       [0.6666667 , 0.6666667 ],\n",
       "       [0.75      , 0.5833333 ],\n",
       "       [1.        , 0.9166667 ],\n",
       "       [0.9166667 , 1.        ],\n",
       "       [1.        , 1.        ],\n",
       "       [0.75      , 0.6666667 ],\n",
       "       [0.8333333 , 0.5833333 ],\n",
       "       [0.6666667 , 0.5       ],\n",
       "       [0.8333333 , 0.9166667 ],\n",
       "       [0.9166667 , 0.9166667 ],\n",
       "       [0.75      , 0.6666667 ],\n",
       "       [1.        , 1.        ],\n",
       "       [1.        , 1.        ],\n",
       "       [0.9166667 , 0.9166667 ],\n",
       "       [0.8333333 , 0.75      ],\n",
       "       [0.16666667, 0.41666666],\n",
       "       [0.33333334, 0.5833333 ],\n",
       "       [0.9166667 , 0.9166667 ],\n",
       "       [0.25      , 0.08333334],\n",
       "       [0.9166667 , 0.9166667 ],\n",
       "       [0.41666666, 0.41666666],\n",
       "       [0.6       , 0.4       ],\n",
       "       [0.6666667 , 0.33333334],\n",
       "       [0.41666666, 0.5       ],\n",
       "       [0.75      , 0.9166667 ],\n",
       "       [0.9166667 , 0.75      ],\n",
       "       [0.9166667 , 0.9166667 ],\n",
       "       [0.5       , 0.41666666],\n",
       "       [0.5833333 , 0.41666666],\n",
       "       [0.8333333 , 0.9166667 ],\n",
       "       [0.9166667 , 0.8333333 ],\n",
       "       [1.        , 0.90909094],\n",
       "       [0.9166667 , 0.9166667 ],\n",
       "       [1.        , 0.9166667 ],\n",
       "       [0.6666667 , 0.5833333 ],\n",
       "       [1.        , 0.8333333 ],\n",
       "       [0.9166667 , 0.9166667 ],\n",
       "       [0.75      , 0.8333333 ],\n",
       "       [0.5       , 0.8333333 ],\n",
       "       [0.9166667 , 0.9166667 ],\n",
       "       [1.        , 0.9       ],\n",
       "       [1.        , 0.9166667 ],\n",
       "       [0.8333333 , 0.6666667 ],\n",
       "       [0.9166667 , 0.8333333 ],\n",
       "       [1.        , 1.        ],\n",
       "       [0.8333333 , 0.8333333 ],\n",
       "       [1.        , 1.        ],\n",
       "       [0.5833333 , 0.33333334],\n",
       "       [0.5833333 , 0.75      ],\n",
       "       [0.9166667 , 0.75      ],\n",
       "       [1.        , 1.        ],\n",
       "       [1.        , 0.9166667 ],\n",
       "       [0.9166667 , 0.9166667 ],\n",
       "       [0.6666667 , 0.6666667 ],\n",
       "       [0.8333333 , 0.9166667 ],\n",
       "       [0.8333333 , 0.8333333 ],\n",
       "       [0.9166667 , 1.        ],\n",
       "       [0.9       , 0.9       ],\n",
       "       [0.6666667 , 0.5       ],\n",
       "       [0.41666666, 0.33333334],\n",
       "       [0.75      , 0.75      ],\n",
       "       [0.4       , 0.6       ],\n",
       "       [1.        , 1.        ],\n",
       "       [0.25      , 0.5       ],\n",
       "       [0.9166667 , 1.        ],\n",
       "       [1.        , 1.        ],\n",
       "       [0.9166667 , 0.75      ],\n",
       "       [0.5       , 0.5       ],\n",
       "       [0.41666666, 0.5833333 ],\n",
       "       [0.7       , 0.7       ],\n",
       "       [0.8333333 , 0.8333333 ],\n",
       "       [0.6666667 , 0.41666666],\n",
       "       [0.6666667 , 0.5833333 ],\n",
       "       [0.8333333 , 0.9166667 ],\n",
       "       [0.41666666, 0.5       ],\n",
       "       [0.6666667 , 0.6666667 ],\n",
       "       [0.75      , 0.6666667 ],\n",
       "       [0.41666666, 0.41666666],\n",
       "       [0.5833333 , 0.6666667 ],\n",
       "       [0.5833333 , 0.5       ],\n",
       "       [0.5       , 0.5       ],\n",
       "       [0.5833333 , 0.75      ],\n",
       "       [0.8333333 , 0.5833333 ],\n",
       "       [0.5833333 , 0.41666666],\n",
       "       [0.8333333 , 0.8333333 ],\n",
       "       [0.5833333 , 0.41666666],\n",
       "       [0.8333333 , 0.5833333 ],\n",
       "       [0.75      , 0.5833333 ],\n",
       "       [0.8333333 , 0.5833333 ],\n",
       "       [1.        , 0.9166667 ],\n",
       "       [0.9166667 , 1.        ],\n",
       "       [0.5833333 , 0.5       ],\n",
       "       [0.5       , 0.6666667 ],\n",
       "       [0.8333333 , 0.5833333 ],\n",
       "       [0.8333333 , 0.9166667 ],\n",
       "       [1.        , 0.8333333 ],\n",
       "       [1.        , 0.9166667 ],\n",
       "       [0.72727275, 0.8181818 ],\n",
       "       [0.5       , 0.5       ],\n",
       "       [0.25      , 0.16666667],\n",
       "       [0.33333334, 0.33333334],\n",
       "       [0.5833333 , 0.5       ],\n",
       "       [0.5833333 , 0.41666666],\n",
       "       [0.8333333 , 0.8333333 ],\n",
       "       [0.9166667 , 0.8333333 ],\n",
       "       [0.8333333 , 0.6666667 ],\n",
       "       [0.6666667 , 0.5833333 ],\n",
       "       [0.9       , 0.7       ],\n",
       "       [0.75      , 0.8333333 ],\n",
       "       [0.6666667 , 0.5       ],\n",
       "       [0.75      , 0.5833333 ],\n",
       "       [0.5833333 , 0.5833333 ],\n",
       "       [0.75      , 0.8333333 ],\n",
       "       [0.6666667 , 0.5833333 ],\n",
       "       [0.8333333 , 0.8333333 ],\n",
       "       [1.        , 1.        ],\n",
       "       [0.75      , 0.8333333 ],\n",
       "       [0.9166667 , 0.9166667 ],\n",
       "       [0.75      , 0.75      ],\n",
       "       [0.9166667 , 0.9166667 ],\n",
       "       [1.        , 1.        ],\n",
       "       [0.8333333 , 0.9166667 ],\n",
       "       [0.8333333 , 0.75      ],\n",
       "       [0.75      , 0.6666667 ],\n",
       "       [0.9166667 , 0.8333333 ],\n",
       "       [0.8333333 , 0.8333333 ],\n",
       "       [0.8333333 , 0.9166667 ],\n",
       "       [0.75      , 0.5833333 ],\n",
       "       [0.8333333 , 0.8333333 ],\n",
       "       [0.6666667 , 0.5833333 ],\n",
       "       [0.6666667 , 0.5833333 ],\n",
       "       [0.5       , 0.8333333 ],\n",
       "       [1.        , 1.        ],\n",
       "       [1.        , 0.9166667 ],\n",
       "       [0.6363636 , 0.6363636 ],\n",
       "       [0.41666666, 0.25      ],\n",
       "       [0.8333333 , 0.75      ],\n",
       "       [0.9166667 , 0.5833333 ],\n",
       "       [0.6666667 , 0.5833333 ],\n",
       "       [0.5       , 0.33333334],\n",
       "       [0.5833333 , 0.25      ],\n",
       "       [0.9166667 , 0.8333333 ],\n",
       "       [1.        , 0.8333333 ],\n",
       "       [0.8       , 0.8       ],\n",
       "       [1.        , 0.6666667 ],\n",
       "       [1.        , 1.        ],\n",
       "       [0.8181818 , 0.90909094],\n",
       "       [0.8333333 , 0.8333333 ],\n",
       "       [1.        , 1.        ],\n",
       "       [0.6666667 , 0.75      ],\n",
       "       [0.8333333 , 1.        ],\n",
       "       [0.6666667 , 0.5       ],\n",
       "       [0.75      , 0.41666666],\n",
       "       [0.75      , 0.5833333 ],\n",
       "       [1.        , 0.75      ],\n",
       "       [0.9166667 , 0.8333333 ],\n",
       "       [0.9166667 , 1.        ]], dtype=float32)"
      ]
     },
     "execution_count": 90,
     "metadata": {},
     "output_type": "execute_result"
    }
   ],
   "source": [
    "precisions"
   ]
  },
  {
   "cell_type": "code",
   "execution_count": 91,
   "id": "7d8a6e83-8a54-44f6-9f00-2842e8b53e6a",
   "metadata": {},
   "outputs": [],
   "source": [
    "wandb.log({'precision_drop_all_classes':np.mean(np.subtract(precisions[:,0],precisions[:,1]))})"
   ]
  },
  {
   "cell_type": "code",
   "execution_count": null,
   "id": "3a2d6dd0-2165-4c2d-a053-51454eed7af9",
   "metadata": {},
   "outputs": [],
   "source": []
  },
  {
   "cell_type": "code",
   "execution_count": null,
   "id": "ac9feb7c-c00a-4532-8cb3-f1d89e2e1864",
   "metadata": {},
   "outputs": [],
   "source": []
  }
 ],
 "metadata": {
  "kernelspec": {
   "display_name": "Python 3 (ipykernel)",
   "language": "python",
   "name": "python3"
  },
  "language_info": {
   "codemirror_mode": {
    "name": "ipython",
    "version": 3
   },
   "file_extension": ".py",
   "mimetype": "text/x-python",
   "name": "python",
   "nbconvert_exporter": "python",
   "pygments_lexer": "ipython3",
   "version": "3.10.11"
  }
 },
 "nbformat": 4,
 "nbformat_minor": 5
}
